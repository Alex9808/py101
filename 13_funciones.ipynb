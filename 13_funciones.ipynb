{
 "cells": [
  {
   "cell_type": "markdown",
   "metadata": {},
   "source": [
    "[![imagenes](imagenes/pythonista.png)](https://pythonista.mx)"
   ]
  },
  {
   "cell_type": "markdown",
   "metadata": {},
   "source": [
    "# Funciones\n",
    "\n",
    "Las funciones son piezas de código delimitadas y a las que se les puede asignar un nombre con el que pueden ser invocadas. Las funciones son uno de varios tipos invocables (callable) de Python.\n",
    "\n",
    "## Definición de una función.\n",
    "\n",
    "De forma general, las funciones en Python se definen de la siguiente manera:\n",
    "\n",
    "```\n",
    "def <nombre>(<parámetros>):\n",
    "    <código>\n",
    "```\n",
    "\n",
    "Las funciones se invocan de la siguiente manera:\n",
    "\n",
    "```\n",
    "<nombre>(<argumentos>)\n",
    "```\n",
    "A lo largo del curso se han invocado múltiples funciones.\n",
    "\n",
    "### Definición de una función mínima.\n",
    "\n",
    "```python\n",
    ">>>> def funcion():\n",
    "...      pass\n",
    "```\n",
    "\n",
    "##### La declaración _pass_.\n",
    "\n",
    "La declaración _pass_ no realiza ninguna acción, pero evita que se genere un error de indentación al crear una función vacía.\n",
    "\n",
    "Cuando la función que se acaba de definir se invoca, no ocurre nada.\n",
    "\n",
    "**Ejemplo:**"
   ]
  },
  {
   "cell_type": "code",
   "execution_count": 3,
   "metadata": {},
   "outputs": [],
   "source": [
    "def funcion():\n",
    "    pass"
   ]
  },
  {
   "cell_type": "code",
   "execution_count": 4,
   "metadata": {},
   "outputs": [],
   "source": [
    "funcion()"
   ]
  },
  {
   "cell_type": "code",
   "execution_count": 6,
   "metadata": {},
   "outputs": [
    {
     "name": "stdout",
     "output_type": "stream",
     "text": [
      "None\n"
     ]
    }
   ],
   "source": [
    "print(funcion())"
   ]
  },
  {
   "cell_type": "code",
   "execution_count": 7,
   "metadata": {},
   "outputs": [
    {
     "data": {
      "text/plain": [
       "function"
      ]
     },
     "execution_count": 7,
     "metadata": {},
     "output_type": "execute_result"
    }
   ],
   "source": [
    "type(funcion)"
   ]
  },
  {
   "cell_type": "markdown",
   "metadata": {},
   "source": [
    "### Una función con código.\n",
    "\n",
    "**Ejemplo:** \n",
    "La siguiente función desplegará un mensaje al ser invocada."
   ]
  },
  {
   "cell_type": "code",
   "execution_count": 8,
   "metadata": {},
   "outputs": [],
   "source": [
    "def saludo():\n",
    "    print('Hola')"
   ]
  },
  {
   "cell_type": "code",
   "execution_count": 13,
   "metadata": {},
   "outputs": [
    {
     "name": "stdout",
     "output_type": "stream",
     "text": [
      "Hola\n"
     ]
    }
   ],
   "source": [
    "saludo()"
   ]
  },
  {
   "cell_type": "markdown",
   "metadata": {},
   "source": [
    "## Las funciones son objetos.\n",
    "\n",
    "En Python, las funciones son objetos.\n",
    "\n",
    "**Ejemplo:**"
   ]
  },
  {
   "cell_type": "code",
   "execution_count": 15,
   "metadata": {},
   "outputs": [],
   "source": [
    "def saludo():\n",
    "    print( 'Hola')"
   ]
  },
  {
   "cell_type": "code",
   "execution_count": 16,
   "metadata": {
    "scrolled": true
   },
   "outputs": [
    {
     "data": {
      "text/plain": [
       "['__annotations__',\n",
       " '__call__',\n",
       " '__class__',\n",
       " '__closure__',\n",
       " '__code__',\n",
       " '__defaults__',\n",
       " '__delattr__',\n",
       " '__dict__',\n",
       " '__dir__',\n",
       " '__doc__',\n",
       " '__eq__',\n",
       " '__format__',\n",
       " '__ge__',\n",
       " '__get__',\n",
       " '__getattribute__',\n",
       " '__globals__',\n",
       " '__gt__',\n",
       " '__hash__',\n",
       " '__init__',\n",
       " '__init_subclass__',\n",
       " '__kwdefaults__',\n",
       " '__le__',\n",
       " '__lt__',\n",
       " '__module__',\n",
       " '__name__',\n",
       " '__ne__',\n",
       " '__new__',\n",
       " '__qualname__',\n",
       " '__reduce__',\n",
       " '__reduce_ex__',\n",
       " '__repr__',\n",
       " '__setattr__',\n",
       " '__sizeof__',\n",
       " '__str__',\n",
       " '__subclasshook__']"
      ]
     },
     "execution_count": 16,
     "metadata": {},
     "output_type": "execute_result"
    }
   ],
   "source": [
    "dir(saludo)"
   ]
  },
  {
   "cell_type": "markdown",
   "metadata": {},
   "source": [
    "## Introspección.\n",
    "\n",
    "Python puede generar documentación a partir del código y los elementos de un objeto y particularmente de los comentarios de estilo docstring.\n",
    "El primer comentario usando docstring justo debajo de _def_ se utiliza como parte de la documentación de la función.\n",
    "\n",
    "**Ejemplo:**"
   ]
  },
  {
   "cell_type": "code",
   "execution_count": 24,
   "metadata": {},
   "outputs": [],
   "source": [
    "def saludo():\n",
    "    '''Imprime un mensaje de texto.'''\n",
    "    print( 'Hola')\n",
    "   "
   ]
  },
  {
   "cell_type": "code",
   "execution_count": 25,
   "metadata": {},
   "outputs": [
    {
     "name": "stdout",
     "output_type": "stream",
     "text": [
      "Help on function saludo in module __main__:\n",
      "\n",
      "saludo()\n",
      "    Imprime un mensaje de texto.\n",
      "\n"
     ]
    }
   ],
   "source": [
    "help(saludo)"
   ]
  },
  {
   "cell_type": "markdown",
   "metadata": {},
   "source": [
    "## Ámbitos.\n",
    "\n",
    "El intérprete de Python cuenta con un espacio de nombres en el que se ligan los objetos mediante la asignación de un nombre. Del mismo modo, las funciones crean su propio espacio de nombres, el cual deja de existir tan pronto como la función invocada concluye su ejecución.\n",
    "\n",
    "A estos espacios de nombres diferenciados se les conoce como ámbitos y evita que objetos definidos con nombres idénticos dentro de una función sobrescriban el espacio de nombres del intérprete.\n",
    "\n",
    "**Ejemplo:**"
   ]
  },
  {
   "cell_type": "code",
   "execution_count": 26,
   "metadata": {},
   "outputs": [],
   "source": [
    "objeto = \"Hola\"\n",
    "def funcion():\n",
    "    objeto = 2\n",
    "    print(objeto)"
   ]
  },
  {
   "cell_type": "code",
   "execution_count": 27,
   "metadata": {},
   "outputs": [
    {
     "name": "stdout",
     "output_type": "stream",
     "text": [
      "2\n"
     ]
    }
   ],
   "source": [
    "funcion()"
   ]
  },
  {
   "cell_type": "code",
   "execution_count": 28,
   "metadata": {},
   "outputs": [
    {
     "data": {
      "text/plain": [
       "'Hola'"
      ]
     },
     "execution_count": 28,
     "metadata": {},
     "output_type": "execute_result"
    }
   ],
   "source": [
    "objeto"
   ]
  },
  {
   "cell_type": "markdown",
   "metadata": {},
   "source": [
    "### Ámbito global.\n",
    "\n",
    "El espacio de nombres del intérprete de Python corresponde al ámbito global.\n",
    "\n",
    "#### La función _globals()_.\n",
    "\n",
    "La función _globals()_ regresa el contenido del espacio de nombres del ámbito global como un objeto de tipo _dict_.\n",
    "\n",
    "Cuando se invoca la función _dir()_ sin argumentos desde el intérprete, ésta regresa un objeto de tipo _list_ con el listado de nombres del ámbito global.\n",
    "\n",
    "### Ámbitos locales.\n",
    "\n",
    "Cada función genera su propio espacio de nombres cada vez que es invocada. Cada uno de estos espacios de nombres es un ámbito local.\n",
    "\n",
    "#### La función _locals()_.\n",
    "\n",
    "La función _locals()_ regresa el contenido del espacio de nombres del ámbito local como un objeto de tipo _dict_. Cuando se invoca la función _dir()_ sin argumentos desde una función, ésta regresa un objeto de tipo _list_ con el listado de nombres del ámbito local.\n",
    "\n",
    "**Ejemplo:**\n",
    "\n",
    "Se definirá la función _ambitos()_, la cual desplegará, el contenido de su ámbito local mediante _locals()_ y _dir()_, además del espacio de nombres del ámbito global con _globals()_. Posteriormente se ejecutará la función _dir()_ desde el intérprete.\n",
    "\n"
   ]
  },
  {
   "cell_type": "code",
   "execution_count": 30,
   "metadata": {},
   "outputs": [],
   "source": [
    "def ambitos():\n",
    "    lista = [1, 2, 3]\n",
    "    nulo = None\n",
    "    print('Espacio de nombres en el ámbito local:')\n",
    "    print('%s\\n%s\\n' %(locals(), dir()))\n",
    "    print('Espacio de nombres en el ámbito global:')\n",
    "    print(globals())"
   ]
  },
  {
   "cell_type": "code",
   "execution_count": 31,
   "metadata": {},
   "outputs": [
    {
     "name": "stdout",
     "output_type": "stream",
     "text": [
      "Espacio de nombres en el ámbito local:\n",
      "{'nulo': None, 'lista': [1, 2, 3]}\n",
      "['lista', 'nulo']\n",
      "\n",
      "Espacio de nombres en el ámbito global:\n",
      "{'__name__': '__main__', '__doc__': 'Automatically created module for IPython interactive environment', '__package__': None, '__loader__': None, '__spec__': None, '__builtin__': <module 'builtins' (built-in)>, '__builtins__': <module 'builtins' (built-in)>, '_ih': ['', 'def funcion():', 'def funcion():\\n    #error', 'def funcion():\\n    pass', 'funcion()', 'print(funcion)', 'print(funcion())', 'type(funcion)', \"def saludo():\\n    print('Hola')\", 'saludo()', 'saludo()', 'saludo()', 'saludo()', 'saludo()', 'dir()', \"def saludo():\\n    print( 'Hola')\", 'dir(saludo)', 'funcion.__code__', 'funcion.__code__()', 'funcion.__code__', \"def saludo():\\n    '''Imprime un mensaje de texto.'''\\n    print( 'Hola')\", 'help(saludo)', \"def saludo():\\n    print( 'Hola')\\n    '''Imprime un mensaje de texto.'''\", 'help(saludo)', \"def saludo():\\n    '''Imprime un mensaje de texto.'''\\n    print( 'Hola')\\n   \", 'help(saludo)', 'objeto = \"Hola\"\\ndef funcion():\\n    objeto = 2\\n    print(objeto)', 'funcion()', 'objeto', 'ambitos()', \"def ambitos():\\n    lista = [1, 2, 3]\\n    nulo = None\\n    print('Espacio de nombres en el ámbito local:')\\n    print('%s\\\\n%s\\\\n' %(locals(), dir()))\\n    print('Espacio de nombres en el ámbito global:')\\n    print(globals())\", 'ambitos()'], '_oh': {7: <class 'function'>, 14: ['In', 'Out', '_', '_7', '__', '___', '__builtin__', '__builtins__', '__doc__', '__loader__', '__name__', '__package__', '__spec__', '_dh', '_i', '_i1', '_i10', '_i11', '_i12', '_i13', '_i14', '_i2', '_i3', '_i4', '_i5', '_i6', '_i7', '_i8', '_i9', '_ih', '_ii', '_iii', '_oh', 'exit', 'funcion', 'get_ipython', 'quit', 'saludo'], 16: ['__annotations__', '__call__', '__class__', '__closure__', '__code__', '__defaults__', '__delattr__', '__dict__', '__dir__', '__doc__', '__eq__', '__format__', '__ge__', '__get__', '__getattribute__', '__globals__', '__gt__', '__hash__', '__init__', '__init_subclass__', '__kwdefaults__', '__le__', '__lt__', '__module__', '__name__', '__ne__', '__new__', '__qualname__', '__reduce__', '__reduce_ex__', '__repr__', '__setattr__', '__sizeof__', '__str__', '__subclasshook__'], 17: <code object funcion at 0x7efd284fff60, file \"<ipython-input-3-893c7fe92cd4>\", line 1>, 19: <code object funcion at 0x7efd284fff60, file \"<ipython-input-3-893c7fe92cd4>\", line 1>, 28: 'Hola'}, '_dh': ['/opt/pythonista/py101'], 'In': ['', 'def funcion():', 'def funcion():\\n    #error', 'def funcion():\\n    pass', 'funcion()', 'print(funcion)', 'print(funcion())', 'type(funcion)', \"def saludo():\\n    print('Hola')\", 'saludo()', 'saludo()', 'saludo()', 'saludo()', 'saludo()', 'dir()', \"def saludo():\\n    print( 'Hola')\", 'dir(saludo)', 'funcion.__code__', 'funcion.__code__()', 'funcion.__code__', \"def saludo():\\n    '''Imprime un mensaje de texto.'''\\n    print( 'Hola')\", 'help(saludo)', \"def saludo():\\n    print( 'Hola')\\n    '''Imprime un mensaje de texto.'''\", 'help(saludo)', \"def saludo():\\n    '''Imprime un mensaje de texto.'''\\n    print( 'Hola')\\n   \", 'help(saludo)', 'objeto = \"Hola\"\\ndef funcion():\\n    objeto = 2\\n    print(objeto)', 'funcion()', 'objeto', 'ambitos()', \"def ambitos():\\n    lista = [1, 2, 3]\\n    nulo = None\\n    print('Espacio de nombres en el ámbito local:')\\n    print('%s\\\\n%s\\\\n' %(locals(), dir()))\\n    print('Espacio de nombres en el ámbito global:')\\n    print(globals())\", 'ambitos()'], 'Out': {7: <class 'function'>, 14: ['In', 'Out', '_', '_7', '__', '___', '__builtin__', '__builtins__', '__doc__', '__loader__', '__name__', '__package__', '__spec__', '_dh', '_i', '_i1', '_i10', '_i11', '_i12', '_i13', '_i14', '_i2', '_i3', '_i4', '_i5', '_i6', '_i7', '_i8', '_i9', '_ih', '_ii', '_iii', '_oh', 'exit', 'funcion', 'get_ipython', 'quit', 'saludo'], 16: ['__annotations__', '__call__', '__class__', '__closure__', '__code__', '__defaults__', '__delattr__', '__dict__', '__dir__', '__doc__', '__eq__', '__format__', '__ge__', '__get__', '__getattribute__', '__globals__', '__gt__', '__hash__', '__init__', '__init_subclass__', '__kwdefaults__', '__le__', '__lt__', '__module__', '__name__', '__ne__', '__new__', '__qualname__', '__reduce__', '__reduce_ex__', '__repr__', '__setattr__', '__sizeof__', '__str__', '__subclasshook__'], 17: <code object funcion at 0x7efd284fff60, file \"<ipython-input-3-893c7fe92cd4>\", line 1>, 19: <code object funcion at 0x7efd284fff60, file \"<ipython-input-3-893c7fe92cd4>\", line 1>, 28: 'Hola'}, 'get_ipython': <bound method InteractiveShell.get_ipython of <ipykernel.zmqshell.ZMQInteractiveShell object at 0x7efd2a59dd30>>, 'exit': <IPython.core.autocall.ZMQExitAutocall object at 0x7efd2a566d68>, 'quit': <IPython.core.autocall.ZMQExitAutocall object at 0x7efd2a566d68>, '_': 'Hola', '__': <code object funcion at 0x7efd284fff60, file \"<ipython-input-3-893c7fe92cd4>\", line 1>, '___': <code object funcion at 0x7efd284fff60, file \"<ipython-input-3-893c7fe92cd4>\", line 1>, '_i': \"def ambitos():\\n    lista = [1, 2, 3]\\n    nulo = None\\n    print('Espacio de nombres en el ámbito local:')\\n    print('%s\\\\n%s\\\\n' %(locals(), dir()))\\n    print('Espacio de nombres en el ámbito global:')\\n    print(globals())\", '_ii': 'ambitos()', '_iii': 'objeto', '_i1': 'def funcion():', '_i2': 'def funcion():\\n    #error', '_i3': 'def funcion():\\n    pass', 'funcion': <function funcion at 0x7efd2843abf8>, '_i4': 'funcion()', '_i5': 'print(funcion)', '_i6': 'print(funcion())', '_i7': 'type(funcion)', '_7': <class 'function'>, '_i8': \"def saludo():\\n    print('Hola')\", 'saludo': <function saludo at 0x7efd2843ab70>, '_i9': 'saludo()', '_i10': 'saludo()', '_i11': 'saludo()', '_i12': 'saludo()', '_i13': 'saludo()', '_i14': 'dir()', '_14': ['In', 'Out', '_', '_7', '__', '___', '__builtin__', '__builtins__', '__doc__', '__loader__', '__name__', '__package__', '__spec__', '_dh', '_i', '_i1', '_i10', '_i11', '_i12', '_i13', '_i14', '_i2', '_i3', '_i4', '_i5', '_i6', '_i7', '_i8', '_i9', '_ih', '_ii', '_iii', '_oh', 'exit', 'funcion', 'get_ipython', 'quit', 'saludo'], '_i15': \"def saludo():\\n    print( 'Hola')\", '_i16': 'dir(saludo)', '_16': ['__annotations__', '__call__', '__class__', '__closure__', '__code__', '__defaults__', '__delattr__', '__dict__', '__dir__', '__doc__', '__eq__', '__format__', '__ge__', '__get__', '__getattribute__', '__globals__', '__gt__', '__hash__', '__init__', '__init_subclass__', '__kwdefaults__', '__le__', '__lt__', '__module__', '__name__', '__ne__', '__new__', '__qualname__', '__reduce__', '__reduce_ex__', '__repr__', '__setattr__', '__sizeof__', '__str__', '__subclasshook__'], '_i17': 'funcion.__code__', '_17': <code object funcion at 0x7efd284fff60, file \"<ipython-input-3-893c7fe92cd4>\", line 1>, '_i18': 'funcion.__code__()', '_i19': 'funcion.__code__', '_19': <code object funcion at 0x7efd284fff60, file \"<ipython-input-3-893c7fe92cd4>\", line 1>, '_i20': \"def saludo():\\n    '''Imprime un mensaje de texto.'''\\n    print( 'Hola')\", '_i21': 'help(saludo)', '_i22': \"def saludo():\\n    print( 'Hola')\\n    '''Imprime un mensaje de texto.'''\", '_i23': 'help(saludo)', '_i24': \"def saludo():\\n    '''Imprime un mensaje de texto.'''\\n    print( 'Hola')\\n   \", '_i25': 'help(saludo)', '_i26': 'objeto = \"Hola\"\\ndef funcion():\\n    objeto = 2\\n    print(objeto)', 'objeto': 'Hola', '_i27': 'funcion()', '_i28': 'objeto', '_28': 'Hola', '_i29': 'ambitos()', '_i30': \"def ambitos():\\n    lista = [1, 2, 3]\\n    nulo = None\\n    print('Espacio de nombres en el ámbito local:')\\n    print('%s\\\\n%s\\\\n' %(locals(), dir()))\\n    print('Espacio de nombres en el ámbito global:')\\n    print(globals())\", 'ambitos': <function ambitos at 0x7efd3054bea0>, '_i31': 'ambitos()'}\n"
     ]
    }
   ],
   "source": [
    "ambitos()"
   ]
  },
  {
   "cell_type": "code",
   "execution_count": 32,
   "metadata": {},
   "outputs": [
    {
     "data": {
      "text/plain": [
       "['In',\n",
       " 'Out',\n",
       " '_',\n",
       " '_14',\n",
       " '_16',\n",
       " '_17',\n",
       " '_19',\n",
       " '_28',\n",
       " '_7',\n",
       " '__',\n",
       " '___',\n",
       " '__builtin__',\n",
       " '__builtins__',\n",
       " '__doc__',\n",
       " '__loader__',\n",
       " '__name__',\n",
       " '__package__',\n",
       " '__spec__',\n",
       " '_dh',\n",
       " '_i',\n",
       " '_i1',\n",
       " '_i10',\n",
       " '_i11',\n",
       " '_i12',\n",
       " '_i13',\n",
       " '_i14',\n",
       " '_i15',\n",
       " '_i16',\n",
       " '_i17',\n",
       " '_i18',\n",
       " '_i19',\n",
       " '_i2',\n",
       " '_i20',\n",
       " '_i21',\n",
       " '_i22',\n",
       " '_i23',\n",
       " '_i24',\n",
       " '_i25',\n",
       " '_i26',\n",
       " '_i27',\n",
       " '_i28',\n",
       " '_i29',\n",
       " '_i3',\n",
       " '_i30',\n",
       " '_i31',\n",
       " '_i32',\n",
       " '_i4',\n",
       " '_i5',\n",
       " '_i6',\n",
       " '_i7',\n",
       " '_i8',\n",
       " '_i9',\n",
       " '_ih',\n",
       " '_ii',\n",
       " '_iii',\n",
       " '_oh',\n",
       " 'ambitos',\n",
       " 'exit',\n",
       " 'funcion',\n",
       " 'get_ipython',\n",
       " 'objeto',\n",
       " 'quit',\n",
       " 'saludo']"
      ]
     },
     "execution_count": 32,
     "metadata": {},
     "output_type": "execute_result"
    }
   ],
   "source": [
    "dir()"
   ]
  },
  {
   "cell_type": "markdown",
   "metadata": {},
   "source": [
    "### Búsqueda de nombres entre ámbitos.\n",
    "\n",
    "Cuando se invoca a una función y se hace una referencia a un nombre, el intérprete primeramente busca una coincidencia dentro del ámbito local y posteriormente en el ámbito global. En caso de no encontrarla, se generará un error de tipo _NameError_.\n",
    "\n",
    "**Ejemplo:**\n",
    "\n",
    "* Se creará la función _trino()_, haciendo referencia al nombre _ave_, pero no se definirá en el ámbito global ni en el local.\n",
    "* Se invocará a la función _trino()_.\n",
    "* Se definirá a un objeto de tipo _str_ con el nombre _ave_.\n",
    "* Se invocará nuevamente a la función _trino()_.\n",
    "\n"
   ]
  },
  {
   "cell_type": "code",
   "execution_count": 33,
   "metadata": {},
   "outputs": [],
   "source": [
    "def trino():\n",
    "    print(ave * 3)"
   ]
  },
  {
   "cell_type": "code",
   "execution_count": 34,
   "metadata": {},
   "outputs": [
    {
     "ename": "NameError",
     "evalue": "name 'ave' is not defined",
     "output_type": "error",
     "traceback": [
      "\u001b[0;31m---------------------------------------------------------------------------\u001b[0m",
      "\u001b[0;31mNameError\u001b[0m                                 Traceback (most recent call last)",
      "\u001b[0;32m<ipython-input-34-53be3ae18f86>\u001b[0m in \u001b[0;36m<module>\u001b[0;34m()\u001b[0m\n\u001b[0;32m----> 1\u001b[0;31m \u001b[0mtrino\u001b[0m\u001b[0;34m(\u001b[0m\u001b[0;34m)\u001b[0m\u001b[0;34m\u001b[0m\u001b[0m\n\u001b[0m",
      "\u001b[0;32m<ipython-input-33-1fdbd5e0ef78>\u001b[0m in \u001b[0;36mtrino\u001b[0;34m()\u001b[0m\n\u001b[1;32m      1\u001b[0m \u001b[0;32mdef\u001b[0m \u001b[0mtrino\u001b[0m\u001b[0;34m(\u001b[0m\u001b[0;34m)\u001b[0m\u001b[0;34m:\u001b[0m\u001b[0;34m\u001b[0m\u001b[0m\n\u001b[0;32m----> 2\u001b[0;31m     \u001b[0mprint\u001b[0m\u001b[0;34m(\u001b[0m\u001b[0mave\u001b[0m \u001b[0;34m*\u001b[0m \u001b[0;36m3\u001b[0m\u001b[0;34m)\u001b[0m\u001b[0;34m\u001b[0m\u001b[0m\n\u001b[0m",
      "\u001b[0;31mNameError\u001b[0m: name 'ave' is not defined"
     ]
    }
   ],
   "source": [
    "trino()"
   ]
  },
  {
   "cell_type": "code",
   "execution_count": 35,
   "metadata": {},
   "outputs": [],
   "source": [
    "ave = 'pio'"
   ]
  },
  {
   "cell_type": "code",
   "execution_count": 36,
   "metadata": {},
   "outputs": [
    {
     "name": "stdout",
     "output_type": "stream",
     "text": [
      "piopiopio\n"
     ]
    }
   ],
   "source": [
    "trino()"
   ]
  },
  {
   "cell_type": "markdown",
   "metadata": {},
   "source": [
    "**Ejemplo:**\n",
    "\n",
    "* Se creará la función _multiplica()_, definiendo en el ámbito local a un objeto de tipo _int_ con el nombre _factor_ y haciendo una referencia dicho nombre.\n",
    "* Se invocará a la función _multiplica()_.\n",
    "* Se definirá a un objeto de tipo _str_ con el nombre _factor_.\n",
    "* Se invocará nuevamente a la función _multiplica()_."
   ]
  },
  {
   "cell_type": "code",
   "execution_count": 37,
   "metadata": {},
   "outputs": [],
   "source": [
    "def multiplica():\n",
    "    factor = 12\n",
    "    print(factor * 5)"
   ]
  },
  {
   "cell_type": "code",
   "execution_count": 38,
   "metadata": {},
   "outputs": [
    {
     "name": "stdout",
     "output_type": "stream",
     "text": [
      "60\n"
     ]
    }
   ],
   "source": [
    "multiplica()"
   ]
  },
  {
   "cell_type": "code",
   "execution_count": 39,
   "metadata": {},
   "outputs": [
    {
     "name": "stdout",
     "output_type": "stream",
     "text": [
      "60\n"
     ]
    }
   ],
   "source": [
    "factor = \"factor\"\n",
    "multiplica()"
   ]
  },
  {
   "cell_type": "markdown",
   "metadata": {},
   "source": [
    "### Definiendo nombres en el ámbito global con la expresión _global_.\n",
    "\n",
    "Es posible que una función pueda ligar un objeto al espacio de nombres del ámbito global mediante el uso de la expresión _global_ con la siguiente sintaxis.\n",
    "\n",
    "```\n",
    "global <nombre>\n",
    "<nombre> = <valor>\n",
    "```\n",
    "**Ejemplo:**"
   ]
  },
  {
   "cell_type": "code",
   "execution_count": 40,
   "metadata": {},
   "outputs": [],
   "source": [
    "nombre = \"Juan\""
   ]
  },
  {
   "cell_type": "code",
   "execution_count": 41,
   "metadata": {},
   "outputs": [],
   "source": [
    "def nombre_global():\n",
    "    global nombre\n",
    "    nombre = \"Hola\""
   ]
  },
  {
   "cell_type": "code",
   "execution_count": 42,
   "metadata": {},
   "outputs": [
    {
     "data": {
      "text/plain": [
       "'Juan'"
      ]
     },
     "execution_count": 42,
     "metadata": {},
     "output_type": "execute_result"
    }
   ],
   "source": [
    "nombre"
   ]
  },
  {
   "cell_type": "code",
   "execution_count": 43,
   "metadata": {},
   "outputs": [],
   "source": [
    "nombre_global()"
   ]
  },
  {
   "cell_type": "code",
   "execution_count": 44,
   "metadata": {},
   "outputs": [
    {
     "data": {
      "text/plain": [
       "'Hola'"
      ]
     },
     "execution_count": 44,
     "metadata": {},
     "output_type": "execute_result"
    }
   ],
   "source": [
    "nombre"
   ]
  },
  {
   "cell_type": "markdown",
   "metadata": {},
   "source": [
    "## Parámetros y argumentos.\n",
    "\n",
    "Es posible ingresar datos al ser invocadas a estos datos se les denomina argumentos y son ligados a nombres, los cuales se conocen como parámetros. El número de argumentos ingresados debe corresponder al número de parámetros que se definen. En caso de que no se ingresen los argumentos necesarios, se generará un error de tipo _TypeError_.\n",
    "\n",
    "**Ejemplo:**\n",
    "\n"
   ]
  },
  {
   "cell_type": "code",
   "execution_count": 45,
   "metadata": {},
   "outputs": [],
   "source": [
    "def suma(primero, segundo):\n",
    "    '''Despliega la suma de dos objetos'''\n",
    "    print(primero + segundo)"
   ]
  },
  {
   "cell_type": "code",
   "execution_count": 46,
   "metadata": {},
   "outputs": [
    {
     "name": "stdout",
     "output_type": "stream",
     "text": [
      "17\n"
     ]
    }
   ],
   "source": [
    "suma(12, 5)"
   ]
  },
  {
   "cell_type": "code",
   "execution_count": 47,
   "metadata": {},
   "outputs": [
    {
     "name": "stdout",
     "output_type": "stream",
     "text": [
      "Hola, Mundo.\n"
     ]
    }
   ],
   "source": [
    "suma('Hola, ', 'Mundo.')"
   ]
  },
  {
   "cell_type": "code",
   "execution_count": 48,
   "metadata": {},
   "outputs": [
    {
     "ename": "TypeError",
     "evalue": "suma() missing 1 required positional argument: 'segundo'",
     "output_type": "error",
     "traceback": [
      "\u001b[0;31m---------------------------------------------------------------------------\u001b[0m",
      "\u001b[0;31mTypeError\u001b[0m                                 Traceback (most recent call last)",
      "\u001b[0;32m<ipython-input-48-372196a75955>\u001b[0m in \u001b[0;36m<module>\u001b[0;34m()\u001b[0m\n\u001b[0;32m----> 1\u001b[0;31m \u001b[0msuma\u001b[0m\u001b[0;34m(\u001b[0m\u001b[0;34m'Hola'\u001b[0m\u001b[0;34m)\u001b[0m\u001b[0;34m\u001b[0m\u001b[0m\n\u001b[0m",
      "\u001b[0;31mTypeError\u001b[0m: suma() missing 1 required positional argument: 'segundo'"
     ]
    }
   ],
   "source": [
    "suma('Hola')"
   ]
  },
  {
   "cell_type": "code",
   "execution_count": 49,
   "metadata": {},
   "outputs": [
    {
     "ename": "TypeError",
     "evalue": "suma() takes 2 positional arguments but 3 were given",
     "output_type": "error",
     "traceback": [
      "\u001b[0;31m---------------------------------------------------------------------------\u001b[0m",
      "\u001b[0;31mTypeError\u001b[0m                                 Traceback (most recent call last)",
      "\u001b[0;32m<ipython-input-49-58caa00ad216>\u001b[0m in \u001b[0;36m<module>\u001b[0;34m()\u001b[0m\n\u001b[0;32m----> 1\u001b[0;31m \u001b[0msuma\u001b[0m\u001b[0;34m(\u001b[0m\u001b[0;34m'Hola, '\u001b[0m\u001b[0;34m,\u001b[0m \u001b[0;34m'Mundo'\u001b[0m\u001b[0;34m,\u001b[0m \u001b[0;34m'.'\u001b[0m\u001b[0;34m)\u001b[0m\u001b[0;34m\u001b[0m\u001b[0m\n\u001b[0m",
      "\u001b[0;31mTypeError\u001b[0m: suma() takes 2 positional arguments but 3 were given"
     ]
    }
   ],
   "source": [
    "suma('Hola, ', 'Mundo', '.')"
   ]
  },
  {
   "cell_type": "markdown",
   "metadata": {},
   "source": [
    "### Parámetros con argumentos por defecto.\n",
    "\n",
    "Es posible asignar valores por defecto a cada parámetro definido en una función mediante el operado de asignación ( *=* ).\n",
    "\n",
    "Si a todos los parámetros se les asigna un valor, entonces no es necesario ingresar argumentos al invocar la función, ya que dichos valores serán utilizados. Los argumentos que se ingresen se irán sustituyendo de izquierda a derecha.\n",
    "\n",
    "**Ejemplo:**"
   ]
  },
  {
   "cell_type": "code",
   "execution_count": 50,
   "metadata": {},
   "outputs": [],
   "source": [
    "def suma(primero=1, segundo=3):\n",
    "    '''Despliega la suma de dos objetos'''\n",
    "    print(primero + segundo)"
   ]
  },
  {
   "cell_type": "code",
   "execution_count": 51,
   "metadata": {},
   "outputs": [
    {
     "name": "stdout",
     "output_type": "stream",
     "text": [
      "4\n"
     ]
    }
   ],
   "source": [
    "suma()"
   ]
  },
  {
   "cell_type": "code",
   "execution_count": 52,
   "metadata": {},
   "outputs": [
    {
     "name": "stdout",
     "output_type": "stream",
     "text": [
      "5\n"
     ]
    }
   ],
   "source": [
    "suma(2)"
   ]
  },
  {
   "cell_type": "code",
   "execution_count": 53,
   "metadata": {},
   "outputs": [
    {
     "name": "stdout",
     "output_type": "stream",
     "text": [
      "7\n"
     ]
    }
   ],
   "source": [
    "suma(2, 5)"
   ]
  },
  {
   "cell_type": "markdown",
   "metadata": {},
   "source": [
    "Si se asignaran valores por defecto a sólo algunos parámetros, dichos valores se deben dejar a la  derecha de la lista de parámetros. De no ser así, se generará un error de tipo _SyntaxError_.\n",
    "\n",
    "**Ejemplo:**"
   ]
  },
  {
   "cell_type": "code",
   "execution_count": 54,
   "metadata": {},
   "outputs": [],
   "source": [
    "def suma(primero, segundo=3):\n",
    "    '''Despliega la suma de dos objetos'''\n",
    "    print(primero + segundo)"
   ]
  },
  {
   "cell_type": "code",
   "execution_count": 55,
   "metadata": {},
   "outputs": [
    {
     "ename": "TypeError",
     "evalue": "suma() missing 1 required positional argument: 'primero'",
     "output_type": "error",
     "traceback": [
      "\u001b[0;31m---------------------------------------------------------------------------\u001b[0m",
      "\u001b[0;31mTypeError\u001b[0m                                 Traceback (most recent call last)",
      "\u001b[0;32m<ipython-input-55-1f6ae598e611>\u001b[0m in \u001b[0;36m<module>\u001b[0;34m()\u001b[0m\n\u001b[0;32m----> 1\u001b[0;31m \u001b[0msuma\u001b[0m\u001b[0;34m(\u001b[0m\u001b[0;34m)\u001b[0m\u001b[0;34m\u001b[0m\u001b[0m\n\u001b[0m",
      "\u001b[0;31mTypeError\u001b[0m: suma() missing 1 required positional argument: 'primero'"
     ]
    }
   ],
   "source": [
    "suma()"
   ]
  },
  {
   "cell_type": "code",
   "execution_count": 56,
   "metadata": {},
   "outputs": [
    {
     "name": "stdout",
     "output_type": "stream",
     "text": [
      "5\n"
     ]
    }
   ],
   "source": [
    "suma(2)"
   ]
  },
  {
   "cell_type": "code",
   "execution_count": 57,
   "metadata": {},
   "outputs": [
    {
     "name": "stdout",
     "output_type": "stream",
     "text": [
      "243\n"
     ]
    }
   ],
   "source": [
    "suma(\"2\", \"43\")"
   ]
  },
  {
   "cell_type": "markdown",
   "metadata": {},
   "source": [
    "**Ejemplo:**"
   ]
  },
  {
   "cell_type": "code",
   "execution_count": 58,
   "metadata": {},
   "outputs": [
    {
     "ename": "SyntaxError",
     "evalue": "non-default argument follows default argument (<ipython-input-58-367742ad56da>, line 1)",
     "output_type": "error",
     "traceback": [
      "\u001b[0;36m  File \u001b[0;32m\"<ipython-input-58-367742ad56da>\"\u001b[0;36m, line \u001b[0;32m1\u001b[0m\n\u001b[0;31m    def suma(primero=1, segundo):\u001b[0m\n\u001b[0m            ^\u001b[0m\n\u001b[0;31mSyntaxError\u001b[0m\u001b[0;31m:\u001b[0m non-default argument follows default argument\n"
     ]
    }
   ],
   "source": [
    "def suma(primero=1, segundo):\n",
    "    '''Despliega la suma de dos objetos'''\n",
    "    print(primero + segundo)"
   ]
  },
  {
   "cell_type": "markdown",
   "metadata": {},
   "source": [
    "### Captura de varios argumentos en un parámetro de tipo _tuple_ (*args).\n",
    "\n",
    "Es posible definir un parámetro que acepte un número indeterminado de argumentos y que éstos queden guardados dentro de un objeto tipo _tuple_. Para esto, basta preceder al nombre del parámetro con un solo asterisco (*).\n",
    "\n",
    "**Ejemplo:**"
   ]
  },
  {
   "cell_type": "code",
   "execution_count": 60,
   "metadata": {},
   "outputs": [],
   "source": [
    "def promedio(*muestras):\n",
    "    '''Calcula el promedio de la muestra correspondiente a todos los parámetros ingresados.'''\n",
    "    promedio = sum(muestras)/len(muestras)\n",
    "    print('El promedio de la muestra de %d elementos es %.3f.' %(len(muestras), promedio))"
   ]
  },
  {
   "cell_type": "code",
   "execution_count": 63,
   "metadata": {},
   "outputs": [
    {
     "name": "stdout",
     "output_type": "stream",
     "text": [
      "El promedio de la muestra de 8 elementos es 21.375.\n"
     ]
    }
   ],
   "source": [
    "promedio(1, 3, 5, 8, 11, 24, 90, 29)"
   ]
  },
  {
   "cell_type": "code",
   "execution_count": 62,
   "metadata": {},
   "outputs": [
    {
     "name": "stdout",
     "output_type": "stream",
     "text": [
      "El promedio de la muestra de 3 elementos es 17.667.\n"
     ]
    }
   ],
   "source": [
    "promedio(14, 38, 1)"
   ]
  },
  {
   "cell_type": "markdown",
   "metadata": {},
   "source": [
    "El parámetro que recibe más de un argumento debe definirse al final de la lista de parámetros.\n",
    "\n",
    "**Ejemplo:**"
   ]
  },
  {
   "cell_type": "code",
   "execution_count": 70,
   "metadata": {},
   "outputs": [],
   "source": [
    "def promedio(titulo, *muestras):\n",
    "    '''Calcula el promedio de la muestra correspondiente a todos los parámetros ingresados con excepción\n",
    "       del primero, el cual será utilizado como título.'''\n",
    "    promedio = sum(muestras)/len(muestras)\n",
    "    print(titulo)\n",
    "    print('El promedio de la muestra de %d elementos es %.3f.' %(len(muestras), promedio))"
   ]
  },
  {
   "cell_type": "code",
   "execution_count": 71,
   "metadata": {},
   "outputs": [
    {
     "name": "stdout",
     "output_type": "stream",
     "text": [
      "Conteo de abejas en campo.\n",
      "El promedio de la muestra de 7 elementos es 43.286.\n"
     ]
    }
   ],
   "source": [
    "promedio('Conteo de abejas en campo.', 34, 45, 61, 23, 47, 41, 52)"
   ]
  },
  {
   "cell_type": "code",
   "execution_count": 72,
   "metadata": {},
   "outputs": [
    {
     "name": "stdout",
     "output_type": "stream",
     "text": [
      "1\n",
      "El promedio de la muestra de 7 elementos es 24.286.\n"
     ]
    }
   ],
   "source": [
    "promedio(1, 3, 5, 8, 11, 24, 90, 29)"
   ]
  },
  {
   "cell_type": "markdown",
   "metadata": {},
   "source": [
    "### Captura de varios argumentos en un parámetro de tipo *dict* (**kargs).\n",
    "\n",
    "Es posible definir los parámetros y valores que se ingresan a una función mediante el uso de la sintaxis _nombre = valor_ y que estos parámetros queden almacenados en un objeto tipo _dict_. Para esto, basta preceder al nombre del parámetro con doble asterisco ( _**_ ).\n",
    "\n",
    "**Ejemplo:**"
   ]
  },
  {
   "cell_type": "code",
   "execution_count": 78,
   "metadata": {},
   "outputs": [],
   "source": [
    "def superficie(**dato):\n",
    "    '''Calcula la superficie de una figura geométrica si los parámetros  ingresados\n",
    "       coinciden.'''\n",
    "    if dato[\"tipo\"] == \"Rectángulo\":\n",
    "        superficie = float(dato[\"base\"]) * float(dato[\"altura\"])\n",
    "    elif dato[\"tipo\"] == \"Triángulo\":\n",
    "        superficie = float(dato[\"base\"]) * float(dato[\"altura\"]) / 2\n",
    "    elif dato[\"tipo\"] == \"Círculo\":\n",
    "        superficie = float(dato[\"radio\"]) ** 2 * 3.14259265\n",
    "    else:\n",
    "        print(\"No puedo calcular la superficie.\")\n",
    "    print(\"La superficie del %s es de %.3f\" % (dato[\"tipo\"].lower(), superficie))"
   ]
  },
  {
   "cell_type": "code",
   "execution_count": 79,
   "metadata": {},
   "outputs": [
    {
     "name": "stdout",
     "output_type": "stream",
     "text": [
      "La superficie del rectángulo es de 660.000\n"
     ]
    }
   ],
   "source": [
    "superficie(base=22, altura=30, tipo=\"Rectángulo\")"
   ]
  },
  {
   "cell_type": "code",
   "execution_count": 82,
   "metadata": {
    "scrolled": true
   },
   "outputs": [
    {
     "name": "stdout",
     "output_type": "stream",
     "text": [
      "La superficie del círculo es de 3849.676\n"
     ]
    }
   ],
   "source": [
    "superficie(tipo=\"Círculo\", radio = 35)"
   ]
  },
  {
   "cell_type": "code",
   "execution_count": 81,
   "metadata": {},
   "outputs": [
    {
     "name": "stdout",
     "output_type": "stream",
     "text": [
      "No puedo calcular la superficie.\n"
     ]
    },
    {
     "ename": "UnboundLocalError",
     "evalue": "local variable 'superficie' referenced before assignment",
     "output_type": "error",
     "traceback": [
      "\u001b[0;31m---------------------------------------------------------------------------\u001b[0m",
      "\u001b[0;31mUnboundLocalError\u001b[0m                         Traceback (most recent call last)",
      "\u001b[0;32m<ipython-input-81-06e983d7bf86>\u001b[0m in \u001b[0;36m<module>\u001b[0;34m()\u001b[0m\n\u001b[0;32m----> 1\u001b[0;31m \u001b[0msuperficie\u001b[0m\u001b[0;34m(\u001b[0m\u001b[0mbase\u001b[0m\u001b[0;34m=\u001b[0m\u001b[0;36m22\u001b[0m\u001b[0;34m,\u001b[0m \u001b[0maltura\u001b[0m\u001b[0;34m=\u001b[0m\u001b[0;36m30\u001b[0m\u001b[0;34m,\u001b[0m \u001b[0mtipo\u001b[0m\u001b[0;34m=\u001b[0m\u001b[0;34m\"Rombo\"\u001b[0m\u001b[0;34m)\u001b[0m\u001b[0;34m\u001b[0m\u001b[0m\n\u001b[0m",
      "\u001b[0;32m<ipython-input-78-b3d0a66ba877>\u001b[0m in \u001b[0;36msuperficie\u001b[0;34m(**dato)\u001b[0m\n\u001b[1;32m     10\u001b[0m     \u001b[0;32melse\u001b[0m\u001b[0;34m:\u001b[0m\u001b[0;34m\u001b[0m\u001b[0m\n\u001b[1;32m     11\u001b[0m         \u001b[0mprint\u001b[0m\u001b[0;34m(\u001b[0m\u001b[0;34m\"No puedo calcular la superficie.\"\u001b[0m\u001b[0;34m)\u001b[0m\u001b[0;34m\u001b[0m\u001b[0m\n\u001b[0;32m---> 12\u001b[0;31m     \u001b[0mprint\u001b[0m\u001b[0;34m(\u001b[0m\u001b[0;34m\"La superficie del %s es de %.3f\"\u001b[0m \u001b[0;34m%\u001b[0m \u001b[0;34m(\u001b[0m\u001b[0mdato\u001b[0m\u001b[0;34m[\u001b[0m\u001b[0;34m\"tipo\"\u001b[0m\u001b[0;34m]\u001b[0m\u001b[0;34m.\u001b[0m\u001b[0mlower\u001b[0m\u001b[0;34m(\u001b[0m\u001b[0;34m)\u001b[0m\u001b[0;34m,\u001b[0m \u001b[0msuperficie\u001b[0m\u001b[0;34m)\u001b[0m\u001b[0;34m)\u001b[0m\u001b[0;34m\u001b[0m\u001b[0m\n\u001b[0m",
      "\u001b[0;31mUnboundLocalError\u001b[0m: local variable 'superficie' referenced before assignment"
     ]
    }
   ],
   "source": [
    "superficie(base=22, altura=30, tipo=\"Rombo\")"
   ]
  },
  {
   "cell_type": "code",
   "execution_count": 84,
   "metadata": {},
   "outputs": [
    {
     "name": "stdout",
     "output_type": "stream",
     "text": [
      "La superficie del rectángulo es de 660.000\n"
     ]
    }
   ],
   "source": [
    "superficie(base=22, altura=30, tipo=\"Rectángulo\", radio=6)"
   ]
  },
  {
   "cell_type": "markdown",
   "metadata": {},
   "source": [
    "## Funciones que regresan valores y cerraduras.\n",
    "\n",
    "Todas las funciones regresan un valor al finalizar su ejecución al cual se le puede asignar un nombre si se desea conservarlo. Por defecto, el valor que regresan es _None_, el cual a diferencia de otros valores no es desplegado por el intérprete.\n",
    "\n",
    "**Ejemplo:**"
   ]
  },
  {
   "cell_type": "code",
   "execution_count": 85,
   "metadata": {},
   "outputs": [],
   "source": [
    "def funcion():\n",
    "    pass"
   ]
  },
  {
   "cell_type": "code",
   "execution_count": 86,
   "metadata": {},
   "outputs": [
    {
     "name": "stdout",
     "output_type": "stream",
     "text": [
      "None\n"
     ]
    }
   ],
   "source": [
    "resultado = funcion()\n",
    "print(resultado)"
   ]
  },
  {
   "cell_type": "code",
   "execution_count": 87,
   "metadata": {},
   "outputs": [],
   "source": [
    "resultado"
   ]
  },
  {
   "cell_type": "markdown",
   "metadata": {
    "collapsed": true
   },
   "source": [
    "### La expresión _return_.\n",
    "\n",
    "La expresión _return_ se utiliza para regresar un objeto específico a su ámbito superior y acto seguido dar por terminada la ejecución de la función de forma similar a _break_. Pueden incluirse varias expresiones _return_ en una función, pero sólo se ejecutará la primera que se encuentre. La sintaxis es la siguiente:\n",
    "\n",
    "```\n",
    "return <objeto>\n",
    "```\n",
    "\n",
    "**Ejemplo:**"
   ]
  },
  {
   "cell_type": "code",
   "execution_count": 88,
   "metadata": {},
   "outputs": [],
   "source": [
    "def promedio(*muestras):\n",
    "    return (len(muestras), sum(muestras) / len(muestras))"
   ]
  },
  {
   "cell_type": "code",
   "execution_count": 89,
   "metadata": {},
   "outputs": [
    {
     "data": {
      "text/plain": [
       "(8, 21.375)"
      ]
     },
     "execution_count": 89,
     "metadata": {},
     "output_type": "execute_result"
    }
   ],
   "source": [
    "promedio(1, 3, 5, 8, 11, 24, 90, 29)"
   ]
  },
  {
   "cell_type": "code",
   "execution_count": 90,
   "metadata": {},
   "outputs": [],
   "source": [
    "media = promedio(1, 3, 5, 8, 11, 24, 90, 29)"
   ]
  },
  {
   "cell_type": "code",
   "execution_count": 91,
   "metadata": {},
   "outputs": [
    {
     "name": "stdout",
     "output_type": "stream",
     "text": [
      "El promedio de la muestra de 8 elementos es 21.375.\n"
     ]
    }
   ],
   "source": [
    "print('El promedio de la muestra de %d elementos es %.3f.' %(media))"
   ]
  },
  {
   "cell_type": "markdown",
   "metadata": {
    "collapsed": true
   },
   "source": [
    "### Cerraduras.\n",
    "\n",
    "El valor que regresa una función se conoce como \"cerradura\" o \"closure\" y tiene características muy particulares ya que se encuentra justo entre el ámbito local de una función y su ámbito superior.\n",
    "\n",
    "## Funciones anidadas.\n",
    "\n",
    "Python permite definir funciones dentro de otras funciones.\n",
    "\n",
    "**Ejemplo:**\n"
   ]
  },
  {
   "cell_type": "code",
   "execution_count": 92,
   "metadata": {},
   "outputs": [],
   "source": [
    "def lista_primos(limite=100):\n",
    "    '''Genera una lista de los números primos comprendidos entre el 2 y el valor de limite.'''\n",
    "    #La lista inicia con el número 2\n",
    "    lista = [2]\n",
    "   \n",
    "    def esprimo(numero):\n",
    "        '''Valida si numero es divisible entre algún elemento de lista. De ocurrir, \n",
    "        regresa False. De lo contrario, regresa True.'''\n",
    "        for primo in lista:\n",
    "            if numero % primo == 0:\n",
    "                return False\n",
    "        return True\n",
    "    \n",
    "    #Se realizará una iteración de cada número entero desde 3 hasta el valor de limite.\n",
    "    for numero in range(3, limite + 1):\n",
    "        #Si esprimo(numero) regresa True, añade el valor de numero a lista\n",
    "        if esprimo(numero):\n",
    "            lista.append(numero)\n",
    "    return lista"
   ]
  },
  {
   "cell_type": "code",
   "execution_count": 93,
   "metadata": {},
   "outputs": [
    {
     "data": {
      "text/plain": [
       "[2,\n",
       " 3,\n",
       " 5,\n",
       " 7,\n",
       " 11,\n",
       " 13,\n",
       " 17,\n",
       " 19,\n",
       " 23,\n",
       " 29,\n",
       " 31,\n",
       " 37,\n",
       " 41,\n",
       " 43,\n",
       " 47,\n",
       " 53,\n",
       " 59,\n",
       " 61,\n",
       " 67,\n",
       " 71,\n",
       " 73,\n",
       " 79,\n",
       " 83,\n",
       " 89,\n",
       " 97,\n",
       " 101,\n",
       " 103]"
      ]
     },
     "execution_count": 93,
     "metadata": {},
     "output_type": "execute_result"
    }
   ],
   "source": [
    "lista_primos(103)"
   ]
  },
  {
   "cell_type": "markdown",
   "metadata": {},
   "source": [
    "En el ejemplo anterior se definió a la función _esprimo()_ dentro de la función _listaprimos()_. Como se puede observar, el nombre _lista_ está en el espacio de nombres de _listaprimos()_, pero al estar en un entorno superior al ámbito de _esprimo()_, éste puede acceder a _lista_."
   ]
  },
  {
   "cell_type": "markdown",
   "metadata": {},
   "source": [
    "## Recursividad.\n",
    "\n",
    "Python permite hacer llamadas recursivas a una función. Es decir, que la función se invoque a si misma. \n",
    "\n",
    "Cada vez que una función se invoca a si misma, Python crea un nuevo objeto de tipo _function_ con las mismas características que la función original, pero con un ámbito totalmente nuevo y de nivel inferior a la función original.\n",
    "\n",
    "**Ejemplo:**"
   ]
  },
  {
   "cell_type": "code",
   "execution_count": 94,
   "metadata": {},
   "outputs": [],
   "source": [
    "def factorial(numero):\n",
    "    if numero == 1:\n",
    "        return 1\n",
    "    else:\n",
    "        fact = numero * factorial(numero - 1)\n",
    "        return fact"
   ]
  },
  {
   "cell_type": "code",
   "execution_count": 95,
   "metadata": {},
   "outputs": [
    {
     "data": {
      "text/plain": [
       "120"
      ]
     },
     "execution_count": 95,
     "metadata": {},
     "output_type": "execute_result"
    }
   ],
   "source": [
    "factorial(5)"
   ]
  },
  {
   "cell_type": "markdown",
   "metadata": {},
   "source": [
    "En este caso, la función _factorial()_ se invoca recursivamente, pero cada vez que lo hace, el valor del argumento decrece en 1 de forma sucesiva hasta que el parámetro _numero_ alcanza el valor de 1 y regresa dicho valor. Es entonces que la cerradura de la función de nivel inferior se multiplica por el parámetro _numero_ de la función superior hasta llegar a la función de más alto nivel.\n",
    "\n",
    "Ahora se incluirán algunas modificaciones al ejemplo anterior para ilustrar el proceso."
   ]
  },
  {
   "cell_type": "code",
   "execution_count": 96,
   "metadata": {},
   "outputs": [],
   "source": [
    "def factorial(numero):\n",
    "    print('En este ámbito, numero =', numero)\n",
    "    if numero == 1:\n",
    "        print('Llegó al final.\\nRegresa 1!')\n",
    "        return 1\n",
    "    else:\n",
    "        fact = numero * factorial(numero - 1)\n",
    "        print('Regresa %d!: %d' %(numero, fact))\n",
    "        return fact"
   ]
  },
  {
   "cell_type": "code",
   "execution_count": 97,
   "metadata": {},
   "outputs": [
    {
     "name": "stdout",
     "output_type": "stream",
     "text": [
      "En este ámbito, numero = 5\n",
      "En este ámbito, numero = 4\n",
      "En este ámbito, numero = 3\n",
      "En este ámbito, numero = 2\n",
      "En este ámbito, numero = 1\n",
      "Llegó al final.\n",
      "Regresa 1!\n",
      "Regresa 2!: 2\n",
      "Regresa 3!: 6\n",
      "Regresa 4!: 24\n",
      "Regresa 5!: 120\n"
     ]
    },
    {
     "data": {
      "text/plain": [
       "120"
      ]
     },
     "execution_count": 97,
     "metadata": {},
     "output_type": "execute_result"
    }
   ],
   "source": [
    "factorial(5)"
   ]
  },
  {
   "cell_type": "markdown",
   "metadata": {},
   "source": [
    "## Funciones de orden superior.\n",
    "\n",
    "Las funciones de orden superior son funciones que aceptan funciones como argumentos y a su vez regresan funciones.\n",
    "\n",
    "**Ejemplo:**\n",
    "\n",
    "La función _html()_ puede recibir una función y regresará una función que de por resultado el cuerpo básico de un documento en HTML5 que envuelva al resultado de la función usada como argumento. Por otro lado, la función _parrafo()_ transforma un texto en un párrafo rodeado por las etiquetas HTML correspondientes."
   ]
  },
  {
   "cell_type": "code",
   "execution_count": 98,
   "metadata": {},
   "outputs": [],
   "source": [
    "def html(funcion):\n",
    "    '''Añade las etiquetas básicas de un documento HTML5 al elemento \n",
    "       resultante del argumento funcion.'''\n",
    "    etiquetas = \"<html>\\n  <head>\\n    <title>Página</title>\\n  </head>\\n  <body>\\n    {}\\n  </body>\\n</html>\"\n",
    "    def empaqueta(texto):\n",
    "        '''Permite encerrar entre etiquetas de HTML5 al resultado de funcion(texto).'''\n",
    "        return etiquetas.format(funcion(texto))\n",
    "    return empaqueta"
   ]
  },
  {
   "cell_type": "code",
   "execution_count": 99,
   "metadata": {},
   "outputs": [
    {
     "name": "stdout",
     "output_type": "stream",
     "text": [
      "Help on function html in module __main__:\n",
      "\n",
      "html(funcion)\n",
      "    Añade las etiquetas básicas de un documento HTML5 al elemento \n",
      "    resultante del argumento funcion.\n",
      "\n"
     ]
    }
   ],
   "source": [
    "help(html)"
   ]
  },
  {
   "cell_type": "code",
   "execution_count": 100,
   "metadata": {},
   "outputs": [],
   "source": [
    "def parrafo(texto):\n",
    "    '''Encierra entre las etiquetas de párrafo al elemento texto.'''\n",
    "    return '<p>' + str(texto) + '</p>'"
   ]
  },
  {
   "cell_type": "code",
   "execution_count": 101,
   "metadata": {},
   "outputs": [
    {
     "name": "stdout",
     "output_type": "stream",
     "text": [
      "<p>Hola, Mundo.</p>\n"
     ]
    }
   ],
   "source": [
    "print(parrafo('Hola, Mundo.'))"
   ]
  },
  {
   "cell_type": "code",
   "execution_count": 102,
   "metadata": {},
   "outputs": [
    {
     "name": "stdout",
     "output_type": "stream",
     "text": [
      "Help on function parrafo in module __main__:\n",
      "\n",
      "parrafo(texto)\n",
      "    Encierra entre las etiquetas de párrafo al elemento texto.\n",
      "\n"
     ]
    }
   ],
   "source": [
    "help(parrafo)"
   ]
  },
  {
   "cell_type": "code",
   "execution_count": 103,
   "metadata": {},
   "outputs": [
    {
     "name": "stdout",
     "output_type": "stream",
     "text": [
      "<html>\n",
      "  <head>\n",
      "    <title>Página</title>\n",
      "  </head>\n",
      "  <body>\n",
      "    <p>Hola, Mundo.</p>\n",
      "  </body>\n",
      "</html>\n"
     ]
    }
   ],
   "source": [
    "print(html(parrafo)('Hola, Mundo.'))"
   ]
  },
  {
   "cell_type": "code",
   "execution_count": 104,
   "metadata": {},
   "outputs": [
    {
     "name": "stdout",
     "output_type": "stream",
     "text": [
      "Help on function empaqueta in module __main__:\n",
      "\n",
      "empaqueta(texto)\n",
      "    Permite encerrar entre etiquetas de HTML5 al resultado de funcion(texto).\n",
      "\n"
     ]
    }
   ],
   "source": [
    "help(html(parrafo))"
   ]
  },
  {
   "cell_type": "markdown",
   "metadata": {},
   "source": [
    "## Decoradores.\n",
    "\n",
    "Los decoradores son un recurso de Python que permite aplicar una función de orden superior a otra función con la siguiente sintaxis.\n",
    "\n",
    "```\n",
    "@<nombre de función de orden superior>\n",
    "def <nombre>(<argumentos>):\n",
    "    ...\n",
    "    ...\n",
    "```\n",
    "\n",
    "**Ejemplo:**\n",
    "\n",
    "Se utilizará el decorador de la función _html()_ aplicado a la función _parrafo()_."
   ]
  },
  {
   "cell_type": "code",
   "execution_count": 105,
   "metadata": {},
   "outputs": [],
   "source": [
    "def html(funcion):\n",
    "    '''Añade las etiquetas básicas de un documento HTML5 al elemento \n",
    "       resultante del argumento funcion.'''\n",
    "    etiquetas = \"<html>\\n  <head>\\n    <title>Página</title>\\n  </head>\\n  <body>\\n    {}\\n  </body>\\n</html>\"\n",
    "    def empaqueta(texto):\n",
    "        '''Permite encerrar entre etiquetas de HTML5 al resultado de funcion(texto).'''\n",
    "        return etiquetas.format(funcion(texto))\n",
    "    return empaqueta"
   ]
  },
  {
   "cell_type": "code",
   "execution_count": 106,
   "metadata": {},
   "outputs": [],
   "source": [
    "@html\n",
    "def parrafo(texto):\n",
    "    '''Encierra entre las etiquetas de párrafo al elemento texto.'''\n",
    "    return '<p>' + str(texto) + '</p>'"
   ]
  },
  {
   "cell_type": "code",
   "execution_count": 107,
   "metadata": {},
   "outputs": [
    {
     "name": "stdout",
     "output_type": "stream",
     "text": [
      "<html>\n",
      "  <head>\n",
      "    <title>Página</title>\n",
      "  </head>\n",
      "  <body>\n",
      "    <p>Hola, Mundo.</p>\n",
      "  </body>\n",
      "</html>\n"
     ]
    }
   ],
   "source": [
    "print(parrafo(\"Hola, Mundo.\"))"
   ]
  },
  {
   "cell_type": "code",
   "execution_count": 108,
   "metadata": {},
   "outputs": [
    {
     "name": "stdout",
     "output_type": "stream",
     "text": [
      "Help on function empaqueta in module __main__:\n",
      "\n",
      "empaqueta(texto)\n",
      "    Permite encerrar entre etiquetas de HTML5 al resultado de funcion(texto).\n",
      "\n"
     ]
    }
   ],
   "source": [
    "help(parrafo)"
   ]
  },
  {
   "cell_type": "markdown",
   "metadata": {},
   "source": [
    "\n",
    "## Definición de funciones con la declaración *lambda*.\n",
    "\n",
    "Python permite definir funciones en una sola línea mediante el uso del la expresión lambda con la siguiente sintaxis:\n",
    "\n",
    "```\n",
    "lambda <parámetros>: <código>\n",
    "```\n",
    "\n",
    "A este tipo de funciones se les conoce como funciones lambda o funciones anónimas debido a que no requieren de un nombre para ser definidas.\n",
    "\n",
    "Para nombrar a estas funciones se utiliza el operador de asignación ( _=_ ).\n",
    "\n",
    "**Ejemplo:**\n"
   ]
  },
  {
   "cell_type": "code",
   "execution_count": 109,
   "metadata": {},
   "outputs": [],
   "source": [
    "saluda = lambda texto='extraño', ancho=50: print('Hola, {}.'.format(texto).center(ancho))"
   ]
  },
  {
   "cell_type": "code",
   "execution_count": 110,
   "metadata": {},
   "outputs": [
    {
     "data": {
      "text/plain": [
       "function"
      ]
     },
     "execution_count": 110,
     "metadata": {},
     "output_type": "execute_result"
    }
   ],
   "source": [
    "type(saluda)"
   ]
  },
  {
   "cell_type": "code",
   "execution_count": 111,
   "metadata": {},
   "outputs": [
    {
     "name": "stdout",
     "output_type": "stream",
     "text": [
      "                  Hola, extraño.                  \n"
     ]
    }
   ],
   "source": [
    "saluda()"
   ]
  },
  {
   "cell_type": "code",
   "execution_count": 112,
   "metadata": {},
   "outputs": [
    {
     "name": "stdout",
     "output_type": "stream",
     "text": [
      "    Hola, Mundo.    \n"
     ]
    }
   ],
   "source": [
    "saluda('Mundo', 20)"
   ]
  },
  {
   "cell_type": "markdown",
   "metadata": {},
   "source": [
    "### Funciones lambda con estructuras *if*... *else*.\n",
    "\n",
    "Las funciones lambda permiten incluir condicionales dentro de su sintaxis de la siguiente forma:\n",
    "```\n",
    "lambda <argumentos>: <expresion_1> if <condición> else <expresión_2>\n",
    "```\n",
    "**Ejemplo:**\n",
    "\n",
    "*es_par* es una función que valida si un número entero ingresado como parámetro es par."
   ]
  },
  {
   "cell_type": "code",
   "execution_count": 113,
   "metadata": {},
   "outputs": [],
   "source": [
    "es_par = lambda numero: True if numero % 2 == 0 else False"
   ]
  },
  {
   "cell_type": "code",
   "execution_count": 114,
   "metadata": {},
   "outputs": [
    {
     "data": {
      "text/plain": [
       "True"
      ]
     },
     "execution_count": 114,
     "metadata": {},
     "output_type": "execute_result"
    }
   ],
   "source": [
    "es_par(2)"
   ]
  },
  {
   "cell_type": "code",
   "execution_count": 115,
   "metadata": {},
   "outputs": [
    {
     "data": {
      "text/plain": [
       "False"
      ]
     },
     "execution_count": 115,
     "metadata": {},
     "output_type": "execute_result"
    }
   ],
   "source": [
    "es_par(3)"
   ]
  },
  {
   "cell_type": "markdown",
   "metadata": {},
   "source": [
    "**Ejemplo:**\n",
    "\n",
    "La función _factorial_ calcula el factorial de un número mediante recursividad. "
   ]
  },
  {
   "cell_type": "code",
   "execution_count": 116,
   "metadata": {},
   "outputs": [],
   "source": [
    "factorial = lambda numero: numero * factorial(numero - 1) if numero > 1 else 1"
   ]
  },
  {
   "cell_type": "code",
   "execution_count": 117,
   "metadata": {},
   "outputs": [
    {
     "data": {
      "text/plain": [
       "120"
      ]
     },
     "execution_count": 117,
     "metadata": {},
     "output_type": "execute_result"
    }
   ],
   "source": [
    "factorial(5)"
   ]
  },
  {
   "cell_type": "markdown",
   "metadata": {},
   "source": [
    "<p style=\"text-align: center\"><a rel=\"license\" href=\"http://creativecommons.org/licenses/by/4.0/\"><img alt=\"Licencia Creative Commons\" style=\"border-width:0\" src=\"https://i.creativecommons.org/l/by/4.0/80x15.png\" /></a><br />Esta obra está bajo una <a rel=\"license\" href=\"http://creativecommons.org/licenses/by/4.0/\">Licencia Creative Commons Atribución 4.0 Internacional</a>.</p>\n",
    "<p style=\"text-align: center\">&copy; José Luis Chiquete Valdivieso. 2018.</p>"
   ]
  }
 ],
 "metadata": {
  "kernelspec": {
   "display_name": "Python 3",
   "language": "python",
   "name": "python3"
  },
  "language_info": {
   "codemirror_mode": {
    "name": "ipython",
    "version": 3
   },
   "file_extension": ".py",
   "mimetype": "text/x-python",
   "name": "python",
   "nbconvert_exporter": "python",
   "pygments_lexer": "ipython3",
   "version": "3.6.6"
  }
 },
 "nbformat": 4,
 "nbformat_minor": 2
}
