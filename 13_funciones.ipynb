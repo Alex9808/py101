{
 "cells": [
  {
   "cell_type": "markdown",
   "metadata": {},
   "source": [
    "[![imagenes](imagenes/pythonista.png)](https://pythonista.mx)"
   ]
  },
  {
   "cell_type": "markdown",
   "metadata": {},
   "source": [
    "# Funciones\n",
    "\n",
    "Las funciones son piezas de código delimitadas y a las que se les puede asignar un nombre con el que pueden ser invocadas. Las funciones son uno de varios tipos invocables (callable) de Python.\n",
    "\n",
    "## Definición de una función.\n",
    "\n",
    "De forma general, las funciones en Python se definen de la siguiente manera:\n",
    "\n",
    "```\n",
    "def <nombre>(<parámetros>):\n",
    "    <código>\n",
    "```\n",
    "\n",
    "Las funciones se invocan de la siguiente manera:\n",
    "\n",
    "```\n",
    "<nombre>(<argumentos>)\n",
    "```\n",
    "A lo largo del curso se han invocado múltiples funciones.\n",
    "\n",
    "### Definición de una función mínima.\n",
    "\n",
    "```python\n",
    ">>>> def funcion():\n",
    "...      pass\n",
    "```\n",
    "\n",
    "##### La declaración _pass_.\n",
    "\n",
    "La declaración _pass_ no realiza ninguna acción, pero evita que se genere un error de indentación al crear una función vacía.\n",
    "\n",
    "Cuando la función que se acaba de definir se invoca, no ocurre nada.\n",
    "\n",
    "**Ejemplo:**"
   ]
  },
  {
   "cell_type": "code",
   "execution_count": null,
   "metadata": {},
   "outputs": [],
   "source": [
    "def funcion():\n",
    "    pass"
   ]
  },
  {
   "cell_type": "code",
   "execution_count": null,
   "metadata": {},
   "outputs": [],
   "source": [
    "funcion()"
   ]
  },
  {
   "cell_type": "code",
   "execution_count": null,
   "metadata": {},
   "outputs": [],
   "source": [
    "print(funcion())"
   ]
  },
  {
   "cell_type": "code",
   "execution_count": null,
   "metadata": {},
   "outputs": [],
   "source": [
    "type(funcion)"
   ]
  },
  {
   "cell_type": "markdown",
   "metadata": {},
   "source": [
    "### Una función con código.\n",
    "\n",
    "**Ejemplo:** \n",
    "La siguiente función desplegará un mensaje al ser invocada."
   ]
  },
  {
   "cell_type": "code",
   "execution_count": null,
   "metadata": {},
   "outputs": [],
   "source": [
    "def saludo():\n",
    "    print('Hola')"
   ]
  },
  {
   "cell_type": "code",
   "execution_count": null,
   "metadata": {},
   "outputs": [],
   "source": [
    "saludo()"
   ]
  },
  {
   "cell_type": "markdown",
   "metadata": {},
   "source": [
    "## Las funciones son objetos.\n",
    "\n",
    "En Python, las funciones son objetos.\n",
    "\n",
    "**Ejemplo:**"
   ]
  },
  {
   "cell_type": "code",
   "execution_count": null,
   "metadata": {},
   "outputs": [],
   "source": [
    "def saludo():\n",
    "    print( 'Hola')"
   ]
  },
  {
   "cell_type": "code",
   "execution_count": null,
   "metadata": {
    "scrolled": true
   },
   "outputs": [],
   "source": [
    "dir(saludo)"
   ]
  },
  {
   "cell_type": "markdown",
   "metadata": {},
   "source": [
    "## Introspección.\n",
    "\n",
    "Python puede generar documentación a partir del código y los elementos de un objeto y particularmente de los comentarios de estilo docstring.\n",
    "El primer comentario usando docstring justo debajo de _def_ se utiliza como parte de la documentación de la función.\n",
    "\n",
    "**Ejemplo:**"
   ]
  },
  {
   "cell_type": "code",
   "execution_count": null,
   "metadata": {},
   "outputs": [],
   "source": [
    "def saludo():\n",
    "    '''Imprime un mensaje de texto.'''\n",
    "    print( 'Hola')"
   ]
  },
  {
   "cell_type": "code",
   "execution_count": null,
   "metadata": {},
   "outputs": [],
   "source": [
    "help(saludo)"
   ]
  },
  {
   "cell_type": "markdown",
   "metadata": {},
   "source": [
    "## Ámbitos.\n",
    "\n",
    "El intérprete de Python cuenta con un espacio de nombres en el que se ligan los objetos mediante la asignación de un nombre. Del mismo modo, las funciones crean su propio espacio de nombres, el cual deja de existir tan pronto como la función invocada concluye su ejecución.\n",
    "\n",
    "A estos espacios de nombres diferenciados se les conoce como ámbitos y evita que objetos definidos con nombres idénticos dentro de una función sobrescriban el espacio de nombres del intérprete.\n",
    "\n",
    "**Ejemplo:**"
   ]
  },
  {
   "cell_type": "code",
   "execution_count": null,
   "metadata": {},
   "outputs": [],
   "source": [
    "objeto = \"Hola\"\n",
    "def funcion():\n",
    "    objeto = 2\n",
    "    print(objeto)"
   ]
  },
  {
   "cell_type": "code",
   "execution_count": null,
   "metadata": {},
   "outputs": [],
   "source": [
    "funcion()"
   ]
  },
  {
   "cell_type": "code",
   "execution_count": null,
   "metadata": {},
   "outputs": [],
   "source": [
    "objeto"
   ]
  },
  {
   "cell_type": "markdown",
   "metadata": {},
   "source": [
    "### Ámbito global.\n",
    "\n",
    "El espacio de nombres del intérprete de Python corresponde al ámbito global.\n",
    "\n",
    "#### La función _globals()_.\n",
    "\n",
    "La función _globals()_ regresa el contenido del espacio de nombres del ámbito global como un objeto de tipo _dict_.\n",
    "\n",
    "Cuando se invoca la función _dir()_ sin argumentos desde el intérprete, ésta regresa un objeto de tipo _list_ con el listado de nombres del ámbito global.\n",
    "\n",
    "### Ámbitos locales.\n",
    "\n",
    "Cada función genera su propio espacio de nombres cada vez que es invocada. Cada uno de estos espacios de nombres es un ámbito local.\n",
    "\n",
    "#### La función _locals()_.\n",
    "\n",
    "La función _locals()_ regresa el contenido del espacio de nombres del ámbito local como un objeto de tipo _dict_. Cuando se invoca la función _dir()_ sin argumentos desde una función, ésta regresa un objeto de tipo _list_ con el listado de nombres del ámbito local.\n",
    "\n",
    "**Ejemplo:**\n",
    "\n",
    "Se definirá la función _ambitos()_, la cual desplegará, el contenido de su ámbito local mediante _locals()_ y _dir()_, además del espacio de nombres del ámbito global con _globals()_. Posteriormente se ejecutará la función _dir()_ desde el intérprete.\n",
    "\n"
   ]
  },
  {
   "cell_type": "code",
   "execution_count": null,
   "metadata": {},
   "outputs": [],
   "source": [
    "def ambitos():\n",
    "    lista = [1, 2, 3]\n",
    "    nulo = None\n",
    "    print('Espacio de nombres en el ámbito local:')\n",
    "    print('%s\\n%s\\n' %(locals(), dir()))\n",
    "    print('Espacio de nombres en el ámbito global:')\n",
    "    print(globals())"
   ]
  },
  {
   "cell_type": "code",
   "execution_count": null,
   "metadata": {},
   "outputs": [],
   "source": [
    "ambitos()"
   ]
  },
  {
   "cell_type": "code",
   "execution_count": null,
   "metadata": {},
   "outputs": [],
   "source": [
    "dir()"
   ]
  },
  {
   "cell_type": "markdown",
   "metadata": {},
   "source": [
    "### Búsqueda de nombres entre ámbitos.\n",
    "\n",
    "Cuando se invoca a una función y se hace una referencia a un nombre, el intérprete primeramente busca una coincidencia dentro del ámbito local y posteriormente en el ámbito global. En caso de no encontrarla, se generará un error de tipo _NameError_.\n",
    "\n",
    "**Ejemplo:**\n",
    "\n",
    "* Se creará la función _trino()_, haciendo referencia al nombre _ave_, pero no se definirá en el ámbito global ni en el local.\n",
    "* Se invocará a la función _trino()_.\n",
    "* Se definirá a un objeto de tipo _str_ con el nombre _ave_.\n",
    "* Se invocará nuevamente a la función _trino()_.\n",
    "\n"
   ]
  },
  {
   "cell_type": "code",
   "execution_count": null,
   "metadata": {},
   "outputs": [],
   "source": [
    "def trino():\n",
    "    print(ave * 3)"
   ]
  },
  {
   "cell_type": "code",
   "execution_count": null,
   "metadata": {},
   "outputs": [],
   "source": [
    "ave"
   ]
  },
  {
   "cell_type": "code",
   "execution_count": null,
   "metadata": {},
   "outputs": [],
   "source": [
    "trino()"
   ]
  },
  {
   "cell_type": "code",
   "execution_count": null,
   "metadata": {},
   "outputs": [],
   "source": [
    "ave = 'pio'"
   ]
  },
  {
   "cell_type": "code",
   "execution_count": null,
   "metadata": {},
   "outputs": [],
   "source": [
    "trino()"
   ]
  },
  {
   "cell_type": "markdown",
   "metadata": {},
   "source": [
    "**Ejemplo:**\n",
    "\n",
    "* Se creará la función _multiplica()_, definiendo en el ámbito local a un objeto de tipo _int_ con el nombre _factor_ y haciendo una referencia dicho nombre.\n",
    "* Se invocará a la función _multiplica()_.\n",
    "* Se definirá a un objeto de tipo _str_ con el nombre _factor_.\n",
    "* Se invocará nuevamente a la función _multiplica()_."
   ]
  },
  {
   "cell_type": "code",
   "execution_count": null,
   "metadata": {},
   "outputs": [],
   "source": [
    "def multiplica():\n",
    "    factor = 12\n",
    "    print(factor * 5)"
   ]
  },
  {
   "cell_type": "code",
   "execution_count": null,
   "metadata": {},
   "outputs": [],
   "source": [
    "multiplica()"
   ]
  },
  {
   "cell_type": "code",
   "execution_count": null,
   "metadata": {},
   "outputs": [],
   "source": [
    "factor = \"factor\""
   ]
  },
  {
   "cell_type": "code",
   "execution_count": null,
   "metadata": {},
   "outputs": [],
   "source": [
    "multiplica()"
   ]
  },
  {
   "cell_type": "markdown",
   "metadata": {},
   "source": [
    "### Definiendo nombres en el ámbito global con la expresión _global_.\n",
    "\n",
    "Es posible que una función pueda ligar un objeto al espacio de nombres del ámbito global mediante el uso de la expresión _global_ con la siguiente sintaxis.\n",
    "\n",
    "```\n",
    "global <nombre>\n",
    "<nombre> = <valor>\n",
    "```\n",
    "**Ejemplo:**"
   ]
  },
  {
   "cell_type": "code",
   "execution_count": null,
   "metadata": {},
   "outputs": [],
   "source": [
    "nombre = \"Juan\""
   ]
  },
  {
   "cell_type": "code",
   "execution_count": null,
   "metadata": {},
   "outputs": [],
   "source": [
    "def nombre_global():\n",
    "    global nombre\n",
    "    nombre = \"Hola\""
   ]
  },
  {
   "cell_type": "code",
   "execution_count": null,
   "metadata": {},
   "outputs": [],
   "source": [
    "nombre"
   ]
  },
  {
   "cell_type": "code",
   "execution_count": null,
   "metadata": {},
   "outputs": [],
   "source": [
    "nombre_global()"
   ]
  },
  {
   "cell_type": "code",
   "execution_count": null,
   "metadata": {},
   "outputs": [],
   "source": [
    "nombre"
   ]
  },
  {
   "cell_type": "markdown",
   "metadata": {},
   "source": [
    "## Parámetros y argumentos.\n",
    "\n",
    "Es posible ingresar datos al ser invocadas a estos datos se les denomina argumentos y son ligados a nombres, los cuales se conocen como parámetros. El número de argumentos ingresados debe corresponder al número de parámetros que se definen. En caso de que no se ingresen los argumentos necesarios, se generará un error de tipo _TypeError_.\n",
    "\n",
    "**Ejemplo:**\n",
    "\n"
   ]
  },
  {
   "cell_type": "code",
   "execution_count": null,
   "metadata": {},
   "outputs": [],
   "source": [
    "def suma(primero, segundo):\n",
    "    '''Despliega la suma de dos objetos'''\n",
    "    print(primero + segundo)"
   ]
  },
  {
   "cell_type": "code",
   "execution_count": null,
   "metadata": {},
   "outputs": [],
   "source": [
    "suma(12, 5)"
   ]
  },
  {
   "cell_type": "code",
   "execution_count": null,
   "metadata": {},
   "outputs": [],
   "source": [
    "suma('Hola, ', 'Mundo.')"
   ]
  },
  {
   "cell_type": "code",
   "execution_count": null,
   "metadata": {},
   "outputs": [],
   "source": [
    "suma()"
   ]
  },
  {
   "cell_type": "code",
   "execution_count": null,
   "metadata": {},
   "outputs": [],
   "source": [
    "suma('Hola')"
   ]
  },
  {
   "cell_type": "code",
   "execution_count": null,
   "metadata": {},
   "outputs": [],
   "source": [
    "suma('Hola, ', 'Mundo', '.')"
   ]
  },
  {
   "cell_type": "markdown",
   "metadata": {},
   "source": [
    "### Parámetros con argumentos por defecto.\n",
    "\n",
    "Es posible asignar valores por defecto a cada parámetro definido en una función mediante el operado de asignación ( *=* ).\n",
    "\n",
    "Si a todos los parámetros se les asigna un valor, entonces no es necesario ingresar argumentos al invocar la función, ya que dichos valores serán utilizados. Los argumentos que se ingresen se irán sustituyendo de izquierda a derecha.\n",
    "\n",
    "**Ejemplo:**"
   ]
  },
  {
   "cell_type": "code",
   "execution_count": null,
   "metadata": {},
   "outputs": [],
   "source": [
    "def suma(primero=1, segundo=3):\n",
    "    '''Despliega la suma de dos objetos'''\n",
    "    print(primero + segundo)"
   ]
  },
  {
   "cell_type": "code",
   "execution_count": null,
   "metadata": {},
   "outputs": [],
   "source": [
    "suma()"
   ]
  },
  {
   "cell_type": "code",
   "execution_count": null,
   "metadata": {},
   "outputs": [],
   "source": [
    "suma(2)"
   ]
  },
  {
   "cell_type": "code",
   "execution_count": null,
   "metadata": {},
   "outputs": [],
   "source": [
    "suma(2, 5)"
   ]
  },
  {
   "cell_type": "markdown",
   "metadata": {},
   "source": [
    "Si se asignaran valores por defecto a sólo algunos parámetros, dichos valores se deben dejar a la  derecha de la lista de parámetros. De no ser así, se generará un error de tipo _SyntaxError_.\n",
    "\n",
    "**Ejemplo:**"
   ]
  },
  {
   "cell_type": "code",
   "execution_count": null,
   "metadata": {},
   "outputs": [],
   "source": [
    "def suma(primero, segundo=3):\n",
    "    '''Despliega la suma de dos objetos'''\n",
    "    print(primero + segundo)"
   ]
  },
  {
   "cell_type": "code",
   "execution_count": null,
   "metadata": {},
   "outputs": [],
   "source": [
    "suma()"
   ]
  },
  {
   "cell_type": "code",
   "execution_count": null,
   "metadata": {},
   "outputs": [],
   "source": [
    "suma(2)"
   ]
  },
  {
   "cell_type": "code",
   "execution_count": null,
   "metadata": {},
   "outputs": [],
   "source": [
    "suma(\"2\", \"43\")"
   ]
  },
  {
   "cell_type": "markdown",
   "metadata": {},
   "source": [
    "**Ejemplo:**"
   ]
  },
  {
   "cell_type": "code",
   "execution_count": null,
   "metadata": {},
   "outputs": [],
   "source": [
    "def suma(primero=1, segundo):\n",
    "    '''Despliega la suma de dos objetos'''\n",
    "    print(primero + segundo)"
   ]
  },
  {
   "cell_type": "code",
   "execution_count": null,
   "metadata": {},
   "outputs": [],
   "source": [
    "def suma(segundo, primero=1):\n",
    "    '''Despliega la suma de dos objetos'''\n",
    "    print(primero + segundo)"
   ]
  },
  {
   "cell_type": "markdown",
   "metadata": {},
   "source": [
    "### Captura de varios argumentos en un parámetro de tipo _tuple_ (*args).\n",
    "\n",
    "Es posible definir un parámetro que acepte un número indeterminado de argumentos y que éstos queden guardados dentro de un objeto tipo _tuple_. Para esto, basta preceder al nombre del parámetro con un solo asterisco (*).\n",
    "\n",
    "**Ejemplo:**"
   ]
  },
  {
   "cell_type": "code",
   "execution_count": null,
   "metadata": {},
   "outputs": [],
   "source": [
    "def promedio(*muestras):\n",
    "    '''Calcula el promedio de la muestra correspondiente a todos los parámetros ingresados.'''\n",
    "    promedio = sum(muestras)/len(muestras)\n",
    "    print('El promedio de la muestra de %d elementos es %.3f.' %(len(muestras), promedio))"
   ]
  },
  {
   "cell_type": "code",
   "execution_count": null,
   "metadata": {},
   "outputs": [],
   "source": [
    "promedio(1, 3, 5, 8, 11, 24, 90, 29)"
   ]
  },
  {
   "cell_type": "code",
   "execution_count": null,
   "metadata": {},
   "outputs": [],
   "source": [
    "promedio(14, 38, 1)"
   ]
  },
  {
   "cell_type": "markdown",
   "metadata": {},
   "source": [
    "El parámetro que recibe más de un argumento debe definirse al final de la lista de parámetros.\n",
    "\n",
    "**Ejemplo:**"
   ]
  },
  {
   "cell_type": "code",
   "execution_count": null,
   "metadata": {},
   "outputs": [],
   "source": [
    "def promedio(titulo, *muestras):\n",
    "    '''Calcula el promedio de la muestra correspondiente a todos los parámetros ingresados con excepción\n",
    "       del primero, el cual será utilizado como título.'''\n",
    "    promedio = sum(muestras)/len(muestras)\n",
    "    print(titulo)\n",
    "    print('El promedio de la muestra de %d elementos es %.3f.' %(len(muestras), promedio))"
   ]
  },
  {
   "cell_type": "code",
   "execution_count": null,
   "metadata": {},
   "outputs": [],
   "source": [
    "promedio('Conteo de abejas en campo.', 34, 45, 61, 23, 47, 41, 52)"
   ]
  },
  {
   "cell_type": "code",
   "execution_count": null,
   "metadata": {},
   "outputs": [],
   "source": [
    "promedio(1, 3, 5, 8, 11, 24, 90, 29)"
   ]
  },
  {
   "cell_type": "markdown",
   "metadata": {},
   "source": [
    "### Captura de varios argumentos en un parámetro de tipo *dict* (**kargs).\n",
    "\n",
    "Es posible definir los parámetros y valores que se ingresan a una función mediante el uso de la sintaxis _nombre = valor_ y que estos parámetros queden almacenados en un objeto tipo _dict_. Para esto, basta preceder al nombre del parámetro con doble asterisco ( _**_ ).\n",
    "\n",
    "**Ejemplo:**"
   ]
  },
  {
   "cell_type": "code",
   "execution_count": 9,
   "metadata": {},
   "outputs": [],
   "source": [
    "def superficie(**dato):\n",
    "    '''Calcula la superficie de una figura geométrica si los parámetros  ingresados\n",
    "       coinciden.'''\n",
    "    if dato[\"tipo\"] == \"Rectángulo\":\n",
    "        superficie = float(dato[\"base\"]) * float(dato[\"altura\"])\n",
    "    elif dato[\"tipo\"] == \"Triángulo\":\n",
    "        superficie = float(dato[\"base\"]) * float(dato[\"altura\"]) / 2\n",
    "    elif dato[\"tipo\"] == \"Círculo\":\n",
    "        superficie = float(dato[\"radio\"]) ** 2 * 3.14259265\n",
    "    else:\n",
    "        print(\"No puedo calcular la superficie.\")\n",
    "        superficie = \" indeterminada\"\n",
    "    print(\"La superficie del %s es de %s\" % (dato[\"tipo\"].lower(), superficie))"
   ]
  },
  {
   "cell_type": "code",
   "execution_count": 10,
   "metadata": {},
   "outputs": [
    {
     "name": "stdout",
     "output_type": "stream",
     "text": [
      "La superficie del rectángulo es de 660.0\n"
     ]
    }
   ],
   "source": [
    "superficie(base=22, altura=30, tipo=\"Rectángulo\")"
   ]
  },
  {
   "cell_type": "code",
   "execution_count": 11,
   "metadata": {
    "scrolled": true
   },
   "outputs": [
    {
     "name": "stdout",
     "output_type": "stream",
     "text": [
      "La superficie del círculo es de 3849.67599625\n"
     ]
    }
   ],
   "source": [
    "superficie(tipo=\"Círculo\", radio = 35)"
   ]
  },
  {
   "cell_type": "code",
   "execution_count": 12,
   "metadata": {},
   "outputs": [
    {
     "name": "stdout",
     "output_type": "stream",
     "text": [
      "No puedo calcular la superficie.\n",
      "La superficie del rombo es de  indeterminada\n"
     ]
    }
   ],
   "source": [
    "superficie(base=22, altura=30, tipo=\"Rombo\")"
   ]
  },
  {
   "cell_type": "code",
   "execution_count": 13,
   "metadata": {},
   "outputs": [
    {
     "name": "stdout",
     "output_type": "stream",
     "text": [
      "La superficie del rectángulo es de 660.0\n"
     ]
    }
   ],
   "source": [
    "superficie(base=22, altura=30, tipo=\"Rectángulo\", radio=6)"
   ]
  },
  {
   "cell_type": "markdown",
   "metadata": {},
   "source": [
    "## Funciones que regresan valores y cerraduras.\n",
    "\n",
    "Todas las funciones regresan un valor al finalizar su ejecución al cual se le puede asignar un nombre si se desea conservarlo. Por defecto, el valor que regresan es _None_, el cual a diferencia de otros valores no es desplegado por el intérprete.\n",
    "\n",
    "**Ejemplo:**"
   ]
  },
  {
   "cell_type": "code",
   "execution_count": 14,
   "metadata": {},
   "outputs": [],
   "source": [
    "def funcion():\n",
    "    pass"
   ]
  },
  {
   "cell_type": "code",
   "execution_count": 15,
   "metadata": {},
   "outputs": [
    {
     "name": "stdout",
     "output_type": "stream",
     "text": [
      "None\n"
     ]
    }
   ],
   "source": [
    "resultado = funcion()\n",
    "print(resultado)"
   ]
  },
  {
   "cell_type": "code",
   "execution_count": 16,
   "metadata": {},
   "outputs": [],
   "source": [
    "resultado"
   ]
  },
  {
   "cell_type": "markdown",
   "metadata": {
    "collapsed": true
   },
   "source": [
    "### La expresión _return_.\n",
    "\n",
    "La expresión _return_ se utiliza para regresar un objeto específico a su ámbito superior y acto seguido dar por terminada la ejecución de la función de forma similar a _break_. Pueden incluirse varias expresiones _return_ en una función, pero sólo se ejecutará la primera que se encuentre. La sintaxis es la siguiente:\n",
    "\n",
    "```\n",
    "return <objeto>\n",
    "```\n",
    "\n",
    "**Ejemplo:**"
   ]
  },
  {
   "cell_type": "code",
   "execution_count": 21,
   "metadata": {},
   "outputs": [],
   "source": [
    "def promedio(*muestras):\n",
    "    return (len(muestras), sum(muestras) / len(muestras))"
   ]
  },
  {
   "cell_type": "code",
   "execution_count": 22,
   "metadata": {},
   "outputs": [
    {
     "data": {
      "text/plain": [
       "(8, 21.375)"
      ]
     },
     "execution_count": 22,
     "metadata": {},
     "output_type": "execute_result"
    }
   ],
   "source": [
    "promedio(1, 3, 5, 8, 11, 24, 90, 29)"
   ]
  },
  {
   "cell_type": "code",
   "execution_count": 23,
   "metadata": {},
   "outputs": [],
   "source": [
    "media = promedio(1, 3, 5, 8, 11, 24, 90, 29)"
   ]
  },
  {
   "cell_type": "code",
   "execution_count": 24,
   "metadata": {},
   "outputs": [
    {
     "name": "stdout",
     "output_type": "stream",
     "text": [
      "El promedio de la muestra de 8 elementos es 21.375.\n"
     ]
    }
   ],
   "source": [
    "print('El promedio de la muestra de %d elementos es %.3f.' %(media))"
   ]
  },
  {
   "cell_type": "markdown",
   "metadata": {
    "collapsed": true
   },
   "source": [
    "### Cerraduras (closures).\n",
    "\n",
    "El valor que regresa una función se conoce como \"cerradura\" o \"closure\" y tiene características muy particulares ya que se encuentra justo entre el ámbito local de una función y su ámbito superior.\n",
    "\n",
    "## Funciones anidadas.\n",
    "\n",
    "Python permite definir funciones dentro de otras funciones.\n",
    "\n",
    "**Ejemplo:**\n"
   ]
  },
  {
   "cell_type": "code",
   "execution_count": 25,
   "metadata": {},
   "outputs": [],
   "source": [
    "def lista_primos(limite=100):\n",
    "    '''Genera una lista de los números primos comprendidos entre el 2 y el valor de limite.'''\n",
    "    #La lista inicia con el número 2\n",
    "    lista = [2]\n",
    "   \n",
    "    def esprimo(numero):\n",
    "        '''Valida si numero es divisible entre algún elemento de lista. De ocurrir, \n",
    "        regresa False. De lo contrario, regresa True.'''\n",
    "        for primo in lista:\n",
    "            if numero % primo == 0:\n",
    "                return False\n",
    "        return True\n",
    "    \n",
    "    #Se realizará una iteración de cada número entero desde 3 hasta el valor de limite.\n",
    "    for numero in range(3, limite + 1):\n",
    "        #Si esprimo(numero) regresa True, añade el valor de numero a lista\n",
    "        if esprimo(numero):\n",
    "            lista.append(numero)\n",
    "    return lista"
   ]
  },
  {
   "cell_type": "code",
   "execution_count": 27,
   "metadata": {},
   "outputs": [
    {
     "data": {
      "text/plain": [
       "[2,\n",
       " 3,\n",
       " 5,\n",
       " 7,\n",
       " 11,\n",
       " 13,\n",
       " 17,\n",
       " 19,\n",
       " 23,\n",
       " 29,\n",
       " 31,\n",
       " 37,\n",
       " 41,\n",
       " 43,\n",
       " 47,\n",
       " 53,\n",
       " 59,\n",
       " 61,\n",
       " 67,\n",
       " 71,\n",
       " 73,\n",
       " 79,\n",
       " 83,\n",
       " 89,\n",
       " 97,\n",
       " 101,\n",
       " 103,\n",
       " 107,\n",
       " 109,\n",
       " 113,\n",
       " 127,\n",
       " 131,\n",
       " 137,\n",
       " 139,\n",
       " 149,\n",
       " 151,\n",
       " 157,\n",
       " 163,\n",
       " 167,\n",
       " 173,\n",
       " 179,\n",
       " 181,\n",
       " 191,\n",
       " 193,\n",
       " 197,\n",
       " 199,\n",
       " 211,\n",
       " 223,\n",
       " 227,\n",
       " 229,\n",
       " 233,\n",
       " 239,\n",
       " 241,\n",
       " 251,\n",
       " 257,\n",
       " 263,\n",
       " 269,\n",
       " 271,\n",
       " 277,\n",
       " 281,\n",
       " 283,\n",
       " 293,\n",
       " 307,\n",
       " 311,\n",
       " 313,\n",
       " 317,\n",
       " 331,\n",
       " 337,\n",
       " 347,\n",
       " 349,\n",
       " 353,\n",
       " 359,\n",
       " 367,\n",
       " 373,\n",
       " 379,\n",
       " 383,\n",
       " 389,\n",
       " 397,\n",
       " 401,\n",
       " 409,\n",
       " 419,\n",
       " 421,\n",
       " 431,\n",
       " 433,\n",
       " 439,\n",
       " 443,\n",
       " 449,\n",
       " 457,\n",
       " 461,\n",
       " 463,\n",
       " 467,\n",
       " 479,\n",
       " 487,\n",
       " 491,\n",
       " 499,\n",
       " 503,\n",
       " 509,\n",
       " 521,\n",
       " 523,\n",
       " 541,\n",
       " 547,\n",
       " 557,\n",
       " 563,\n",
       " 569,\n",
       " 571,\n",
       " 577,\n",
       " 587,\n",
       " 593,\n",
       " 599,\n",
       " 601,\n",
       " 607,\n",
       " 613,\n",
       " 617,\n",
       " 619,\n",
       " 631,\n",
       " 641,\n",
       " 643,\n",
       " 647,\n",
       " 653,\n",
       " 659,\n",
       " 661,\n",
       " 673,\n",
       " 677,\n",
       " 683,\n",
       " 691,\n",
       " 701,\n",
       " 709,\n",
       " 719,\n",
       " 727,\n",
       " 733,\n",
       " 739,\n",
       " 743,\n",
       " 751,\n",
       " 757,\n",
       " 761,\n",
       " 769,\n",
       " 773,\n",
       " 787,\n",
       " 797,\n",
       " 809,\n",
       " 811,\n",
       " 821,\n",
       " 823,\n",
       " 827,\n",
       " 829,\n",
       " 839,\n",
       " 853,\n",
       " 857,\n",
       " 859,\n",
       " 863,\n",
       " 877,\n",
       " 881,\n",
       " 883,\n",
       " 887,\n",
       " 907,\n",
       " 911,\n",
       " 919,\n",
       " 929,\n",
       " 937,\n",
       " 941,\n",
       " 947,\n",
       " 953,\n",
       " 967,\n",
       " 971,\n",
       " 977,\n",
       " 983,\n",
       " 991,\n",
       " 997]"
      ]
     },
     "execution_count": 27,
     "metadata": {},
     "output_type": "execute_result"
    }
   ],
   "source": [
    "lista_primos(1005)"
   ]
  },
  {
   "cell_type": "markdown",
   "metadata": {},
   "source": [
    "En el ejemplo anterior se definió a la función _esprimo()_ dentro de la función _listaprimos()_. Como se puede observar, el nombre _lista_ está en el espacio de nombres de _listaprimos()_, pero al estar en un entorno superior al ámbito de _esprimo()_, éste puede acceder a _lista_."
   ]
  },
  {
   "cell_type": "markdown",
   "metadata": {},
   "source": [
    "## Recursividad.\n",
    "\n",
    "Python permite hacer llamadas recursivas a una función. Es decir, que la función se invoque a si misma. \n",
    "\n",
    "Cada vez que una función se invoca a si misma, Python crea un nuevo objeto de tipo _function_ con las mismas características que la función original, pero con un ámbito totalmente nuevo y de nivel inferior a la función original.\n",
    "\n",
    "**Ejemplo:**"
   ]
  },
  {
   "cell_type": "code",
   "execution_count": null,
   "metadata": {},
   "outputs": [],
   "source": [
    "def factorial(numero):\n",
    "    if numero == 1:\n",
    "        return 1\n",
    "    else:\n",
    "        fact = numero * factorial(numero - 1)\n",
    "        return fact"
   ]
  },
  {
   "cell_type": "code",
   "execution_count": null,
   "metadata": {},
   "outputs": [],
   "source": [
    "factorial(5)"
   ]
  },
  {
   "cell_type": "markdown",
   "metadata": {},
   "source": [
    "En este caso, la función _factorial()_ se invoca recursivamente, pero cada vez que lo hace, el valor del argumento decrece en 1 de forma sucesiva hasta que el parámetro _numero_ alcanza el valor de 1 y regresa dicho valor. Es entonces que la cerradura de la función de nivel inferior se multiplica por el parámetro _numero_ de la función superior hasta llegar a la función de más alto nivel.\n",
    "\n",
    "Ahora se incluirán algunas modificaciones al ejemplo anterior para ilustrar el proceso."
   ]
  },
  {
   "cell_type": "code",
   "execution_count": null,
   "metadata": {},
   "outputs": [],
   "source": [
    "def factorial(numero):\n",
    "    print('En este ámbito, numero =', numero)\n",
    "    if numero == 1:\n",
    "        print('Llegó al final.\\nRegresa 1!')\n",
    "        return 1\n",
    "    else:\n",
    "        fact = numero * factorial(numero - 1)\n",
    "        print('Regresa %d!: %d' %(numero, fact))\n",
    "        return fact"
   ]
  },
  {
   "cell_type": "code",
   "execution_count": null,
   "metadata": {},
   "outputs": [],
   "source": [
    "factorial(5)"
   ]
  },
  {
   "cell_type": "markdown",
   "metadata": {},
   "source": [
    "## Funciones de orden superior.\n",
    "\n",
    "Las funciones de orden superior son funciones que aceptan funciones como argumentos y a su vez regresan funciones.\n",
    "\n",
    "**Ejemplo:**\n",
    "\n",
    "La función _html()_ puede recibir una función y regresará una función que de por resultado el cuerpo básico de un documento en HTML5 que envuelva al resultado de la función usada como argumento. Por otro lado, la función _parrafo()_ transforma un texto en un párrafo rodeado por las etiquetas HTML correspondientes."
   ]
  },
  {
   "cell_type": "code",
   "execution_count": null,
   "metadata": {},
   "outputs": [],
   "source": [
    "def html(funcion):\n",
    "    '''Añade las etiquetas básicas de un documento HTML5 al elemento \n",
    "       resultante del argumento funcion.'''\n",
    "    etiquetas = \"<html>\\n  <head>\\n    <title>Página</title>\\n  </head>\\n  <body>\\n    {}\\n  </body>\\n</html>\"\n",
    "    def empaqueta(texto):\n",
    "        '''Permite encerrar entre etiquetas de HTML5 al resultado de funcion(texto).'''\n",
    "        return etiquetas.format(funcion(texto))\n",
    "    return empaqueta"
   ]
  },
  {
   "cell_type": "code",
   "execution_count": null,
   "metadata": {},
   "outputs": [],
   "source": [
    "help(html)"
   ]
  },
  {
   "cell_type": "code",
   "execution_count": null,
   "metadata": {},
   "outputs": [],
   "source": [
    "def parrafo(texto):\n",
    "    '''Encierra entre las etiquetas de párrafo al elemento texto.'''\n",
    "    return '<p>' + str(texto) + '</p>'"
   ]
  },
  {
   "cell_type": "code",
   "execution_count": null,
   "metadata": {},
   "outputs": [],
   "source": [
    "print(parrafo('Hola, Mundo.'))"
   ]
  },
  {
   "cell_type": "code",
   "execution_count": null,
   "metadata": {},
   "outputs": [],
   "source": [
    "help(parrafo)"
   ]
  },
  {
   "cell_type": "code",
   "execution_count": null,
   "metadata": {},
   "outputs": [],
   "source": [
    "print(html(parrafo)('Hola, Mundo.'))"
   ]
  },
  {
   "cell_type": "code",
   "execution_count": null,
   "metadata": {},
   "outputs": [],
   "source": [
    "help(html(parrafo))"
   ]
  },
  {
   "cell_type": "markdown",
   "metadata": {},
   "source": [
    "## Decoradores.\n",
    "\n",
    "Los decoradores son un recurso de Python que permite aplicar una función de orden superior a otra función con la siguiente sintaxis.\n",
    "\n",
    "```\n",
    "@<nombre de función de orden superior>\n",
    "def <nombre>(<argumentos>):\n",
    "    ...\n",
    "    ...\n",
    "```\n",
    "\n",
    "**Ejemplo:**\n",
    "\n",
    "Se utilizará el decorador de la función _html()_ aplicado a la función _parrafo()_."
   ]
  },
  {
   "cell_type": "code",
   "execution_count": null,
   "metadata": {},
   "outputs": [],
   "source": [
    "def html(funcion):\n",
    "    '''Añade las etiquetas básicas de un documento HTML5 al elemento \n",
    "       resultante del argumento funcion.'''\n",
    "    etiquetas = \"<html>\\n  <head>\\n    <title>Página</title>\\n  </head>\\n  <body>\\n    {}\\n  </body>\\n</html>\"\n",
    "    def empaqueta(texto):\n",
    "        '''Permite encerrar entre etiquetas de HTML5 al resultado de funcion(texto).'''\n",
    "        return etiquetas.format(funcion(texto))\n",
    "    return empaqueta"
   ]
  },
  {
   "cell_type": "code",
   "execution_count": null,
   "metadata": {},
   "outputs": [],
   "source": [
    "@html\n",
    "def parrafo(texto):\n",
    "    '''Encierra entre las etiquetas de párrafo al elemento texto.'''\n",
    "    return '<p>' + str(texto) + '</p>'"
   ]
  },
  {
   "cell_type": "code",
   "execution_count": null,
   "metadata": {},
   "outputs": [],
   "source": [
    "print(parrafo(\"Hola, Mundo.\"))"
   ]
  },
  {
   "cell_type": "code",
   "execution_count": null,
   "metadata": {},
   "outputs": [],
   "source": [
    "help(parrafo)"
   ]
  },
  {
   "cell_type": "markdown",
   "metadata": {},
   "source": [
    "\n",
    "## Definición de funciones con la declaración *lambda*.\n",
    "\n",
    "Python permite definir funciones en una sola línea mediante el uso del la expresión lambda con la siguiente sintaxis:\n",
    "\n",
    "```\n",
    "lambda <parámetros>: <código>\n",
    "```\n",
    "\n",
    "A este tipo de funciones se les conoce como funciones lambda o funciones anónimas debido a que no requieren de un nombre para ser definidas.\n",
    "\n",
    "Para nombrar a estas funciones se utiliza el operador de asignación ( _=_ ).\n",
    "\n",
    "**Ejemplo:**\n"
   ]
  },
  {
   "cell_type": "code",
   "execution_count": null,
   "metadata": {},
   "outputs": [],
   "source": [
    "saluda = lambda texto='extraño', ancho=50: print('Hola, {}.'.format(texto).center(ancho))"
   ]
  },
  {
   "cell_type": "code",
   "execution_count": null,
   "metadata": {},
   "outputs": [],
   "source": [
    "type(saluda)"
   ]
  },
  {
   "cell_type": "code",
   "execution_count": null,
   "metadata": {},
   "outputs": [],
   "source": [
    "saluda()"
   ]
  },
  {
   "cell_type": "code",
   "execution_count": null,
   "metadata": {},
   "outputs": [],
   "source": [
    "saluda('Mundo', 20)"
   ]
  },
  {
   "cell_type": "markdown",
   "metadata": {},
   "source": [
    "### Funciones lambda con estructuras *if*... *else*.\n",
    "\n",
    "Las funciones lambda permiten incluir condicionales dentro de su sintaxis de la siguiente forma:\n",
    "```\n",
    "lambda <argumentos>: <expresion_1> if <condición> else <expresión_2>\n",
    "```\n",
    "**Ejemplo:**\n",
    "\n",
    "*es_par* es una función que valida si un número entero ingresado como parámetro es par."
   ]
  },
  {
   "cell_type": "code",
   "execution_count": null,
   "metadata": {},
   "outputs": [],
   "source": [
    "es_par = lambda numero: True if numero % 2 == 0 else False"
   ]
  },
  {
   "cell_type": "code",
   "execution_count": null,
   "metadata": {},
   "outputs": [],
   "source": [
    "es_par(2)"
   ]
  },
  {
   "cell_type": "code",
   "execution_count": null,
   "metadata": {},
   "outputs": [],
   "source": [
    "es_par(3)"
   ]
  },
  {
   "cell_type": "markdown",
   "metadata": {},
   "source": [
    "**Ejemplo:**\n",
    "\n",
    "La función _factorial_ calcula el factorial de un número mediante recursividad. "
   ]
  },
  {
   "cell_type": "code",
   "execution_count": null,
   "metadata": {},
   "outputs": [],
   "source": [
    "factorial = lambda numero: numero * factorial(numero - 1) if numero > 1 else 1"
   ]
  },
  {
   "cell_type": "code",
   "execution_count": null,
   "metadata": {},
   "outputs": [],
   "source": [
    "factorial(5)"
   ]
  },
  {
   "cell_type": "markdown",
   "metadata": {},
   "source": [
    "<p style=\"text-align: center\"><a rel=\"license\" href=\"http://creativecommons.org/licenses/by/4.0/\"><img alt=\"Licencia Creative Commons\" style=\"border-width:0\" src=\"https://i.creativecommons.org/l/by/4.0/80x15.png\" /></a><br />Esta obra está bajo una <a rel=\"license\" href=\"http://creativecommons.org/licenses/by/4.0/\">Licencia Creative Commons Atribución 4.0 Internacional</a>.</p>\n",
    "<p style=\"text-align: center\">&copy; José Luis Chiquete Valdivieso. 2019.</p>"
   ]
  }
 ],
 "metadata": {
  "kernelspec": {
   "display_name": "Python 3",
   "language": "python",
   "name": "python3"
  },
  "language_info": {
   "codemirror_mode": {
    "name": "ipython",
    "version": 3
   },
   "file_extension": ".py",
   "mimetype": "text/x-python",
   "name": "python",
   "nbconvert_exporter": "python",
   "pygments_lexer": "ipython3",
   "version": "3.6.6"
  }
 },
 "nbformat": 4,
 "nbformat_minor": 2
}
