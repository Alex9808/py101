{
 "cells": [
  {
   "cell_type": "markdown",
   "metadata": {},
   "source": [
    "[![imagenes](imagenes/pythonista.png)](https://pythonista.io)"
   ]
  },
  {
   "cell_type": "markdown",
   "metadata": {},
   "source": [
    "##  Particularidades los tipos de datos en Python.\n",
    "\n",
    "### Tipos dinámicos.\n",
    "\n",
    "Python es un lenguaje que no requiere que se defina el tipo de un objeto. El intérprete \"infiere\" el tipo de dato del que se trata.\n",
    "    \n",
    "### Fuertemente tipado.\n",
    "\n",
    "Existen operaciones que no están permitidas entre tipos que no sean compatibles.\n",
    "\n",
    "### Los tipos son clases.\n",
    "\n",
    "En Python todos sus elementos son objetos y los datos una vez identificados, se convierten en objetos instanciados del tipo al que pertenecen. "
   ]
  },
  {
   "cell_type": "markdown",
   "metadata": {},
   "source": [
    "## Tabla de tipos de datos básicos de Python 3.\n",
    "\n",
    "|Tipo de dato|Colección|Indexable|Mutable|Contenido|Ejemplo|\n",
    "|:-----------:|:--:|:--:|:--:|:----:|:-----|\n",
    "|```int```|NO|NO|NO|Números enteros|```-12```|\n",
    "|```float```|NO|NO|NO|Números de punto flotante|```4.361```|\n",
    "|```complex```|NO|NO|NO|Números complejos|```(41.6-11.3j)```|\n",
    "|```bool```|NO|NO|NO|Valores booleanos|```True```|\n",
    "|```NoneType```|NO|NO|NO|Sin valor|```None```|\n",
    "|```str```|SÍ|SÍ|NO|Caracteres Unicode|```'Gödel'```|\n",
    "|```bytes```|SÍ|SÍ|NO|Caracteres ASCII|```b'Hola'```|\n",
    "|```list```|SÍ|SÍ|SÍ|Cualquier objeto|```[1, 2.0, 'Tres']```|\n",
    "|```tuple```|SÍ|SÍ|NO|Cualquier objeto|```(1, 2.0, 'Tres')```|\n",
    "|```dict```|SÍ|SÍ|SÍ|Pares *clave:valor*|```{'nombre':'Juan', 'promedio':10}```|\n",
    "|```set```|SÍ|NO|SÍ|Objetos inmutables|```{1, False, 'María'}```|\n",
    "|```frozenset```|SÍ|NO|NO|Objetos inmutables|```frozenset({{1, False, 'María'})```|"
   ]
  },
  {
   "cell_type": "markdown",
   "metadata": {},
   "source": [
    "## Tipos numéricos."
   ]
  },
  {
   "cell_type": "markdown",
   "metadata": {},
   "source": [
    "### Números enteros (```int```).\n",
    "\n",
    "Python identifica a los número enteros como un tipo de dato el cual puede ser expresado de la siguiente manera. \n",
    "\n",
    "* Decimal: ```24```, ```60```.\n",
    "* Binario: ```0b010011```, ```0b1101```. \n",
    "* Hexadecimal: ```0x18```, ```0x3cf4```.\n",
    "* Octal: ``0o30``, ```0o74```.\n",
    "\n",
    "Python 2 también identifica a un tipo llamado entero largo (```long```), al cual se le añade la letra ```L``` al final de número, pero ya no es reconocido por Python 3. "
   ]
  },
  {
   "cell_type": "markdown",
   "metadata": {},
   "source": [
    "**Ejemplos:**"
   ]
  },
  {
   "cell_type": "markdown",
   "metadata": {},
   "source": [
    "* La siguiente celda define al número ```24```."
   ]
  },
  {
   "cell_type": "code",
   "execution_count": null,
   "metadata": {},
   "outputs": [],
   "source": [
    "24"
   ]
  },
  {
   "cell_type": "markdown",
   "metadata": {},
   "source": [
    "* La siguiente celda define al número ```139``` en formato binario."
   ]
  },
  {
   "cell_type": "code",
   "execution_count": null,
   "metadata": {
    "scrolled": true
   },
   "outputs": [],
   "source": [
    "0b10001011"
   ]
  },
  {
   "cell_type": "markdown",
   "metadata": {},
   "source": [
    "* La siguiente celda define al número ```1522``` en formato hexadecimal."
   ]
  },
  {
   "cell_type": "code",
   "execution_count": null,
   "metadata": {},
   "outputs": [],
   "source": [
    "0x5f2"
   ]
  },
  {
   "cell_type": "markdown",
   "metadata": {},
   "source": [
    "* La siguiente celda define al número ```159``` en formato octal."
   ]
  },
  {
   "cell_type": "code",
   "execution_count": null,
   "metadata": {},
   "outputs": [],
   "source": [
    "0o237"
   ]
  },
  {
   "cell_type": "markdown",
   "metadata": {},
   "source": [
    "### Números de punto flotante (``float``).\n",
    "\n",
    "Los objetos tipo ``float`` corresponden al conjunto de los números reales.\n",
    "\n",
    "**Ejemplos:**\n",
    "\n",
    "* ```3.141595``` \n",
    "* ```12.``` \n",
    "* ```-45.3556```"
   ]
  },
  {
   "cell_type": "markdown",
   "metadata": {},
   "source": [
    "#### Precisión de los números flotantes.\n",
    "\n",
    "Hay que tomar en cuenta de que la precisión de los números dependen en gran medida de la capacidad del equipo de cómputo, por lo que en ocasiones una operación con números de tipo float no dará el resultado exacto, sino una aproximación."
   ]
  },
  {
   "cell_type": "markdown",
   "metadata": {},
   "source": [
    "**Ejemplo:**"
   ]
  },
  {
   "cell_type": "markdown",
   "metadata": {},
   "source": [
    "* La siguiente expresión da por resultado un número racional que corresponde a una suceción infinita del dígito ```6``` después del punto decimal."
   ]
  },
  {
   "cell_type": "code",
   "execution_count": null,
   "metadata": {},
   "outputs": [],
   "source": [
    "2.0/3.0"
   ]
  },
  {
   "cell_type": "markdown",
   "metadata": {},
   "source": [
    "En este caso, es imposible para Python calcular una sucesión infinita de ```6``` y por ende truncó el número a 16 decimales."
   ]
  },
  {
   "cell_type": "markdown",
   "metadata": {},
   "source": [
    "### Números complejos (```complex```).\n",
    "\n",
    "Los objetos de tipo ```complex``` corresponden al conjunto de los números complejos.\n",
    "\n",
    "Siempre que el componente en los números reales sea distinto de ```0```, los objetos de tipo ```complex``` se expresarán como un par de números de tipo ```float``` separados por el operador de adición ```+```, en el que el primer número corresponde al componente en los números reales y el componente en los números imaginarios es identificado añadiéndole la letra ```j``` al final.\n",
    "\n",
    "La sintaxis estricta es la siguiente:\n",
    "\n",
    "```\n",
    "(<valor numérico del componente real>+<valor numérico del componente imaginario>j)\n",
    "```\n",
    "o\n",
    "```\n",
    "(<valor numérico del componente real>-<valor numérico del componente imaginario>j)\n",
    "```"
   ]
  },
  {
   "cell_type": "markdown",
   "metadata": {},
   "source": [
    "**Ejemplos:**"
   ]
  },
  {
   "cell_type": "code",
   "execution_count": null,
   "metadata": {},
   "outputs": [],
   "source": [
    "(2+5j)"
   ]
  },
  {
   "cell_type": "code",
   "execution_count": null,
   "metadata": {},
   "outputs": [],
   "source": [
    "1.323 - 1j "
   ]
  },
  {
   "cell_type": "code",
   "execution_count": null,
   "metadata": {},
   "outputs": [],
   "source": [
    "-2.9j - 23.03"
   ]
  },
  {
   "cell_type": "code",
   "execution_count": null,
   "metadata": {},
   "outputs": [],
   "source": [
    "12.4 + 0j"
   ]
  },
  {
   "cell_type": "code",
   "execution_count": null,
   "metadata": {},
   "outputs": [],
   "source": [
    "15j"
   ]
  },
  {
   "cell_type": "markdown",
   "metadata": {},
   "source": [
    "## Tipos booleanos (```bool```).\n",
    "\n",
    "El tipo ```bool``` es una especie de tipo numérico que es utilizado para evaluar expresiones lógicas y tiene dos valores: ```True``` y ```False```.\n",
    "\n",
    "* Si la expresión lógica es cierta, el resultado es ```True```.\n",
    "* Si la expresión lógica NO es cierta, el resultado es ```False```.\n",
    "* *False* equivale numéricamente a ```0```. \n",
    "* Cualquier otro valor no vacío equivale a ```True``` y su valor por defecto es ```1```."
   ]
  },
  {
   "cell_type": "markdown",
   "metadata": {},
   "source": [
    "**Ejemplos:**"
   ]
  },
  {
   "cell_type": "code",
   "execution_count": null,
   "metadata": {},
   "outputs": [],
   "source": [
    "True"
   ]
  },
  {
   "cell_type": "code",
   "execution_count": null,
   "metadata": {},
   "outputs": [],
   "source": [
    "False"
   ]
  },
  {
   "cell_type": "markdown",
   "metadata": {},
   "source": [
    "## ```NoneType```.\n",
    "\n",
    "El único objeto de este tipo es ```None``` y representa un valor nulo. \n",
    "\n",
    "Una expresión que de por resultado ```None``` no es desplegado por el intérprete."
   ]
  },
  {
   "cell_type": "markdown",
   "metadata": {},
   "source": [
    "**Ejemplo:**"
   ]
  },
  {
   "cell_type": "markdown",
   "metadata": {},
   "source": [
    "* La siguiente celda incluye al objeto *None*, pero al ejecutarla, no se despliega nada."
   ]
  },
  {
   "cell_type": "code",
   "execution_count": null,
   "metadata": {},
   "outputs": [],
   "source": [
    "None"
   ]
  },
  {
   "cell_type": "markdown",
   "metadata": {},
   "source": [
    "## Colecciones.\n",
    "\n",
    "Las colecciones permiten crear objetos que a su vez pueden contener a otros objetos.\n",
    "\n",
    "Python 3 cuenta con los siguientes tipos de colecciones.\n",
    "\n",
    "* ```str```.\n",
    "* ```bytes```.\n",
    "* ```list```.\n",
    "* ```tuple```.\n",
    "* ```dict```.\n",
    "* ```set```.\n",
    "* ```frozenset```."
   ]
  },
  {
   "cell_type": "markdown",
   "metadata": {},
   "source": [
    "### El tipo ``` str```.\n",
    "\n",
    "Las cadenas de caracteres son colecciones ordenadas, indexables numéricamente e inmutables de caracteres. \n",
    "\n",
    "El tipo más común de cadenas de caracteres es ```str```, el cual se define encerrando el texto entre comillas   ```\"``` o apóstrofes ```'```. \n",
    "\n",
    "Cualquiera de las siguientes sintaxis es válida:\n",
    "\n",
    "```\n",
    "\"<texto>\"\n",
    "'<texto>'\n",
    "```\n",
    "\n",
    "Python 3 soporta por defecto los caracteres definidos en la codificación *UTF-8* de *Unicode*."
   ]
  },
  {
   "cell_type": "markdown",
   "metadata": {},
   "source": [
    "**Ejemplos:**"
   ]
  },
  {
   "cell_type": "code",
   "execution_count": null,
   "metadata": {},
   "outputs": [],
   "source": [
    "'Hola Mundo'"
   ]
  },
  {
   "cell_type": "code",
   "execution_count": null,
   "metadata": {},
   "outputs": [],
   "source": [
    "\"Vamos al McDonald's\""
   ]
  },
  {
   "cell_type": "code",
   "execution_count": null,
   "metadata": {},
   "outputs": [],
   "source": [
    "'Kurt Friedrich Gödel'"
   ]
  },
  {
   "cell_type": "markdown",
   "metadata": {},
   "source": [
    "* La siguiente celda, definirá a un objeto ```str``` vacío."
   ]
  },
  {
   "cell_type": "code",
   "execution_count": null,
   "metadata": {},
   "outputs": [],
   "source": [
    "''"
   ]
  },
  {
   "cell_type": "markdown",
   "metadata": {},
   "source": [
    "### El tipo ```bytes```.\n",
    "\n",
    "El tipo ```bytes``` es una colección ordenada e indexable numéricamente de caracteres *ASCII*. \n",
    "\n",
    "El contenido de este tipo de caracteres se encierra entre apóstrofes y comillas, pero se antecede una letra ```b``` al principio del objeto.\n",
    "\n",
    "\n",
    "Cualquiera de las siguientes sintaxis es válida:\n",
    "\n",
    "```\n",
    "b\"<texto>\"\n",
    "b'<texto>'\n",
    "```"
   ]
  },
  {
   "cell_type": "markdown",
   "metadata": {},
   "source": [
    "**Ejemplos:**"
   ]
  },
  {
   "cell_type": "markdown",
   "metadata": {},
   "source": [
    "* Las siguiente celdas son ejemplos correctos de objetos tipo ```bytes```."
   ]
  },
  {
   "cell_type": "code",
   "execution_count": null,
   "metadata": {},
   "outputs": [],
   "source": [
    "b'Hola'"
   ]
  },
  {
   "cell_type": "markdown",
   "metadata": {},
   "source": [
    "* La siguiente celda, definirá a un objeto ```bytes``` vacío."
   ]
  },
  {
   "cell_type": "code",
   "execution_count": null,
   "metadata": {},
   "outputs": [],
   "source": [
    "b''"
   ]
  },
  {
   "cell_type": "markdown",
   "metadata": {},
   "source": [
    "* La siguiente celda define a un objeto tipo ```bytes``` que incluye un caracter inexistente en la tabla del código *ASCII* , lo cual desencadenará un error de tipo ```SyntaxError```."
   ]
  },
  {
   "cell_type": "code",
   "execution_count": null,
   "metadata": {
    "scrolled": false
   },
   "outputs": [],
   "source": [
    "b'Kurt Friedrich Gödel'"
   ]
  },
  {
   "cell_type": "markdown",
   "metadata": {},
   "source": [
    "### El tipo ```list```.\n",
    "\n",
    "Los objetos tipo ```list``` son colecciones ordenadas de objetos, los cuales son indexables numéricamente y son mutables.\n",
    "\n",
    "Se definen encerrando entre corchetes ```[``` ```]``` una sucesión de objetos separados por comas ```,```.\n",
    "\n",
    "La sintaxis es la siguiente:\n",
    "\n",
    "```\n",
    "[<objeto 1>, <objeto 2>, ..., <objeto n>] \n",
    "```"
   ]
  },
  {
   "cell_type": "markdown",
   "metadata": {},
   "source": [
    "**Ejemplos:**"
   ]
  },
  {
   "cell_type": "markdown",
   "metadata": {},
   "source": [
    "* Las siguientes celdas definen objetos tipo ```list``` válidos."
   ]
  },
  {
   "cell_type": "code",
   "execution_count": null,
   "metadata": {},
   "outputs": [],
   "source": [
    "[1, 2, \"tres\", True, None]"
   ]
  },
  {
   "cell_type": "code",
   "execution_count": null,
   "metadata": {},
   "outputs": [],
   "source": [
    "[None]"
   ]
  },
  {
   "cell_type": "markdown",
   "metadata": {},
   "source": [
    "* La siguiente celda define a un objetos tipo ```list``` que a su vez contiene a otro objeto de tipo ```list```."
   ]
  },
  {
   "cell_type": "code",
   "execution_count": null,
   "metadata": {},
   "outputs": [],
   "source": [
    "[False, ['auto', 30, 'gasolina'], 73.12]"
   ]
  },
  {
   "cell_type": "markdown",
   "metadata": {},
   "source": [
    "* La siguiente celda define a un objeto tipo ```list``` vacío."
   ]
  },
  {
   "cell_type": "code",
   "execution_count": null,
   "metadata": {},
   "outputs": [],
   "source": [
    "[]"
   ]
  },
  {
   "cell_type": "markdown",
   "metadata": {},
   "source": [
    "### El tipo ```tuple```.\n",
    "\n",
    "Los objetos tipo ```tuple``` son colecciones ordenadas de objetos, los cuales son indexables numéricamente e inmutables.\n",
    "\n",
    "Se definen encerrando entre paréntesis ```(``` ```)``` una sucesión de objetos separados por comas ```,```.\n",
    "\n",
    "La sintaxis es la siguiente:\n",
    "\n",
    "```\n",
    "(<objeto 1>, <objeto 2>, ..., <objeto n>) \n",
    "```"
   ]
  },
  {
   "cell_type": "markdown",
   "metadata": {},
   "source": [
    "**Ejemplos:**"
   ]
  },
  {
   "cell_type": "markdown",
   "metadata": {},
   "source": [
    "* Las siguientes celdas también definen objetos tipo ```tuple``` válidos."
   ]
  },
  {
   "cell_type": "code",
   "execution_count": null,
   "metadata": {},
   "outputs": [],
   "source": [
    "(1, 2, \"tres\", True, None)"
   ]
  },
  {
   "cell_type": "markdown",
   "metadata": {},
   "source": [
    "* La siguiente celda define a un objetos tipo ```tuple``` que a su vez contiene a otro objeto de tipo ```list```."
   ]
  },
  {
   "cell_type": "code",
   "execution_count": null,
   "metadata": {},
   "outputs": [],
   "source": [
    "(False, ['auto', 30, 'gasolina'], 73.12)"
   ]
  },
  {
   "cell_type": "markdown",
   "metadata": {},
   "source": [
    "* La siguiente celda define a un objeto tipo ```tuple``` vacío."
   ]
  },
  {
   "cell_type": "code",
   "execution_count": null,
   "metadata": {},
   "outputs": [],
   "source": [
    "()"
   ]
  },
  {
   "cell_type": "markdown",
   "metadata": {},
   "source": [
    "**NOTA:** \n",
    "\n",
    "Un objeto de tipo ```tuple``` que solo contiene un elemento ```None``` se convierte en ``Ǹone```"
   ]
  },
  {
   "cell_type": "code",
   "execution_count": null,
   "metadata": {},
   "outputs": [],
   "source": [
    "(None)"
   ]
  },
  {
   "cell_type": "markdown",
   "metadata": {},
   "source": [
    "Para crear un objeto ```tuple``` que contenga un elemento ```None``` que contenga un elemento ```None``` se debe de poner una coma ```,``` al final. "
   ]
  },
  {
   "cell_type": "code",
   "execution_count": null,
   "metadata": {},
   "outputs": [],
   "source": [
    "(None,)"
   ]
  },
  {
   "cell_type": "markdown",
   "metadata": {},
   "source": [
    "### El tipo ```dict```.\n",
    "\n",
    "El tipo ```dict``` es una colección mutable de pares *clave:valor* indexable mediante la clave de cada elemento.\n",
    "    \n",
    "Los pares están separados por comas ```,``` y delimitados por llaves ```{``` ```}```.\n",
    "\n",
    "La sintaxis para definir un objeto tipo ```dict``` es: \n",
    "\n",
    "```\n",
    "{<clave 1>:<valor 1>, <clave 2>:<valor 2>, ... , <clave n>:<valor n>} \n",
    "```\n",
    "\n",
    "* La clave, a la cual también se le referirá como identificador, debe de ser de algún tipo inmutable y único dentro del objeto tipo ```dict```. \n",
    "* El valor puede ser un objeto de cualquier tipo y puede repetirse dentro del objeto de tipo ```dict```.\n",
    "\n",
    "**NOTA:** Los objetos de tipo ```dict``` no  siempre respetan el orden en el que los elementos son ingresados."
   ]
  },
  {
   "cell_type": "markdown",
   "metadata": {},
   "source": [
    "**Ejemplos:**"
   ]
  },
  {
   "cell_type": "markdown",
   "metadata": {},
   "source": [
    "* Las siguientes celdas definen objetos tipo ```dict``` válidos."
   ]
  },
  {
   "cell_type": "code",
   "execution_count": null,
   "metadata": {},
   "outputs": [],
   "source": [
    "{'nulo':None, True:'V', 2:[1, 2, 3], '2':False, ('x', 'y'): 15.3}"
   ]
  },
  {
   "cell_type": "code",
   "execution_count": null,
   "metadata": {},
   "outputs": [],
   "source": [
    "{'nombre':'Juan', 'apellido': 'Pérez', 'promedio':7.5}"
   ]
  },
  {
   "cell_type": "markdown",
   "metadata": {},
   "source": [
    "* La siguiente celda define un objeto tipo ```dict```vacio."
   ]
  },
  {
   "cell_type": "code",
   "execution_count": null,
   "metadata": {},
   "outputs": [],
   "source": [
    "{}"
   ]
  },
  {
   "cell_type": "markdown",
   "metadata": {},
   "source": [
    "* La siguiente celda definen un objeto tipo ```dict``` que repite al identificador ```nombre```. El último par es el que será conservado."
   ]
  },
  {
   "cell_type": "code",
   "execution_count": null,
   "metadata": {},
   "outputs": [],
   "source": [
    "{'nombre':'Juan', 'apellido': 'Pérez', 'promedio':7.5, 'nombre':'Laura'}"
   ]
  },
  {
   "cell_type": "markdown",
   "metadata": {},
   "source": [
    "* La siguiente celda define a un objeto tipo ```dict``` ingresando como identificador al objeto ```[True, 1]``` de tipo ```list```el cual es mutable, lo cual desencadenará un error de tipo ```TypeError```."
   ]
  },
  {
   "cell_type": "code",
   "execution_count": null,
   "metadata": {
    "scrolled": true
   },
   "outputs": [],
   "source": [
    "{'nombre':'Juan', 'apellido': 'Pérez', [True, 1]:7.5}"
   ]
  },
  {
   "cell_type": "markdown",
   "metadata": {},
   "source": [
    "### El tipo ```set```.\n",
    "\n",
    "Los objetos de tipo ```set``` son colecciones de objetos capaces de realizar operaciones de conjuntos. Aún cuando los objetos ```set``` son mutables, los elementos contenidos en ellos son únicos e inmutables. \n",
    "\n",
    "Los objetos de tipo ```set``` se definen encerrando entre llaves ```{``` ```}``` una sucesión de objetos separados por comas ```,```.\n",
    "\n",
    "La sintaxis es la siguiente:\n",
    "\n",
    "```\n",
    "{<objeto 1>,<objeto 2>, ..., <objeto n>} \n",
    "```\n",
    "\n",
    "En caso de que se definan varios elementos del mismo valor, sólo se conservará uno.\n",
    "\n",
    "**NOTA:** Los objetos de tipo ```set``` no  siempre respetan el orden en el que los elementos son ingresados."
   ]
  },
  {
   "cell_type": "markdown",
   "metadata": {},
   "source": [
    "**Ejemplos:**"
   ]
  },
  {
   "cell_type": "markdown",
   "metadata": {},
   "source": [
    "* Las siguientes celdas definen objetos tipo ```set``` válidos."
   ]
  },
  {
   "cell_type": "code",
   "execution_count": null,
   "metadata": {},
   "outputs": [],
   "source": [
    "{False, ('auto', 30, 'gasolina'), 73.12}"
   ]
  },
  {
   "cell_type": "markdown",
   "metadata": {},
   "source": [
    "* La siguiente celda define un objeto tipo ```set``` que incluye varios elementos de valor numérico equivalente a ```3``` aún cuando no son del mismo tipo y también se incluye el objeto ```'3'```, el cual no es un valor numérico, sino un caracter."
   ]
  },
  {
   "cell_type": "code",
   "execution_count": null,
   "metadata": {},
   "outputs": [],
   "source": [
    "{3, 2, True, None, 0, False, 3.0, 5, 3., '3', 'Hola', 3, 3}"
   ]
  },
  {
   "cell_type": "markdown",
   "metadata": {},
   "source": [
    "* En la siguiente celda se define un objeto de tipo ```set``` en donde ```1``` y  ```True``` tienen el mismo valor aunque no son del mismo tipo. En este caso, se desecha uno de estos objetos."
   ]
  },
  {
   "cell_type": "code",
   "execution_count": null,
   "metadata": {
    "scrolled": true
   },
   "outputs": [],
   "source": [
    "{1, 2, \"tres\", True, None}"
   ]
  },
  {
   "cell_type": "markdown",
   "metadata": {},
   "source": [
    "* La siguiente celda define a un objeto de tipo ```set``` que incluye a un objeto de tipo ```list```, el cual es mutable, lo cual desencadenará un error de tipo ```TypeError```."
   ]
  },
  {
   "cell_type": "code",
   "execution_count": null,
   "metadata": {},
   "outputs": [],
   "source": [
    "{False, ['auto', 30, 'gasolina'], 73.12}"
   ]
  },
  {
   "cell_type": "markdown",
   "metadata": {},
   "source": [
    "* La siguiente celda define a un objeto de tipo ```set``` que incluye a un objeto de tipo ```dict```, el cual es mutable, lo cual desencadenará un error de tipo ```TypeError```."
   ]
  },
  {
   "cell_type": "code",
   "execution_count": null,
   "metadata": {},
   "outputs": [],
   "source": [
    "{None, {'uno':1, 'dos': 2}}"
   ]
  },
  {
   "cell_type": "markdown",
   "metadata": {},
   "source": [
    "### El tipo ```frozenset```.\n",
    "\n",
    "Los objetos tipo ```frozenset``` son conjuntos inmutables de objetos únicos.  \n",
    "\n",
    "Este tipo de objetos sólo puede contener objetos inmutables.\n",
    "\n",
    "Se definen utilizando la función  ```frozenset()``` e ingresando una colección como argumento.\n",
    "\n",
    "La sintaxis es la siguiente:\n",
    "\n",
    "```\n",
    "frozenset(<colección>) \n",
    "```\n",
    "\n",
    "* La función ```frozenset()``` puede aceptar los siguientes tipos de objetos, siempre y cuando contengan exclusivamente objetos inmutables.\n",
    "\n",
    "    * ```set```.\n",
    "    * ```list```.\n",
    "    * ```tuple```.\n",
    "    * En el caso de los objetos de  ```dict```, se toma exclusivamente a las claves para formar el objeto.\n",
    "    * En el caso de los objetos de tipo ```str``` y ```bytes```, cada caracter de la cadena se vuelve un elemento separado.\n",
    "    \n",
    "**NOTA:** Los objetos de tipo ```dict``` no  siempre respetan el orden en el que los elementos son ingresados."
   ]
  },
  {
   "cell_type": "markdown",
   "metadata": {},
   "source": [
    "**Ejemplos:**"
   ]
  },
  {
   "cell_type": "markdown",
   "metadata": {},
   "source": [
    "* Las siguientes celdas defienen objetos tipo ```frozenset``` válidos. "
   ]
  },
  {
   "cell_type": "markdown",
   "metadata": {},
   "source": [
    "* La siguiente celda separará cada caracter del objeto  ```'Caracoles'``` y creará un conjunto de caracteres únicos. "
   ]
  },
  {
   "cell_type": "code",
   "execution_count": 11,
   "metadata": {},
   "outputs": [
    {
     "data": {
      "text/plain": [
       "frozenset({'C', 'a', 'c', 'e', 'l', 'o', 'r', 's'})"
      ]
     },
     "execution_count": 11,
     "metadata": {},
     "output_type": "execute_result"
    }
   ],
   "source": [
    "frozenset('Caracoles')"
   ]
  },
  {
   "cell_type": "markdown",
   "metadata": {},
   "source": [
    "* La siguiente celda separará cada caracter del objeto  ```b'Caracoles'``` y creará un conjunto de valores enteros únicos. Cada valor corresponde a la posición de cada caracter en el código ASCII."
   ]
  },
  {
   "cell_type": "code",
   "execution_count": 10,
   "metadata": {},
   "outputs": [
    {
     "data": {
      "text/plain": [
       "frozenset({67, 97, 99, 101, 108, 111, 114, 115})"
      ]
     },
     "execution_count": 10,
     "metadata": {},
     "output_type": "execute_result"
    }
   ],
   "source": [
    "frozenset(b'Caracoles')"
   ]
  },
  {
   "cell_type": "code",
   "execution_count": null,
   "metadata": {},
   "outputs": [],
   "source": [
    "frozenset([1, 2, 3])"
   ]
  },
  {
   "cell_type": "code",
   "execution_count": null,
   "metadata": {},
   "outputs": [],
   "source": [
    "frozenset((1, 2, 3))"
   ]
  },
  {
   "cell_type": "code",
   "execution_count": null,
   "metadata": {},
   "outputs": [],
   "source": [
    "frozenset({1, 2, 3})"
   ]
  },
  {
   "cell_type": "code",
   "execution_count": null,
   "metadata": {},
   "outputs": [],
   "source": [
    "frozenset({'nombre': 'Juan', 'apellido': 'Pérez'})"
   ]
  },
  {
   "cell_type": "code",
   "execution_count": null,
   "metadata": {},
   "outputs": [],
   "source": [
    "frozenset((False, ('auto', 30, 'gasolina'), 73.12))"
   ]
  },
  {
   "cell_type": "code",
   "execution_count": null,
   "metadata": {},
   "outputs": [],
   "source": [
    "frozenset({})"
   ]
  },
  {
   "cell_type": "markdown",
   "metadata": {},
   "source": [
    "* La siguiente celda contiene al elemento ```['auto', 30, 'gasolina']``` de tipo ```list``` el cual es mutable, lo cual desencadenará un error de tipo ```TypeError```."
   ]
  },
  {
   "cell_type": "code",
   "execution_count": null,
   "metadata": {
    "scrolled": true
   },
   "outputs": [],
   "source": [
    "frozenset((False, ['auto', 30, 'gasolina'], 73.12))"
   ]
  },
  {
   "cell_type": "markdown",
   "metadata": {},
   "source": [
    "* La siguiente celda no contiene a una colección sino a una secuencia de elementos, por lo que se desencadenará un error de tipo ```TypeError```."
   ]
  },
  {
   "cell_type": "code",
   "execution_count": null,
   "metadata": {},
   "outputs": [],
   "source": [
    "frozenset(False, 'auto', 30, 'gasolina', 73.12)"
   ]
  },
  {
   "cell_type": "markdown",
   "metadata": {},
   "source": [
    "## La función ```len()```.\n",
    "\n",
    "Esta función permite conocer el número de elementos (el tamaño) que contiene una colección.\n",
    "\n",
    "```\n",
    "len(<colección>)\n",
    "```"
   ]
  },
  {
   "cell_type": "markdown",
   "metadata": {},
   "source": [
    "**Ejemplos:**"
   ]
  },
  {
   "cell_type": "markdown",
   "metadata": {},
   "source": [
    "* Las siguientes celdas regresarán el tamaño de cada objeto que es ingresado como argumento."
   ]
  },
  {
   "cell_type": "code",
   "execution_count": null,
   "metadata": {},
   "outputs": [],
   "source": [
    "len('Hola')"
   ]
  },
  {
   "cell_type": "markdown",
   "metadata": {},
   "source": [
    "* En el siguiente caso, el objeto ```[3, 4 , 6]``` cuenta como un solo elemento."
   ]
  },
  {
   "cell_type": "code",
   "execution_count": null,
   "metadata": {},
   "outputs": [],
   "source": [
    "len([1, 2, [3, 4 , 6], None])"
   ]
  },
  {
   "cell_type": "code",
   "execution_count": null,
   "metadata": {},
   "outputs": [],
   "source": [
    "len({})"
   ]
  },
  {
   "cell_type": "code",
   "execution_count": null,
   "metadata": {},
   "outputs": [],
   "source": [
    "persona = {'nombre':'Juan', 'apellido': 'Pérez', 'promedio':7.5}"
   ]
  },
  {
   "cell_type": "code",
   "execution_count": null,
   "metadata": {},
   "outputs": [],
   "source": [
    "len(persona)"
   ]
  },
  {
   "cell_type": "markdown",
   "metadata": {},
   "source": [
    "## Indexado de colecciones.\n",
    "\n",
    "Los siguientes tipos permiten identificar a cada elemento contenido en ellos mediante un índice.\n",
    "\n",
    "* ```str```.\n",
    "* ```bytes```.\n",
    "* ```list```.\n",
    "* ```tuple```.\n",
    "* ```dict```.\n",
    "\n",
    "Dependiendo del tipo de colección, el índice puede ser un número entero, un rango numérico o una clave delimitado por corchetes ```[``` ```]``` y que se coloca a la derecha del objeto del cual se extraerá el o los elemento.\n",
    "\n",
    "La sintaxis es la siguiente:\n",
    "\n",
    "```\n",
    "<colección>[<número, clave o rango>]\n",
    "```"
   ]
  },
  {
   "cell_type": "markdown",
   "metadata": {},
   "source": [
    "### Indexado numérico.\n",
    "\n",
    "Los objetos de tipos con indexado numérico identifican a cada elemento que contienen identificándolo mediante un número entero de 2 formas:\n",
    "\n",
    "* De izquierda a derecha: El primer elemento del extremo izquierdo tiene el índice ```0```, en incrementos de uno hasta llegar al extremo derecho.\n",
    "* De derecha a izquierda: El primer elemento del extremo derecho tiene el índice ```-1```, decreciendo de uno en uno hasta llegar al extremo izquierdo.\n",
    "\n",
    "Este tipo de indexado es propio de los tipos:\n",
    "\n",
    "* ```str```.\n",
    "* ```bytes```.\n",
    "* ```list```.\n",
    "* ```tuple```.\n",
    "\n",
    "Si el índice sobrepasa el tamaño del objeto, se desencadenará un error de tipo ```IndexError```."
   ]
  },
  {
   "cell_type": "markdown",
   "metadata": {},
   "source": [
    "**Ejemplos:**"
   ]
  },
  {
   "cell_type": "markdown",
   "metadata": {},
   "source": [
    "* La siguiente celda obtendrá el caracter ```'l'``` del objeto ```'saludo'```, cuyo índice corresponde a ```[2]``` yendo de izquierda a derecha."
   ]
  },
  {
   "cell_type": "code",
   "execution_count": null,
   "metadata": {},
   "outputs": [],
   "source": [
    "'saludo'[2]"
   ]
  },
  {
   "cell_type": "markdown",
   "metadata": {},
   "source": [
    "* La siguiente celda obtendrá el número ```108```, a partir del objeto ```b'saludo'```. Dicho número corresponde al valor del caracter ```l``` en la tabla de código *ASCII*. El índice corresponde a ```[-4]``` yendo de derecha a izquierda."
   ]
  },
  {
   "cell_type": "code",
   "execution_count": null,
   "metadata": {},
   "outputs": [],
   "source": [
    "b'saludo'[-4]"
   ]
  },
  {
   "cell_type": "markdown",
   "metadata": {},
   "source": [
    "* La siguiente celda pide un índice fuera de rango y desecadenará un error de tipo ``ÌndexError```."
   ]
  },
  {
   "cell_type": "code",
   "execution_count": null,
   "metadata": {},
   "outputs": [],
   "source": [
    "'saludo'[10]"
   ]
  },
  {
   "cell_type": "markdown",
   "metadata": {},
   "source": [
    "* La siguientes celdas ejemplificarán el uso del indexado numérico en objetos tipo ```list``` al que se le asignará el nombre ```lista```."
   ]
  },
  {
   "cell_type": "code",
   "execution_count": null,
   "metadata": {},
   "outputs": [],
   "source": [
    "lista = [1, 2, 3, 4]"
   ]
  },
  {
   "cell_type": "code",
   "execution_count": null,
   "metadata": {},
   "outputs": [],
   "source": [
    "lista[1]"
   ]
  },
  {
   "cell_type": "code",
   "execution_count": null,
   "metadata": {},
   "outputs": [],
   "source": [
    "lista[-3]"
   ]
  },
  {
   "cell_type": "markdown",
   "metadata": {},
   "source": [
    "* La siguientes celdas ejemplificarán el uso del indexado numérico en objetos tipo ```tuple``` al que se le asignará el nombre ```tupla```."
   ]
  },
  {
   "cell_type": "code",
   "execution_count": null,
   "metadata": {},
   "outputs": [],
   "source": [
    "tupla = (1, [4, True, None, 'Saludo'], 6, 22.5)"
   ]
  },
  {
   "cell_type": "code",
   "execution_count": null,
   "metadata": {},
   "outputs": [],
   "source": [
    "tupla[0]"
   ]
  },
  {
   "cell_type": "code",
   "execution_count": null,
   "metadata": {
    "scrolled": true
   },
   "outputs": [],
   "source": [
    "tupla[-3]"
   ]
  },
  {
   "cell_type": "markdown",
   "metadata": {},
   "source": [
    "### Indexado mediante la clave en los objetos de tipo ```dict```.\n",
    "\n",
    "Los objetos de tipo ```dict``` no cuentan con índices numéricos. En su defecto, es posible obtener un valor mediante su clave correspondiente.\n",
    "\n",
    "```\n",
    "<objeto dict>[<clave>]\n",
    "```\n",
    "\n",
    "Si la clave que se ingresa no existe, se desencadenará un error de tipo ```KeyError```."
   ]
  },
  {
   "cell_type": "markdown",
   "metadata": {},
   "source": [
    "**Ejemplo:**"
   ]
  },
  {
   "cell_type": "markdown",
   "metadata": {},
   "source": [
    "* La siguiente celda definirá al objeto ```persona```, el cual contiene las claves:\n",
    "    * ```'nombre'```.\n",
    "    * ```'primer apellido'```.\n",
    "    * ```'promedio'```.\n",
    "    * ```True```."
   ]
  },
  {
   "cell_type": "code",
   "execution_count": null,
   "metadata": {},
   "outputs": [],
   "source": [
    "persona = {'nombre': 'Juan', 'primer apellido': 'Pérez', 'promedio':7.8, True:'V'}"
   ]
  },
  {
   "cell_type": "markdown",
   "metadata": {},
   "source": [
    "* La siguiente celda regresará el objeto ```7.8``` correspondiente a la clave ```'promedio'``` del objeto ```persona```."
   ]
  },
  {
   "cell_type": "code",
   "execution_count": null,
   "metadata": {},
   "outputs": [],
   "source": [
    "persona['promedio']"
   ]
  },
  {
   "cell_type": "markdown",
   "metadata": {},
   "source": [
    "* La siguiente celda regresará el objeto ```'Juan'``` correspondiente a la clave ```'nombre'``` del objeto ```persona```."
   ]
  },
  {
   "cell_type": "code",
   "execution_count": null,
   "metadata": {},
   "outputs": [],
   "source": [
    "persona['nombre']"
   ]
  },
  {
   "cell_type": "markdown",
   "metadata": {},
   "source": [
    "* La siguiente celda regresará el objeto ```'V'``` correspondiente a la clave ```True``` del objeto ```persona```."
   ]
  },
  {
   "cell_type": "code",
   "execution_count": null,
   "metadata": {},
   "outputs": [],
   "source": [
    "persona[True]"
   ]
  },
  {
   "cell_type": "markdown",
   "metadata": {},
   "source": [
    "* La siguiente celda hace referencia a la clave ```'indefinido'```, la cual no existe en el objeto ```persona``` lo que desencdenará unn error de tipo ```KeyError```."
   ]
  },
  {
   "cell_type": "code",
   "execution_count": null,
   "metadata": {},
   "outputs": [],
   "source": [
    "persona['indefinido']"
   ]
  },
  {
   "cell_type": "markdown",
   "metadata": {},
   "source": [
    "###  Indíces anidados.\n",
    "\n",
    "Si un elemento seleccionado dentro de una colección indexables también en una colección indexable, es posible realizar una indexación anidada colocando el índice a la derecha del índice superior.\n",
    "\n",
    "```\n",
    "<colección>[<indice 1>][<índice 2>]...[<índice n>]\n",
    "```"
   ]
  },
  {
   "cell_type": "markdown",
   "metadata": {},
   "source": [
    "**Ejemplos:**"
   ]
  },
  {
   "cell_type": "markdown",
   "metadata": {},
   "source": [
    "* A continuación se definirá al objeto ```tupla```, el cual contiene al objeto ```[4, True, None, 'Saludo']``` en el índice ```[1]```, el cual a su vez contiene al objeto ```'Saludo'``` en el índice ```[3]```."
   ]
  },
  {
   "cell_type": "code",
   "execution_count": null,
   "metadata": {},
   "outputs": [],
   "source": [
    "tupla = (1, [4, True, None, 'Saludo'], 6, 22.5)"
   ]
  },
  {
   "cell_type": "markdown",
   "metadata": {},
   "source": [
    "* La siguiente celda regresará al objeto ```[4, True, None, 'Saludo']``` a partir de ```tupla[1]```."
   ]
  },
  {
   "cell_type": "code",
   "execution_count": null,
   "metadata": {},
   "outputs": [],
   "source": [
    "tupla[1]"
   ]
  },
  {
   "cell_type": "markdown",
   "metadata": {},
   "source": [
    "* La siguiente celda regresará al objeto ```'Saludo'``` a partir de ```tupla[1][3]```."
   ]
  },
  {
   "cell_type": "code",
   "execution_count": null,
   "metadata": {},
   "outputs": [],
   "source": [
    "tupla[1][3]"
   ]
  },
  {
   "cell_type": "markdown",
   "metadata": {},
   "source": [
    "* La siguiente celda regresará al cracter ```'l'``` a partir de ```tupla[1][3][2]```."
   ]
  },
  {
   "cell_type": "code",
   "execution_count": null,
   "metadata": {
    "scrolled": false
   },
   "outputs": [],
   "source": [
    "tupla[1][3][2]"
   ]
  },
  {
   "cell_type": "markdown",
   "metadata": {},
   "source": [
    "* A continuación se definirá al objeto ```persona```, el cual contiene al par  ```'primer apellido': 'Pérez'```."
   ]
  },
  {
   "cell_type": "code",
   "execution_count": null,
   "metadata": {},
   "outputs": [],
   "source": [
    "persona = {'nombre': 'Juan', 'primer apellido': 'Pérez', 'promedio':7.8}"
   ]
  },
  {
   "cell_type": "markdown",
   "metadata": {},
   "source": [
    "* La siguiente celda obtendrá al objeto ```'Pérez'``` a partir de ```persona['primer apellido']```."
   ]
  },
  {
   "cell_type": "code",
   "execution_count": null,
   "metadata": {},
   "outputs": [],
   "source": [
    "persona['primer apellido']"
   ]
  },
  {
   "cell_type": "markdown",
   "metadata": {},
   "source": [
    "* La siguiente celda obtendrá al caracter ```'é'``` a partir de ```persona['primer apellido'][-4]```."
   ]
  },
  {
   "cell_type": "code",
   "execution_count": null,
   "metadata": {},
   "outputs": [],
   "source": [
    "persona['primer apellido'][-4]"
   ]
  },
  {
   "cell_type": "markdown",
   "metadata": {},
   "source": [
    "### Rebanado (slicing).\n",
    "\n",
    "Las colecciones con índices numéricos permiten indexar rangos de elementos con la siguiente sintaxis.\n",
    "\n",
    "```\n",
    "<colección>[<indice menor>:<indice mayor>]\n",
    "```\n",
    "\n",
    "Esto regresará un nuevo objeto con los elementos comprendidos entre el índice menor y uno antes que el índice mayor.\n",
    "\n",
    "* Si no se indica un índice menor, el rango empieza desde el índice ```0```.\n",
    "\n",
    "* Si no se indica un índice mayor, el rango termina con el último elemento contenido.\n",
    "\n",
    "* Si no se indica ningún índice y sólo se colocan los dos puntos ```:```, se hará un rebanado completo del objeto.\n",
    "\n",
    "* El índice mayor puede ser superior al tamaño de la colección.\n",
    "* Si el rango no tiene sentido, se regresará una colección vacía. "
   ]
  },
  {
   "cell_type": "markdown",
   "metadata": {},
   "source": [
    "**Ejemplos:**"
   ]
  },
  {
   "cell_type": "code",
   "execution_count": null,
   "metadata": {},
   "outputs": [],
   "source": [
    "lista = [1, 2, 3, 4, 5, 6, 7]"
   ]
  },
  {
   "cell_type": "code",
   "execution_count": null,
   "metadata": {},
   "outputs": [],
   "source": [
    "lista[2:5]"
   ]
  },
  {
   "cell_type": "code",
   "execution_count": null,
   "metadata": {},
   "outputs": [],
   "source": [
    "lista[6:25]"
   ]
  },
  {
   "cell_type": "code",
   "execution_count": null,
   "metadata": {},
   "outputs": [],
   "source": [
    "lista[-2:25]"
   ]
  },
  {
   "cell_type": "code",
   "execution_count": null,
   "metadata": {},
   "outputs": [],
   "source": [
    "lista[-2:3]"
   ]
  },
  {
   "cell_type": "code",
   "execution_count": null,
   "metadata": {},
   "outputs": [],
   "source": [
    "lista[5:3]"
   ]
  },
  {
   "cell_type": "code",
   "execution_count": null,
   "metadata": {},
   "outputs": [],
   "source": [
    "nueva_lista = lista[:]"
   ]
  },
  {
   "cell_type": "code",
   "execution_count": null,
   "metadata": {},
   "outputs": [],
   "source": []
  },
  {
   "cell_type": "code",
   "execution_count": null,
   "metadata": {},
   "outputs": [],
   "source": [
    "nueva_lista"
   ]
  },
  {
   "cell_type": "code",
   "execution_count": null,
   "metadata": {},
   "outputs": [],
   "source": [
    "id(lista)"
   ]
  },
  {
   "cell_type": "code",
   "execution_count": null,
   "metadata": {},
   "outputs": [],
   "source": [
    "id(nueva_lista)"
   ]
  },
  {
   "cell_type": "code",
   "execution_count": null,
   "metadata": {},
   "outputs": [],
   "source": []
  },
  {
   "cell_type": "code",
   "execution_count": null,
   "metadata": {},
   "outputs": [],
   "source": [
    "'Buen día'[2:]"
   ]
  },
  {
   "cell_type": "code",
   "execution_count": null,
   "metadata": {},
   "outputs": [],
   "source": []
  },
  {
   "cell_type": "code",
   "execution_count": null,
   "metadata": {},
   "outputs": [],
   "source": [
    "(None, 4.015, True, 7, 'sombrero', ['uno', 'dos'], ())[:2]"
   ]
  },
  {
   "cell_type": "markdown",
   "metadata": {},
   "source": [
    "## Modificación de elementos en objetos tipo ```list ``` y ```dict```.\n",
    "\n",
    "Los tipos ```list``` y ```dict``` son tipos indexables y mutables, lo cual les permite:\n",
    "\n",
    "* Sustituir un elemento por medio de un índice.\n",
    "* Eliminar un elemento por medio de un índice.\n",
    "* En el caso de los objetos de tipo ```tuple``` es posible eliminar o sustituir elementos dentro de un rango.\n",
    "* En el caso de los objetos de tipo ```dict```, es posible añadir un nuevo par *clave:valor*."
   ]
  },
  {
   "cell_type": "markdown",
   "metadata": {},
   "source": [
    "### Eliminación de un elemento.\n",
    "\n",
    "```\n",
    "del <colección>[<índice>]\n",
    "```"
   ]
  },
  {
   "cell_type": "markdown",
   "metadata": {},
   "source": [
    "**Ejemplos:**"
   ]
  },
  {
   "cell_type": "code",
   "execution_count": null,
   "metadata": {},
   "outputs": [],
   "source": []
  },
  {
   "cell_type": "code",
   "execution_count": null,
   "metadata": {},
   "outputs": [],
   "source": []
  },
  {
   "cell_type": "code",
   "execution_count": null,
   "metadata": {},
   "outputs": [],
   "source": []
  },
  {
   "cell_type": "markdown",
   "metadata": {},
   "source": [
    "### Eliminación de un rango de elementos en objetos tipo ```list```.\n",
    "\n",
    "```\n",
    "del <objeto tipo list>[<índice menor>:<índice mayor>]\n",
    "```"
   ]
  },
  {
   "cell_type": "markdown",
   "metadata": {},
   "source": [
    "**Ejemplos:**"
   ]
  },
  {
   "cell_type": "code",
   "execution_count": null,
   "metadata": {},
   "outputs": [],
   "source": []
  },
  {
   "cell_type": "code",
   "execution_count": null,
   "metadata": {},
   "outputs": [],
   "source": []
  },
  {
   "cell_type": "markdown",
   "metadata": {},
   "source": [
    "### Sustitución de un elemento.\n",
    "\n",
    "```\n",
    "<colección>[<índice>] = <objeto>\n",
    "```"
   ]
  },
  {
   "cell_type": "markdown",
   "metadata": {},
   "source": [
    "**Ejemplos:**"
   ]
  },
  {
   "cell_type": "code",
   "execution_count": null,
   "metadata": {},
   "outputs": [],
   "source": []
  },
  {
   "cell_type": "code",
   "execution_count": null,
   "metadata": {},
   "outputs": [],
   "source": []
  },
  {
   "cell_type": "markdown",
   "metadata": {},
   "source": [
    "### Sustitución de un rango de elementos en objetos tipo ```list```.\n",
    "\n",
    "```\n",
    "<objeto tipo list>[<n>:<m>] = <objeto 1>, <objeto 2>, ... <objeto n - m>\n",
    "```\n"
   ]
  },
  {
   "cell_type": "markdown",
   "metadata": {},
   "source": [
    "**Ejemplos:**"
   ]
  },
  {
   "cell_type": "code",
   "execution_count": null,
   "metadata": {},
   "outputs": [],
   "source": []
  },
  {
   "cell_type": "code",
   "execution_count": null,
   "metadata": {},
   "outputs": [],
   "source": []
  },
  {
   "cell_type": "markdown",
   "metadata": {},
   "source": [
    "### Adición de un nuevo elemento en objetos tipo ```dict```.\n",
    "\n",
    "```\n",
    "<objeto tipo dict>[<clave nueva>] = <objeto>\n",
    "```\n"
   ]
  },
  {
   "cell_type": "markdown",
   "metadata": {},
   "source": [
    "**Ejemplos:**"
   ]
  },
  {
   "cell_type": "code",
   "execution_count": null,
   "metadata": {},
   "outputs": [],
   "source": [
    "lista = [1, 2, 3, 4, 5, 6, 7]"
   ]
  },
  {
   "cell_type": "code",
   "execution_count": null,
   "metadata": {},
   "outputs": [],
   "source": [
    "lista[2:4] = 'Verdadero', 15"
   ]
  },
  {
   "cell_type": "code",
   "execution_count": null,
   "metadata": {},
   "outputs": [],
   "source": [
    "lista"
   ]
  },
  {
   "cell_type": "code",
   "execution_count": null,
   "metadata": {},
   "outputs": [],
   "source": [
    "del lista[4:]"
   ]
  },
  {
   "cell_type": "code",
   "execution_count": null,
   "metadata": {},
   "outputs": [],
   "source": [
    "lista"
   ]
  },
  {
   "cell_type": "code",
   "execution_count": null,
   "metadata": {},
   "outputs": [],
   "source": [
    "lista = [1, 2, 3, 4, 5, 6, 7]"
   ]
  },
  {
   "cell_type": "code",
   "execution_count": null,
   "metadata": {},
   "outputs": [],
   "source": [
    "lista[0] = 'uno'"
   ]
  },
  {
   "cell_type": "code",
   "execution_count": null,
   "metadata": {},
   "outputs": [],
   "source": [
    "lista"
   ]
  },
  {
   "cell_type": "code",
   "execution_count": null,
   "metadata": {},
   "outputs": [],
   "source": [
    "del lista[5] "
   ]
  },
  {
   "cell_type": "code",
   "execution_count": null,
   "metadata": {},
   "outputs": [],
   "source": [
    "lista"
   ]
  },
  {
   "cell_type": "code",
   "execution_count": null,
   "metadata": {},
   "outputs": [],
   "source": [
    "persona = {'nombre': 'Juan', 'primer apellido': 'Pérez', 'promedio': 7.8}"
   ]
  },
  {
   "cell_type": "code",
   "execution_count": null,
   "metadata": {},
   "outputs": [],
   "source": [
    "del persona['promedio']"
   ]
  },
  {
   "cell_type": "code",
   "execution_count": null,
   "metadata": {
    "scrolled": true
   },
   "outputs": [],
   "source": [
    "persona"
   ]
  },
  {
   "cell_type": "code",
   "execution_count": null,
   "metadata": {},
   "outputs": [],
   "source": [
    "persona['nombre'] = 'Julia'"
   ]
  },
  {
   "cell_type": "code",
   "execution_count": null,
   "metadata": {
    "scrolled": true
   },
   "outputs": [],
   "source": [
    "persona"
   ]
  },
  {
   "cell_type": "markdown",
   "metadata": {},
   "source": [
    "## Objetos mutables dentro de objetos inmutables."
   ]
  },
  {
   "cell_type": "code",
   "execution_count": null,
   "metadata": {},
   "outputs": [],
   "source": [
    "tupla = (None, 4.015, True, 7, 'sombrero', ['uno', 'dos'], ())"
   ]
  },
  {
   "cell_type": "code",
   "execution_count": null,
   "metadata": {},
   "outputs": [],
   "source": [
    "tupla[2] = 0"
   ]
  },
  {
   "cell_type": "code",
   "execution_count": null,
   "metadata": {},
   "outputs": [],
   "source": [
    "del tupla[5]"
   ]
  },
  {
   "cell_type": "code",
   "execution_count": null,
   "metadata": {},
   "outputs": [],
   "source": [
    "tupla"
   ]
  },
  {
   "cell_type": "code",
   "execution_count": null,
   "metadata": {},
   "outputs": [],
   "source": [
    "tupla[-2]"
   ]
  },
  {
   "cell_type": "code",
   "execution_count": null,
   "metadata": {},
   "outputs": [],
   "source": [
    "tupla[-2][0] = 3"
   ]
  },
  {
   "cell_type": "code",
   "execution_count": null,
   "metadata": {},
   "outputs": [],
   "source": [
    "tupla"
   ]
  },
  {
   "cell_type": "code",
   "execution_count": null,
   "metadata": {},
   "outputs": [],
   "source": [
    "del tupla[-2][:]"
   ]
  },
  {
   "cell_type": "code",
   "execution_count": null,
   "metadata": {},
   "outputs": [],
   "source": [
    "tupla"
   ]
  },
  {
   "cell_type": "markdown",
   "metadata": {},
   "source": [
    "## Funciones relativas a tipos de datos."
   ]
  },
  {
   "cell_type": "markdown",
   "metadata": {},
   "source": [
    "### La función ```type()```.\n",
    "\n",
    "La función ```type()``` regresa el tipo de dato o clase a la que pertenece un objeto el cual es ingresado como argumento con la siguiente sintaxis:\n",
    "\n",
    "```\n",
    "type(<objeto>)\n",
    "```"
   ]
  },
  {
   "cell_type": "markdown",
   "metadata": {},
   "source": [
    "**Ejemplos:**"
   ]
  },
  {
   "cell_type": "markdown",
   "metadata": {},
   "source": [
    "* Las siguientes celdas utlizarán la función ```type()``` para conocer el tipo de datos del que se trata."
   ]
  },
  {
   "cell_type": "code",
   "execution_count": null,
   "metadata": {},
   "outputs": [],
   "source": [
    "type(\"Hola\")"
   ]
  },
  {
   "cell_type": "code",
   "execution_count": null,
   "metadata": {},
   "outputs": [],
   "source": [
    "type(b\"Hola\")"
   ]
  },
  {
   "cell_type": "code",
   "execution_count": null,
   "metadata": {},
   "outputs": [],
   "source": [
    "type(12)"
   ]
  },
  {
   "cell_type": "code",
   "execution_count": null,
   "metadata": {},
   "outputs": [],
   "source": [
    "type(12.)"
   ]
  },
  {
   "cell_type": "code",
   "execution_count": null,
   "metadata": {},
   "outputs": [],
   "source": [
    "type(23j)"
   ]
  },
  {
   "cell_type": "code",
   "execution_count": null,
   "metadata": {},
   "outputs": [],
   "source": [
    "type(True)"
   ]
  },
  {
   "cell_type": "code",
   "execution_count": null,
   "metadata": {},
   "outputs": [],
   "source": [
    "type([1, 2, 3])"
   ]
  },
  {
   "cell_type": "code",
   "execution_count": null,
   "metadata": {},
   "outputs": [],
   "source": [
    "type((1, 2, 3))"
   ]
  },
  {
   "cell_type": "code",
   "execution_count": null,
   "metadata": {},
   "outputs": [],
   "source": [
    "type({1, 2, 3})"
   ]
  },
  {
   "cell_type": "code",
   "execution_count": null,
   "metadata": {},
   "outputs": [],
   "source": [
    "type({'uno': '1'})"
   ]
  },
  {
   "cell_type": "code",
   "execution_count": null,
   "metadata": {},
   "outputs": [],
   "source": [
    "type(None)"
   ]
  },
  {
   "cell_type": "markdown",
   "metadata": {},
   "source": [
    "### La función ```int()```.\n",
    "\n",
    "Esta función transforma un objeto compatible que es ingresado como argumento a un objeto tipo ```int```. \n",
    " \n",
    "La sintaxis es la siguiente:\n",
    "\n",
    "```\n",
    "int(<objeto>)\n",
    "```\n",
    "\n",
    "* Es posible convertir objetos de tipo ```str``` que representen correctamente a un número entero.\n",
    "* Los objetos de tipo ```float``` son truncados en la parte entera. \n",
    "* ```True``` es convertido en ```1```.\n",
    "* ```False``` es convertido en ```0```. \n",
    "* La función ```int()``` es compatible con objetos tipo ```complex```.\n"
   ]
  },
  {
   "cell_type": "markdown",
   "metadata": {},
   "source": [
    "**Ejemplos:**"
   ]
  },
  {
   "cell_type": "markdown",
   "metadata": {},
   "source": [
    "* La siguiente celda convertirá en un objeto ```int``` al objeto de tipo ```bool``` que se ingresa como argumento."
   ]
  },
  {
   "cell_type": "code",
   "execution_count": null,
   "metadata": {},
   "outputs": [],
   "source": [
    "int(True)"
   ]
  },
  {
   "cell_type": "markdown",
   "metadata": {},
   "source": [
    "* El argumento de la siguiente celda contiene una representación correcta de un entero negativo, por lo que la función ```int()``` podrá realizar la conversión correctamente."
   ]
  },
  {
   "cell_type": "code",
   "execution_count": null,
   "metadata": {},
   "outputs": [],
   "source": [
    "int(\"-12\")"
   ]
  },
  {
   "cell_type": "markdown",
   "metadata": {},
   "source": [
    "* El argumento de la siguiente celda contiene una representación correcta de un número real, por lo que la función ```int()``` no podrá realizar la conversión correctamente y regresará un error de tipo ```ValueError```."
   ]
  },
  {
   "cell_type": "code",
   "execution_count": null,
   "metadata": {},
   "outputs": [],
   "source": [
    "int(\"28.8\")"
   ]
  },
  {
   "cell_type": "code",
   "execution_count": null,
   "metadata": {},
   "outputs": [],
   "source": [
    "int(b\"12\")"
   ]
  },
  {
   "cell_type": "markdown",
   "metadata": {},
   "source": [
    "* El argumento de la siguiente celda no contiene una representación correcta de un número entero, por lo que la función ```int()``` será incapaz de realizar la conversión y desencadenará un error de tipo ```ValueError```."
   ]
  },
  {
   "cell_type": "code",
   "execution_count": null,
   "metadata": {
    "scrolled": true
   },
   "outputs": [],
   "source": [
    "int('Hola')"
   ]
  },
  {
   "cell_type": "markdown",
   "metadata": {},
   "source": [
    "* Los argumentos de las siguiente celdas contienen objetos tipo ```float```, por lo que la función ```int()``` truncará el valor a enteros."
   ]
  },
  {
   "cell_type": "code",
   "execution_count": null,
   "metadata": {},
   "outputs": [],
   "source": [
    "int(5.6)"
   ]
  },
  {
   "cell_type": "code",
   "execution_count": null,
   "metadata": {},
   "outputs": [],
   "source": [
    "int(-5.3)"
   ]
  },
  {
   "cell_type": "markdown",
   "metadata": {},
   "source": [
    "* Los argumentos de las siguientes celdas son objetos de tipo ```complex```, por lo que la función ```int()``` será incapaz de realizar la conversión y desencadenará un error de tipo ```TypeError```."
   ]
  },
  {
   "cell_type": "code",
   "execution_count": null,
   "metadata": {},
   "outputs": [],
   "source": [
    "int(12 + 45.2j)"
   ]
  },
  {
   "cell_type": "code",
   "execution_count": null,
   "metadata": {},
   "outputs": [],
   "source": [
    "int(-5j)"
   ]
  },
  {
   "cell_type": "markdown",
   "metadata": {},
   "source": [
    "* El argumento de la siguiente celda es ```None```, el cual no puede ser representado por algún valor numérico, lo que desencadenará un error de tipo ```TypeError```."
   ]
  },
  {
   "cell_type": "code",
   "execution_count": null,
   "metadata": {},
   "outputs": [],
   "source": [
    "int(None)"
   ]
  },
  {
   "cell_type": "markdown",
   "metadata": {},
   "source": [
    "### La función ```float()```. \n",
    "\n",
    "Transforma a un objeto de tipo compatible que se ingrese como argumento a uno de tipo ```float```.\n",
    "\n",
    "La sintaxis es la siguiente:\n",
    "\n",
    "```\n",
    "float(<objeto>)\n",
    "```\n",
    "\n",
    "* Puede convertir objetos de tipo ```str``` que contengan una representación correcta a un número real.\n",
    "* Es compatible con los objetos tipo ```int```.\n",
    "* ```True``` es convertido en ```1.0```\n",
    "* ```False``` es convertido en ```0.0```. \n",
    "* No es compatible con objetos tipo ```complex```."
   ]
  },
  {
   "cell_type": "markdown",
   "metadata": {},
   "source": [
    "**Ejemplos:**"
   ]
  },
  {
   "cell_type": "markdown",
   "metadata": {},
   "source": [
    "* El argumento de la siguiente celda contiene una representación correcta de un número real, por lo que la función ```float()``` podrá realizar la conversión correctamente."
   ]
  },
  {
   "cell_type": "code",
   "execution_count": null,
   "metadata": {},
   "outputs": [],
   "source": [
    "float(\"-12.6\")"
   ]
  },
  {
   "cell_type": "markdown",
   "metadata": {},
   "source": [
    "* El argumento de la siguiente celda no contiene una representación correcta de un número, por lo que la función ```float()``` será incapaz de realizar la conversión y desencadenará un error de tipo ```ValueError```."
   ]
  },
  {
   "cell_type": "code",
   "execution_count": null,
   "metadata": {
    "scrolled": true
   },
   "outputs": [],
   "source": [
    "float('Hola')"
   ]
  },
  {
   "cell_type": "markdown",
   "metadata": {},
   "source": [
    "* El argumento de la siguiente celda es un objeto de tipo ```int```, por lo que la función ```float()``` será capaz de realizar la conversión."
   ]
  },
  {
   "cell_type": "code",
   "execution_count": null,
   "metadata": {},
   "outputs": [],
   "source": [
    "float(-5)"
   ]
  },
  {
   "cell_type": "markdown",
   "metadata": {},
   "source": [
    "* El argumento de la siguiente celda es un objeto de tipo ```complex```, por lo que la función ```float()``` será incapaz de realizar la conversión y desencadenará un error de tipo ```TypeError```."
   ]
  },
  {
   "cell_type": "code",
   "execution_count": null,
   "metadata": {},
   "outputs": [],
   "source": [
    "float(12.5 + 33j)"
   ]
  },
  {
   "cell_type": "code",
   "execution_count": null,
   "metadata": {},
   "outputs": [],
   "source": []
  },
  {
   "cell_type": "code",
   "execution_count": null,
   "metadata": {},
   "outputs": [],
   "source": [
    "float(False)"
   ]
  },
  {
   "cell_type": "code",
   "execution_count": null,
   "metadata": {},
   "outputs": [],
   "source": []
  },
  {
   "cell_type": "code",
   "execution_count": null,
   "metadata": {},
   "outputs": [],
   "source": [
    "float(None)"
   ]
  },
  {
   "cell_type": "markdown",
   "metadata": {},
   "source": [
    "### La función ```complex()```.\n",
    "\n",
    "Transforma a un objeto compatible a uno de tipo ```complex```.\n",
    "\n",
    "* Convierte objetos de tipo ```str``` que contengan representen correctamente a un número real.\n",
    "* Transforma en un objeto de tipo ```complex``` a un par de números ya sean ```int``` o ```float```. \n",
    "* Si sólo se da un número ```int``` o ```float```, este será identificado como el componente real y el componente complejo será ```0j```."
   ]
  },
  {
   "cell_type": "markdown",
   "metadata": {},
   "source": [
    "**Ejemplos:**"
   ]
  },
  {
   "cell_type": "code",
   "execution_count": null,
   "metadata": {},
   "outputs": [],
   "source": [
    "complex(3.5, 2)"
   ]
  },
  {
   "cell_type": "code",
   "execution_count": null,
   "metadata": {},
   "outputs": [],
   "source": [
    "complex(8.3)"
   ]
  },
  {
   "cell_type": "code",
   "execution_count": null,
   "metadata": {},
   "outputs": [],
   "source": [
    "complex(\"23+5j\")"
   ]
  },
  {
   "cell_type": "code",
   "execution_count": null,
   "metadata": {},
   "outputs": [],
   "source": [
    "complex(\"23\")"
   ]
  },
  {
   "cell_type": "code",
   "execution_count": null,
   "metadata": {},
   "outputs": [],
   "source": [
    "complex(\"23 + 5j\")"
   ]
  },
  {
   "cell_type": "markdown",
   "metadata": {},
   "source": [
    "### La función ```bool()```.\n",
    "\n",
    "Transforma en booleano a un objeto. \n",
    "\n",
    "* El ```0``` equivale a ```False```.\n",
    "* El valor```None``` equivale a ```False```.\n",
    "* Una colección vacía equivale a ```False``\n",
    "* Cualquier otra cosa distinta es ```True```.\n",
    "* "
   ]
  },
  {
   "cell_type": "markdown",
   "metadata": {},
   "source": [
    "**Ejemplos:**"
   ]
  },
  {
   "cell_type": "code",
   "execution_count": null,
   "metadata": {},
   "outputs": [],
   "source": [
    "bool(-3)"
   ]
  },
  {
   "cell_type": "code",
   "execution_count": null,
   "metadata": {},
   "outputs": [],
   "source": [
    "bool(2)"
   ]
  },
  {
   "cell_type": "code",
   "execution_count": null,
   "metadata": {},
   "outputs": [],
   "source": [
    "bool((12, 4, 78))"
   ]
  },
  {
   "cell_type": "code",
   "execution_count": null,
   "metadata": {},
   "outputs": [],
   "source": [
    "bool(\"Hola\")"
   ]
  },
  {
   "cell_type": "code",
   "execution_count": null,
   "metadata": {},
   "outputs": [],
   "source": [
    "bool(\"0\")"
   ]
  },
  {
   "cell_type": "code",
   "execution_count": null,
   "metadata": {},
   "outputs": [],
   "source": [
    "bool(0)"
   ]
  },
  {
   "cell_type": "code",
   "execution_count": null,
   "metadata": {},
   "outputs": [],
   "source": [
    "bool(\"\")"
   ]
  },
  {
   "cell_type": "code",
   "execution_count": null,
   "metadata": {},
   "outputs": [],
   "source": [
    "bool({})"
   ]
  },
  {
   "cell_type": "code",
   "execution_count": null,
   "metadata": {},
   "outputs": [],
   "source": [
    "bool(None)"
   ]
  },
  {
   "cell_type": "markdown",
   "metadata": {},
   "source": [
    "### La función ```str()```.\n",
    "\n",
    "Transforma a un objeto que es ingresados como argumento en una cadena de caracteres de tipo ```str````.\n",
    "\n",
    "La sintaxis es la siguiente:\n",
    "\n",
    "```\n",
    "str(<objeto>)\n",
    "```\n",
    "\n",
    "Prácticamente todos los objetos pueden ser transformados en una cadena de caracteres."
   ]
  },
  {
   "cell_type": "markdown",
   "metadata": {},
   "source": [
    "**Ejemplos:**"
   ]
  },
  {
   "cell_type": "markdown",
   "metadata": {},
   "source": [
    "* Las siguientes celdas transformarán un objeto a ```str```."
   ]
  },
  {
   "cell_type": "code",
   "execution_count": null,
   "metadata": {},
   "outputs": [],
   "source": [
    "str(True)"
   ]
  },
  {
   "cell_type": "code",
   "execution_count": null,
   "metadata": {},
   "outputs": [],
   "source": [
    "str(12 + 3.5j)"
   ]
  },
  {
   "cell_type": "code",
   "execution_count": null,
   "metadata": {
    "scrolled": false
   },
   "outputs": [],
   "source": [
    "str({'nombre': 'Juan'})"
   ]
  },
  {
   "cell_type": "code",
   "execution_count": null,
   "metadata": {},
   "outputs": [],
   "source": [
    "str(b'Saludos')"
   ]
  },
  {
   "cell_type": "markdown",
   "metadata": {},
   "source": [
    "### La función ```bytes()```."
   ]
  },
  {
   "cell_type": "code",
   "execution_count": null,
   "metadata": {},
   "outputs": [],
   "source": [
    "bytes('Saludos', encoding='utf-8')"
   ]
  },
  {
   "cell_type": "code",
   "execution_count": null,
   "metadata": {},
   "outputs": [],
   "source": [
    "bytes(6)"
   ]
  },
  {
   "cell_type": "code",
   "execution_count": null,
   "metadata": {},
   "outputs": [],
   "source": [
    "bytes(True)"
   ]
  },
  {
   "cell_type": "code",
   "execution_count": null,
   "metadata": {},
   "outputs": [],
   "source": [
    "bytes(False)"
   ]
  },
  {
   "cell_type": "code",
   "execution_count": null,
   "metadata": {},
   "outputs": [],
   "source": [
    "bytes(-1.4)"
   ]
  },
  {
   "cell_type": "code",
   "execution_count": null,
   "metadata": {},
   "outputs": [],
   "source": [
    "bytes(12 + 3.5j)"
   ]
  },
  {
   "cell_type": "code",
   "execution_count": null,
   "metadata": {
    "scrolled": true
   },
   "outputs": [],
   "source": [
    "bytes({'nombre': 'Juan'})"
   ]
  },
  {
   "cell_type": "markdown",
   "metadata": {},
   "source": [
    "### La función ```list()```."
   ]
  },
  {
   "cell_type": "code",
   "execution_count": null,
   "metadata": {},
   "outputs": [],
   "source": []
  },
  {
   "cell_type": "code",
   "execution_count": null,
   "metadata": {},
   "outputs": [],
   "source": []
  },
  {
   "cell_type": "markdown",
   "metadata": {},
   "source": [
    "### La función ```tuple()```."
   ]
  },
  {
   "cell_type": "code",
   "execution_count": null,
   "metadata": {},
   "outputs": [],
   "source": []
  },
  {
   "cell_type": "code",
   "execution_count": null,
   "metadata": {},
   "outputs": [],
   "source": []
  },
  {
   "cell_type": "markdown",
   "metadata": {},
   "source": [
    "### La función ```set()```."
   ]
  },
  {
   "cell_type": "code",
   "execution_count": null,
   "metadata": {},
   "outputs": [],
   "source": []
  },
  {
   "cell_type": "code",
   "execution_count": null,
   "metadata": {},
   "outputs": [],
   "source": []
  },
  {
   "cell_type": "markdown",
   "metadata": {},
   "source": [
    "### La función ```dict()```."
   ]
  },
  {
   "cell_type": "code",
   "execution_count": null,
   "metadata": {},
   "outputs": [],
   "source": []
  },
  {
   "cell_type": "code",
   "execution_count": null,
   "metadata": {},
   "outputs": [],
   "source": []
  },
  {
   "cell_type": "markdown",
   "metadata": {},
   "source": [
    "<p style=\"text-align: center\"><a rel=\"license\" href=\"http://creativecommons.org/licenses/by/4.0/\"><img alt=\"Licencia Creative Commons\" style=\"border-width:0\" src=\"https://i.creativecommons.org/l/by/4.0/80x15.png\" /></a><br />Esta obra está bajo una <a rel=\"license\" href=\"http://creativecommons.org/licenses/by/4.0/\">Licencia Creative Commons Atribución 4.0 Internacional</a>.</p>\n",
    "<p style=\"text-align: center\">&copy; José Luis Chiquete Valdivieso. 2019.</p>"
   ]
  }
 ],
 "metadata": {
  "kernelspec": {
   "display_name": "Python 3",
   "language": "python",
   "name": "python3"
  },
  "language_info": {
   "codemirror_mode": {
    "name": "ipython",
    "version": 3
   },
   "file_extension": ".py",
   "mimetype": "text/x-python",
   "name": "python",
   "nbconvert_exporter": "python",
   "pygments_lexer": "ipython3",
   "version": "3.6.5"
  }
 },
 "nbformat": 4,
 "nbformat_minor": 1
}
