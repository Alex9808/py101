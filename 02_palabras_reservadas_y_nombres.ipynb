{
 "cells": [
  {
   "cell_type": "markdown",
   "metadata": {},
   "source": [
    "[![imagenes](imagenes/pythonista.png)](https://pythonista.mx)"
   ]
  },
  {
   "cell_type": "markdown",
   "metadata": {},
   "source": [
    "## Palabras reservadas de Python.\n",
    "\n",
    "Las palabras reservadas (keywords) corresponden a los nombres de las declaraciones que el intérprete de Python incluye por defecto. No se deben utilizar dichas palabras para asignar nombres a otros objetos.\n",
    "\n",
    "El listado de palabras reservadas puede ser consultado ingresando ```help('keywords')``` desde la interfaz interactiva.\n",
    "\n",
    "### Palabras reservadas en Python 2.7.\n",
    "\n",
    "```\n",
    ">>> help(\"keywords\")\n",
    "\n",
    "Here is a list of the Python keywords.  Enter any keyword to get more help.\n",
    "\n",
    "and                 elif                if                  print\n",
    "as                  else                import              raise\n",
    "assert              except              in                  return\n",
    "break               exec                is                  try\n",
    "class               finally             lambda              while\n",
    "continue            for                 not                 with\n",
    "def                 from                or                  yield\n",
    "del                 global              pass                \n",
    "\n",
    ">>>\n",
    "```\n",
    "### Palabras reservadas en Python 3."
   ]
  },
  {
   "cell_type": "code",
   "execution_count": null,
   "metadata": {},
   "outputs": [],
   "source": [
    "help(\"keywords\")"
   ]
  },
  {
   "cell_type": "markdown",
   "metadata": {},
   "source": [
    "El intérprete utiliza otros elementos por defecto los cuales aún cuando son parte fundamentel del lenguaje y aún cuando no son palabras reservadas, no se recomienda utilizarlos como nombres.\n",
    "\n",
    "El módulo *\\_\\_buitlins\\_\\_* contiene al resto de estos elementos."
   ]
  },
  {
   "cell_type": "code",
   "execution_count": null,
   "metadata": {},
   "outputs": [],
   "source": [
    "dir(__builtins__)"
   ]
  },
  {
   "cell_type": "markdown",
   "metadata": {},
   "source": [
    "## El espacio de nombres (namespace).\n",
    "\n",
    "**Nota:** Para fines de claridad, los términos \"nombre\" e \"identificador\" serán considerados como sinónimos.\n",
    "\n",
    "* Python es un lenguaje de muy alto nivel en el que todos sus elementos son objetos, incluyendo los tipos de datos básicos.\n",
    "* La gestión del uso de la memoria es automático en Python, tanto para la asiganción de memoria al crear un objeto, como para la recuperación de memoria al desecharlo.\n",
    "* El espacio de nombres (namespace) contiene un listado de los objetos existentes en la memoria del sistema y los nombres a los que están ligados.\n",
    "* Un objeto puede tener más de un nombre.\n",
    "* Si un objeto no está ligado al menos a un nombre, dicho objeto es desechado.\n",
    "* El intérpete de Python tiene un espacio de nombres principal, pero cada función, módulo y objeto tiene su propio espacio de nombres. A ésto se le conoce como  \"Ámbito\" (Scope)."
   ]
  },
  {
   "cell_type": "markdown",
   "metadata": {},
   "source": [
    "## El operador de asignación ( *=* ).\n",
    "\n",
    "Para asignar un nombre a un objeto, se utiliza el el operador de asignación \"_=_\" con la siguiente sintaxis:\n",
    "\n",
    "```\n",
    "<identificador> = <objeto>\n",
    "```\n",
    "\n",
    "**Nota:** En el entorno interactivo es posible desplegar el contenido de un objeto tan sólo con ingresar su nombre."
   ]
  },
  {
   "cell_type": "markdown",
   "metadata": {},
   "source": [
    "**Ejemplo:**\n",
    "\n",
    "* Cada línea de la siguiente celda asigna un nombre a un objeto de Python. Por el momento no importa sabe qué tipo de objeto."
   ]
  },
  {
   "cell_type": "code",
   "execution_count": null,
   "metadata": {},
   "outputs": [],
   "source": [
    "saludo = 'Hola'\n",
    "matriz = [[\"autobús\", \"diesel\", True], [\"automóvil\", \"gasolina\", True]] \n",
    "numero = 23.45"
   ]
  },
  {
   "cell_type": "markdown",
   "metadata": {},
   "source": [
    "* Cada una de las celdas siguientes regresará el objeto que corresponde a cada nombre asignado."
   ]
  },
  {
   "cell_type": "code",
   "execution_count": null,
   "metadata": {},
   "outputs": [],
   "source": [
    "saludo"
   ]
  },
  {
   "cell_type": "code",
   "execution_count": null,
   "metadata": {},
   "outputs": [],
   "source": [
    "matriz"
   ]
  },
  {
   "cell_type": "code",
   "execution_count": null,
   "metadata": {},
   "outputs": [],
   "source": [
    "numero"
   ]
  },
  {
   "cell_type": "markdown",
   "metadata": {},
   "source": [
    "### Asignación de múltiples nombres a igual número de objetos.\n",
    "\n",
    "Es posible asignar a varios nombres un número igual de objetos usando un sólo operador de asignación mediante la siguiente sintaxis:\n",
    "\n",
    "```\n",
    "<nombre 1>, <nombre 2>, <nombre 3>, ..., <nombre n> = <objeto 1>, <objeto 2>, <objeto 3>, ...,<objeto n>```"
   ]
  },
  {
   "cell_type": "markdown",
   "metadata": {},
   "source": [
    "**Ejemplo:**\n",
    "\n",
    "* La siguiente celda contiene una línea que asignará 4 nombres a igual número de objetos."
   ]
  },
  {
   "cell_type": "code",
   "execution_count": null,
   "metadata": {},
   "outputs": [],
   "source": [
    "entero, flotante, complejo, booleano = 12, 4.5, (12.3 + 23j), True"
   ]
  },
  {
   "cell_type": "code",
   "execution_count": null,
   "metadata": {},
   "outputs": [],
   "source": [
    "entero"
   ]
  },
  {
   "cell_type": "code",
   "execution_count": null,
   "metadata": {},
   "outputs": [],
   "source": [
    "complejo"
   ]
  },
  {
   "cell_type": "code",
   "execution_count": null,
   "metadata": {},
   "outputs": [],
   "source": [
    "flotante"
   ]
  },
  {
   "cell_type": "code",
   "execution_count": null,
   "metadata": {},
   "outputs": [],
   "source": [
    "booleano"
   ]
  },
  {
   "cell_type": "markdown",
   "metadata": {},
   "source": [
    "### Sintaxis para la elaboración de nombres en Python 3.\n",
    "\n",
    "* Python 3 acepta el uso de _unicode_, por lo que es posible utilizar cualquier caracter alfabético, incluso aquellos distintos al alfabeto occidental, para la elaboración de nombres.\n",
    "* Los nombres pueden empezar con un guión bajo *_* o un caracter alfabético.\n",
    "* Después del primer caracter, se pueden utilizar caracteres alfabéticos, números y/o guiones bajos.\n",
    "* No se permiten caracteres distintos a los alfabéticos o que pudieran confundirse con operadores como \"|\", \"~\", \"#\", \"-\", etc.\n",
    "* Se pueden utilizar mayúsculas, pero cabe señalar que Python es sensible a mayúsculas.\n",
    "\n",
    "**Nota:** Python 2 sólo soporta nombres con caracteres alfabéticos del código ASCII."
   ]
  },
  {
   "cell_type": "markdown",
   "metadata": {},
   "source": [
    "**Ejemplos:**\n",
    "\n",
    "* Las siguientes celdas contienen asignaciones con nombres que se apegan a la sintaxis correcta, incluso usando el alfabeto hebreo."
   ]
  },
  {
   "cell_type": "code",
   "execution_count": null,
   "metadata": {},
   "outputs": [],
   "source": [
    "_saludo = 'Hola'"
   ]
  },
  {
   "cell_type": "code",
   "execution_count": null,
   "metadata": {},
   "outputs": [],
   "source": [
    "número = 23"
   ]
  },
  {
   "cell_type": "code",
   "execution_count": null,
   "metadata": {},
   "outputs": [],
   "source": [
    "Numero = 45.32"
   ]
  },
  {
   "cell_type": "code",
   "execution_count": null,
   "metadata": {},
   "outputs": [],
   "source": [
    "יהוה = \"Dios\""
   ]
  },
  {
   "cell_type": "code",
   "execution_count": null,
   "metadata": {},
   "outputs": [],
   "source": [
    "saludo"
   ]
  },
  {
   "cell_type": "code",
   "execution_count": null,
   "metadata": {},
   "outputs": [],
   "source": [
    "_saludo"
   ]
  },
  {
   "cell_type": "code",
   "execution_count": null,
   "metadata": {},
   "outputs": [],
   "source": [
    "número"
   ]
  },
  {
   "cell_type": "code",
   "execution_count": null,
   "metadata": {},
   "outputs": [],
   "source": [
    "יהוה"
   ]
  },
  {
   "cell_type": "markdown",
   "metadata": {},
   "source": [
    "* En la siguiente celda se realizará una asignación utilizando un nombre incorrecto, desencandeado un error de sintaxis (*SyntaxError*). "
   ]
  },
  {
   "cell_type": "code",
   "execution_count": null,
   "metadata": {},
   "outputs": [],
   "source": [
    "1error = \"Ups\""
   ]
  },
  {
   "cell_type": "markdown",
   "metadata": {},
   "source": [
    "## La función *id()*.\n",
    "\n",
    "Cada objeto cuenta con una \"identidad\", la cual corresponde a la posición en la que se encuentra almacenado en la memoria. La función *id()* permite conocer esta identidad  por medio del nombre al que está relacionado.\n",
    "\n",
    "La correcta identificación de los objetos es importante, ya que un mismo objeto puede estar relacionado a más de un nombre."
   ]
  },
  {
   "cell_type": "markdown",
   "metadata": {},
   "source": [
    "**Ejemplo:**\n",
    "\n",
    "* A continuación se le asignará el nombre *saludo* al objeto *\"Hola\"* y se obtendrá su identidadmediante la función *id()*."
   ]
  },
  {
   "cell_type": "code",
   "execution_count": null,
   "metadata": {},
   "outputs": [],
   "source": [
    "saludo = \"Hola\""
   ]
  },
  {
   "cell_type": "code",
   "execution_count": null,
   "metadata": {},
   "outputs": [],
   "source": [
    "id(saludo)"
   ]
  },
  {
   "cell_type": "markdown",
   "metadata": {},
   "source": [
    "## Asignación de múltiples nombres al mismo objeto.\n",
    "\n",
    "Python es un lenguaje que gestiona de forma automática el uso de la memoria y trata de optimizar su uso."
   ]
  },
  {
   "cell_type": "markdown",
   "metadata": {},
   "source": [
    "### Asignación de múltiples nombres a objetos de tipos básicos. \n",
    "\n",
    "En el caso de los tipos básicos, Python no duplica valores que ya se encuentran en memoria, sino que le asigna diversos nombres al mismo valor."
   ]
  },
  {
   "cell_type": "markdown",
   "metadata": {},
   "source": [
    "**Ejemplo:**\n",
    "\n",
    "* En la siguientes celdas se le asignarán dos nombres al objeto con valor igual a *45*."
   ]
  },
  {
   "cell_type": "code",
   "execution_count": null,
   "metadata": {},
   "outputs": [],
   "source": [
    "numero = 45"
   ]
  },
  {
   "cell_type": "code",
   "execution_count": null,
   "metadata": {},
   "outputs": [],
   "source": [
    "otro_numero = 45"
   ]
  },
  {
   "cell_type": "markdown",
   "metadata": {},
   "source": [
    "* Aún cuando se definen de forma separada, el resultado de la función *id()* es el mismo para cada nombre."
   ]
  },
  {
   "cell_type": "code",
   "execution_count": null,
   "metadata": {},
   "outputs": [],
   "source": [
    "id(numero)"
   ]
  },
  {
   "cell_type": "code",
   "execution_count": null,
   "metadata": {},
   "outputs": [],
   "source": [
    "id(otro_numero)"
   ]
  },
  {
   "cell_type": "markdown",
   "metadata": {},
   "source": [
    "* Cuando a un nombre se le liga con otro valor, el identificador cambia."
   ]
  },
  {
   "cell_type": "code",
   "execution_count": null,
   "metadata": {},
   "outputs": [],
   "source": [
    "otro_numero = 25"
   ]
  },
  {
   "cell_type": "code",
   "execution_count": null,
   "metadata": {
    "scrolled": true
   },
   "outputs": [],
   "source": [
    "id(otro_numero)"
   ]
  },
  {
   "cell_type": "code",
   "execution_count": null,
   "metadata": {},
   "outputs": [],
   "source": [
    "id(numero)"
   ]
  },
  {
   "cell_type": "markdown",
   "metadata": {},
   "source": [
    " ### Asignación de múltiples nombres a un objeto. \n",
    "\n",
    "Para asignarle más de un nombre al mismo objeto, sólo es necesario referenciar un nombre existente al nuevo nombre.\n",
    "\n",
    "```\n",
    "<nombre> = <nuevo nombre> \n",
    "```"
   ]
  },
  {
   "cell_type": "markdown",
   "metadata": {},
   "source": [
    "**Ejemplo:**\n",
    "\n",
    "* Las siguientes celdas le asignarán el nombnre *lista_1* y *lista_2* al mismo objeto."
   ]
  },
  {
   "cell_type": "code",
   "execution_count": null,
   "metadata": {},
   "outputs": [],
   "source": [
    "lista_1 = [1, 2, 3, 4, 5]"
   ]
  },
  {
   "cell_type": "code",
   "execution_count": null,
   "metadata": {},
   "outputs": [],
   "source": [
    "lista_2 = lista_1"
   ]
  },
  {
   "cell_type": "code",
   "execution_count": null,
   "metadata": {},
   "outputs": [],
   "source": [
    "id(lista_1)"
   ]
  },
  {
   "cell_type": "code",
   "execution_count": null,
   "metadata": {},
   "outputs": [],
   "source": [
    "id(lista_2)"
   ]
  },
  {
   "cell_type": "markdown",
   "metadata": {},
   "source": [
    "## Eliminación de nombres mediante la declaración *del*.\n",
    "\n",
    "La declaración *del* funciona de la siguiente manera:\n",
    "\n",
    "* Desliga al identificador de un objeto en el espacio de nombres.\n",
    "* Una vez que el nombre del identificador es desligado, ya no es posible invocarlo por ese nombre.\n",
    "* En caso de que el objeto no esté ligado a otros identificadores en el espacio de nombres, el intérprete de Python podría destruir al objeto.\n",
    "    \n",
    "El modo en el que un objeto puede ser destruido varía dependiendo del tipo de objeto."
   ]
  },
  {
   "cell_type": "markdown",
   "metadata": {},
   "source": [
    "**Ejemplos:**"
   ]
  },
  {
   "cell_type": "code",
   "execution_count": null,
   "metadata": {},
   "outputs": [],
   "source": [
    "nombre = \"Juan\""
   ]
  },
  {
   "cell_type": "code",
   "execution_count": null,
   "metadata": {},
   "outputs": [],
   "source": [
    "id(nombre)"
   ]
  },
  {
   "cell_type": "code",
   "execution_count": null,
   "metadata": {},
   "outputs": [],
   "source": [
    "otro_nombre = \"Juan\""
   ]
  },
  {
   "cell_type": "code",
   "execution_count": null,
   "metadata": {},
   "outputs": [],
   "source": [
    "id(otro_nombre)"
   ]
  },
  {
   "cell_type": "code",
   "execution_count": null,
   "metadata": {},
   "outputs": [],
   "source": [
    "del nombre"
   ]
  },
  {
   "cell_type": "code",
   "execution_count": null,
   "metadata": {
    "scrolled": true
   },
   "outputs": [],
   "source": [
    "nombre"
   ]
  },
  {
   "cell_type": "code",
   "execution_count": null,
   "metadata": {},
   "outputs": [],
   "source": [
    "otro_nombre"
   ]
  },
  {
   "cell_type": "markdown",
   "metadata": {},
   "source": [
    "### La función _dir()_.\n",
    "\n",
    "Cuando se usa la función _dir()_ sin argumentos, la función regresa el listado de nombres del espacio de nombres principal.\n",
    "\n",
    "__Ejemplo:__\n"
   ]
  },
  {
   "cell_type": "code",
   "execution_count": null,
   "metadata": {},
   "outputs": [],
   "source": [
    "dir()"
   ]
  },
  {
   "cell_type": "code",
   "execution_count": null,
   "metadata": {},
   "outputs": [],
   "source": [
    "del saludo"
   ]
  },
  {
   "cell_type": "code",
   "execution_count": null,
   "metadata": {},
   "outputs": [],
   "source": [
    "dir()"
   ]
  },
  {
   "cell_type": "code",
   "execution_count": null,
   "metadata": {},
   "outputs": [],
   "source": [
    "del יהוה"
   ]
  },
  {
   "cell_type": "code",
   "execution_count": null,
   "metadata": {},
   "outputs": [],
   "source": [
    "dir()"
   ]
  },
  {
   "cell_type": "markdown",
   "metadata": {},
   "source": [
    "<p style=\"text-align: center\"><a rel=\"license\" href=\"http://creativecommons.org/licenses/by/4.0/\"><img alt=\"Licencia Creative Commons\" style=\"border-width:0\" src=\"https://i.creativecommons.org/l/by/4.0/80x15.png\" /></a><br />Esta obra está bajo una <a rel=\"license\" href=\"http://creativecommons.org/licenses/by/4.0/\">Licencia Creative Commons Atribución 4.0 Internacional</a>.</p>\n",
    "<p style=\"text-align: center\">&copy; José Luis Chiquete Valdivieso. 2019.</p>"
   ]
  }
 ],
 "metadata": {
  "kernelspec": {
   "display_name": "Python 3",
   "language": "python",
   "name": "python3"
  },
  "language_info": {
   "codemirror_mode": {
    "name": "ipython",
    "version": 3
   },
   "file_extension": ".py",
   "mimetype": "text/x-python",
   "name": "python",
   "nbconvert_exporter": "python",
   "pygments_lexer": "ipython3",
   "version": "3.6.6"
  }
 },
 "nbformat": 4,
 "nbformat_minor": 1
}
