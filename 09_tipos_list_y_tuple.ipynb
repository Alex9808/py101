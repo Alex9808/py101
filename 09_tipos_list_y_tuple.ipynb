{
 "cells": [
  {
   "cell_type": "markdown",
   "metadata": {},
   "source": [
    "[![imagenes](imagenes/pythonista.png)](https://pythonista.mx)"
   ]
  },
  {
   "cell_type": "markdown",
   "metadata": {},
   "source": [
    "# Objetos tipo ```list``` y ```tuple```.\n",
    "\n",
    "Los objetos tipo ```tuple``` y ```list``` son:\n",
    "\n",
    "* Colecciones. Es decir, que pueden contener objetos, también llamados elementos.\n",
    "* Ordenadas. Es decir, que respetan el orden en el que cada elemento es ingresado.\n",
    "* Indexables numéricamente. Es decir, que cada elemento que contienen puede ser accedido mediante un índice numéricos.\n",
    "\n",
    "La diferencia entre estos tipos de datos es que losm objetos de tipo ```list``` son mutables y los objetos de tipo ```tuple``` son inmutables."
   ]
  },
  {
   "cell_type": "markdown",
   "metadata": {},
   "source": [
    "## Objetos tipo ```list```.\n",
    "\n",
    "Los objetos tipo ```list``` son colecciones ordenadas de objetos, sin importar el tipo de cada uno, los cuales son indexables numéricamente y son mutables.\n",
    "\n",
    "Se definen encerrando entre corchetes ```[``` ```]``` una sucesión de objetos separados por comas ```,```.\n",
    "\n",
    "La sintaxis es la siguiente:\n",
    "\n",
    "```\n",
    "[<objeto 1>, <objeto 2>, ..., <objeto n>] \n",
    "```\n",
    "\n",
    "Cabe hacer notar que los objetos de tipo ```list``` no son equivalentes a las matrices en otros lenguajes de programación."
   ]
  },
  {
   "cell_type": "markdown",
   "metadata": {},
   "source": [
    "**Ejemplos:**"
   ]
  },
  {
   "cell_type": "code",
   "execution_count": null,
   "metadata": {},
   "outputs": [],
   "source": [
    "[1, 2, 3, 4, 5]"
   ]
  },
  {
   "cell_type": "code",
   "execution_count": null,
   "metadata": {},
   "outputs": [],
   "source": [
    "['gato', 'perro', True]"
   ]
  },
  {
   "cell_type": "code",
   "execution_count": null,
   "metadata": {},
   "outputs": [],
   "source": [
    "[['automóvil', 50, 'gasolina'], ['autobús', 300, 'diesel']]"
   ]
  },
  {
   "cell_type": "code",
   "execution_count": null,
   "metadata": {},
   "outputs": [],
   "source": [
    "[]"
   ]
  },
  {
   "cell_type": "markdown",
   "metadata": {},
   "source": [
    "### Indexado numérico.\n",
    "\n",
    "Los objetos de tipo ```list``` cuentan con un indexado numérico con el que  identifican a cada elemento que contienen mediante un número entero de 2 formas:\n",
    "\n",
    "* índices positivos:  En los que el primer elemento del extremo izquierdo tiene el índice ```0```, el elemento a su derecha tiene el índice ```1``` y así sucesivamente en incrementos de uno  en uno hasta llegar al elemento del extremo derecho.\n",
    "* Índices negativos: En los que el primer elemento del extremo derecho tiene el índice ``-1``, el elemento a su izquierda tiene el índice ```-2``` y así sucesivamente en decrementos de uno en uno hasta llegar al elemento del extremo izquierdo.\n",
    "\n",
    "Para acceder a cada elemento mediante un índice se usa la siguiente sintaxis:\n",
    "\n",
    "```\n",
    "<objeto tipo list>[<índice>]\n",
    "```\n",
    "\n",
    "Si se trata de acceder a un elemento con un índice que excede el tamaño del objeto, se obtendrá un error de tipo ```IndexError```."
   ]
  },
  {
   "cell_type": "markdown",
   "metadata": {},
   "source": [
    "**Ejemplos:** "
   ]
  },
  {
   "cell_type": "code",
   "execution_count": null,
   "metadata": {},
   "outputs": [],
   "source": [
    "lista = [1, 2, 3, 4, 5, 6, 7, 8]"
   ]
  },
  {
   "cell_type": "code",
   "execution_count": null,
   "metadata": {},
   "outputs": [],
   "source": [
    "lista[0]"
   ]
  },
  {
   "cell_type": "code",
   "execution_count": null,
   "metadata": {},
   "outputs": [],
   "source": [
    "lista[-8]"
   ]
  },
  {
   "cell_type": "code",
   "execution_count": null,
   "metadata": {},
   "outputs": [],
   "source": [
    "lista[7]"
   ]
  },
  {
   "cell_type": "code",
   "execution_count": null,
   "metadata": {},
   "outputs": [],
   "source": [
    "lista[-3]"
   ]
  },
  {
   "cell_type": "code",
   "execution_count": null,
   "metadata": {},
   "outputs": [],
   "source": [
    "lista[8]"
   ]
  },
  {
   "cell_type": "markdown",
   "metadata": {},
   "source": [
    "###  Indíces anidados.\n",
    "\n",
    "En el caso de que un elemento seleccionado dentro de una colección indexables también sea una colección indexable, es posible realizar una indexación anidada colocando el índice a la derecha del índice superior.\n",
    "\n",
    "```\n",
    "<colección>[<indice 1>][<índice 2>]...[<índice n>]\n",
    "```"
   ]
  },
  {
   "cell_type": "markdown",
   "metadata": {},
   "source": [
    "**Ejemplo:**"
   ]
  },
  {
   "cell_type": "code",
   "execution_count": 4,
   "metadata": {},
   "outputs": [],
   "source": [
    "lista = [[1, 2, 3, 4], False, ['cinco', 'seis', 'siete'], 8.]"
   ]
  },
  {
   "cell_type": "code",
   "execution_count": 5,
   "metadata": {},
   "outputs": [
    {
     "data": {
      "text/plain": [
       "['cinco', 'seis', 'siete']"
      ]
     },
     "execution_count": 5,
     "metadata": {},
     "output_type": "execute_result"
    }
   ],
   "source": [
    "lista[2]"
   ]
  },
  {
   "cell_type": "code",
   "execution_count": 6,
   "metadata": {},
   "outputs": [
    {
     "data": {
      "text/plain": [
       "'seis'"
      ]
     },
     "execution_count": 6,
     "metadata": {},
     "output_type": "execute_result"
    }
   ],
   "source": [
    "lista[2][1]"
   ]
  },
  {
   "cell_type": "code",
   "execution_count": 7,
   "metadata": {},
   "outputs": [
    {
     "data": {
      "text/plain": [
       "'i'"
      ]
     },
     "execution_count": 7,
     "metadata": {},
     "output_type": "execute_result"
    }
   ],
   "source": [
    "lista[2][1][-2]"
   ]
  },
  {
   "cell_type": "markdown",
   "metadata": {},
   "source": [
    "### Modificación de un elemento de un objeto tipo ```list```.\n",
    "\n",
    "Es posible modificar el contenido de un elemento en un objeto de tipo ```list``` mediante el operador de asignación ```=```. "
   ]
  },
  {
   "cell_type": "code",
   "execution_count": null,
   "metadata": {},
   "outputs": [],
   "source": []
  },
  {
   "cell_type": "markdown",
   "metadata": {},
   "source": [
    "**Ejemplos:**"
   ]
  },
  {
   "cell_type": "code",
   "execution_count": null,
   "metadata": {},
   "outputs": [],
   "source": [
    "lista = [1, 2, 3, 4, 5, 6, 7, 8]"
   ]
  },
  {
   "cell_type": "code",
   "execution_count": null,
   "metadata": {},
   "outputs": [],
   "source": [
    "lista[4] = \"hola\""
   ]
  },
  {
   "cell_type": "code",
   "execution_count": null,
   "metadata": {},
   "outputs": [],
   "source": [
    "lista"
   ]
  },
  {
   "cell_type": "code",
   "execution_count": null,
   "metadata": {},
   "outputs": [],
   "source": [
    "lista[-3] = True"
   ]
  },
  {
   "cell_type": "code",
   "execution_count": null,
   "metadata": {},
   "outputs": [],
   "source": [
    "lista"
   ]
  },
  {
   "cell_type": "code",
   "execution_count": null,
   "metadata": {},
   "outputs": [],
   "source": [
    "lista[-9] = 0"
   ]
  },
  {
   "cell_type": "code",
   "execution_count": null,
   "metadata": {},
   "outputs": [],
   "source": [
    "[1, 2, 3, 4, 5, 6][3]"
   ]
  },
  {
   "cell_type": "markdown",
   "metadata": {},
   "source": [
    "### Eliminación de un elemento en un objeto tipo ```list```.\n",
    "\n",
    "Para eliminar un elemento en un objeto de tipo ```list``` se utiliza la declaración ````del````. El elemento identificado mediante su posición será eliminado y en caso de que existan, se recorrerá el índice de los elementos a la derecha del elemento eliminado. \n",
    "\n",
    "La sintaxis es la siguiente:\n",
    "\n",
    "```\n",
    "del <objeto tipo list>[<posición>]\n",
    "```"
   ]
  },
  {
   "cell_type": "markdown",
   "metadata": {},
   "source": [
    "**Ejemplos:**"
   ]
  },
  {
   "cell_type": "code",
   "execution_count": null,
   "metadata": {},
   "outputs": [],
   "source": [
    "lista = [1, 2, 3, 4, 5]"
   ]
  },
  {
   "cell_type": "code",
   "execution_count": null,
   "metadata": {},
   "outputs": [],
   "source": [
    "lista[1]"
   ]
  },
  {
   "cell_type": "code",
   "execution_count": null,
   "metadata": {},
   "outputs": [],
   "source": [
    "del lista[1]"
   ]
  },
  {
   "cell_type": "code",
   "execution_count": null,
   "metadata": {},
   "outputs": [],
   "source": [
    "lista"
   ]
  },
  {
   "cell_type": "code",
   "execution_count": null,
   "metadata": {},
   "outputs": [],
   "source": [
    "lista[1]"
   ]
  },
  {
   "cell_type": "markdown",
   "metadata": {},
   "source": [
    "### \"Rebanado\" de objetos tipo ```list ```.\n",
    "\n",
    "Es posible extraer una porción definida de elementos contenidos en un objeto tipo ```list``` mediante el uso de rangos con la siguiente sintaxis.\n",
    "\n",
    "```\n",
    "<objeto tipo list>[m:n]\n",
    "```\n",
    "\n",
    "En donde: \n",
    "\n",
    "* ```m``` es el índice inferior del rango.\n",
    "* ```n``` es el índice superior del rango.\n",
    "\n",
    "El resultado será un nuevo objeto de tipo ```list``` conteniendo los elementos que van del índice ```m``` a uno antes de ```n```. \n",
    "\n",
    "* Para que sea un rango válido, la posición de ```m``` debe de ser siempre menor que la de ```n```, aunque se pueden combinar índices positivos y negativos.\n",
    "* Si no se designa un índice a la izquierda del signo ```:``` se asume que ```m``` es  ```0```. \n",
    "\n",
    "* Si no se designa un índice a la derecha del signo ```:``` se asume que se seleccionarán todos los elementos hasta el final del objeto tipo ```list```."
   ]
  },
  {
   "cell_type": "markdown",
   "metadata": {},
   "source": [
    "**Ejemplos:**"
   ]
  },
  {
   "cell_type": "code",
   "execution_count": null,
   "metadata": {},
   "outputs": [],
   "source": [
    "lista = [1, 2, 3, 4, 5, 6, 7, 8, 9, 10]"
   ]
  },
  {
   "cell_type": "code",
   "execution_count": null,
   "metadata": {},
   "outputs": [],
   "source": [
    "lista[-3:-1]"
   ]
  },
  {
   "cell_type": "code",
   "execution_count": null,
   "metadata": {},
   "outputs": [],
   "source": [
    "lista[0:3]"
   ]
  },
  {
   "cell_type": "code",
   "execution_count": null,
   "metadata": {},
   "outputs": [],
   "source": [
    "lista[:]"
   ]
  },
  {
   "cell_type": "code",
   "execution_count": null,
   "metadata": {},
   "outputs": [],
   "source": [
    "lista[-4:]"
   ]
  },
  {
   "cell_type": "code",
   "execution_count": null,
   "metadata": {},
   "outputs": [],
   "source": [
    "lista[:4]"
   ]
  },
  {
   "cell_type": "markdown",
   "metadata": {},
   "source": [
    "### Eliminación de un rango de elementos en objetos tipo ```list```.\n",
    "\n",
    "Es posible eliminar un rango de elementos de un objeto tipo ```list``` utilizando la declaración ```del``` con la siguiente sintaxis.\n",
    "\n",
    "```\n",
    "del <objeto tipo list>[m:n]\n",
    "```\n",
    "\n",
    "En donde: \n",
    "\n",
    "* ```m``` es el índice inferior del rango.\n",
    "* ```n``` es el índice superior del rango.\n",
    "\n",
    "Esto eliminará los elementos en el rango que va de ```m``` hasta uno antes de ```n```."
   ]
  },
  {
   "cell_type": "markdown",
   "metadata": {},
   "source": [
    "**Ejemplos:**"
   ]
  },
  {
   "cell_type": "code",
   "execution_count": null,
   "metadata": {},
   "outputs": [],
   "source": [
    "lista = [1, 2, 3, 4, 5, 6, 7, 8, 9, 10]"
   ]
  },
  {
   "cell_type": "code",
   "execution_count": null,
   "metadata": {},
   "outputs": [],
   "source": [
    "del lista[-3:-1]"
   ]
  },
  {
   "cell_type": "code",
   "execution_count": null,
   "metadata": {},
   "outputs": [],
   "source": [
    "lista"
   ]
  },
  {
   "cell_type": "markdown",
   "metadata": {},
   "source": [
    "### Sustitución de un rango de elementos en objetos tipo ```list ```.\n",
    "\n",
    "Es posible sustituir uno o varios objetos definido en un rango de índices dentro de un objeto tipo ```list``` usando la siguiente sintaxis:\n",
    "\n",
    "```\n",
    "<objeto tipo list>[m:n] = <objeto 1>, <objeto 2>, ..., <objeto m-n>\n",
    "```\n",
    "\n",
    "En donde: \n",
    "\n",
    "* ```m``` es el índice inferior del rango.\n",
    "* ```n``` es el índice superior del rango.\n",
    "\n",
    "Si el número de objetos a sustituir es menor de que el rango, los objetos que no cuenten con un sustituto serán eliminados."
   ]
  },
  {
   "cell_type": "markdown",
   "metadata": {},
   "source": [
    "**Ejemplos:**"
   ]
  },
  {
   "cell_type": "code",
   "execution_count": 53,
   "metadata": {},
   "outputs": [],
   "source": [
    "lista = [1, 2, 3, 4, 5, 6, 7, 8, 9, 10]"
   ]
  },
  {
   "cell_type": "code",
   "execution_count": 54,
   "metadata": {},
   "outputs": [],
   "source": [
    "lista[2:5] = \"tres\", \"cuatro\", \"cinco\""
   ]
  },
  {
   "cell_type": "code",
   "execution_count": 55,
   "metadata": {},
   "outputs": [
    {
     "data": {
      "text/plain": [
       "[1, 2, 'tres', 'cuatro', 'cinco', 6, 7, 8, 9, 10]"
      ]
     },
     "execution_count": 55,
     "metadata": {},
     "output_type": "execute_result"
    }
   ],
   "source": [
    "lista"
   ]
  },
  {
   "cell_type": "code",
   "execution_count": 56,
   "metadata": {},
   "outputs": [],
   "source": [
    "lista[5:]= \"seis\", 7."
   ]
  },
  {
   "cell_type": "code",
   "execution_count": 57,
   "metadata": {},
   "outputs": [
    {
     "data": {
      "text/plain": [
       "[1, 2, 'tres', 'cuatro', 'cinco', 'seis', 7.0]"
      ]
     },
     "execution_count": 57,
     "metadata": {},
     "output_type": "execute_result"
    }
   ],
   "source": [
    "lista"
   ]
  },
  {
   "cell_type": "markdown",
   "metadata": {},
   "source": [
    "### Métodos de los objetos tipo _list_.\n",
    "\n",
    "Estos son algunos de los métodos los objetos tipo _list_ adquieren. Cabe hacer notar que estos métodos no crean un nuevo objeto, sino que afectan directamente al objeto al que pertenecen.\n",
    "\n",
    "#### _append()_.\n",
    "\n",
    "Añade al elemento que se ingresa como argumento al final del objeto tipo _list_.\n"
   ]
  },
  {
   "cell_type": "markdown",
   "metadata": {},
   "source": [
    "**Ejemplo:**"
   ]
  },
  {
   "cell_type": "code",
   "execution_count": null,
   "metadata": {},
   "outputs": [],
   "source": [
    "lista = [1, 2, 3, 4, 5, 6]"
   ]
  },
  {
   "cell_type": "code",
   "execution_count": null,
   "metadata": {},
   "outputs": [],
   "source": [
    "lista.append(57)"
   ]
  },
  {
   "cell_type": "code",
   "execution_count": null,
   "metadata": {},
   "outputs": [],
   "source": [
    "lista"
   ]
  },
  {
   "cell_type": "markdown",
   "metadata": {},
   "source": [
    "#### _insert()_.\n",
    "Añade en la posición correspondiente al número ingresado como primer argumento al elemento ingresado como segundo argumento, desplazando el resto de los elementos hacia la derecha.\n",
    "\n",
    "**Ejemplo:**\n"
   ]
  },
  {
   "cell_type": "code",
   "execution_count": null,
   "metadata": {},
   "outputs": [],
   "source": [
    "lista = [1, 2, 3, 4, 5, 6]"
   ]
  },
  {
   "cell_type": "code",
   "execution_count": null,
   "metadata": {},
   "outputs": [],
   "source": [
    "lista.insert(3, True)"
   ]
  },
  {
   "cell_type": "code",
   "execution_count": null,
   "metadata": {},
   "outputs": [],
   "source": [
    "lista"
   ]
  },
  {
   "cell_type": "markdown",
   "metadata": {},
   "source": [
    "#### _remove()_.\n",
    "\n",
    "Elimina el primer elemento de izquierda a derecha que sea igual al objeto que se ingresa como argumento. Si el objeto no es encontrado, genera un _ValueError_.\n",
    "\n",
    "**Ejemplos:**"
   ]
  },
  {
   "cell_type": "code",
   "execution_count": null,
   "metadata": {},
   "outputs": [],
   "source": [
    "lista = [1, 2, 3, 4, 5, 4, 3, 2, 1, 0]"
   ]
  },
  {
   "cell_type": "code",
   "execution_count": null,
   "metadata": {},
   "outputs": [],
   "source": [
    "lista.remove(3)"
   ]
  },
  {
   "cell_type": "code",
   "execution_count": null,
   "metadata": {},
   "outputs": [],
   "source": [
    "lista"
   ]
  },
  {
   "cell_type": "code",
   "execution_count": null,
   "metadata": {},
   "outputs": [],
   "source": [
    "lista.remove(5)"
   ]
  },
  {
   "cell_type": "code",
   "execution_count": null,
   "metadata": {},
   "outputs": [],
   "source": [
    "lista"
   ]
  },
  {
   "cell_type": "code",
   "execution_count": null,
   "metadata": {},
   "outputs": [],
   "source": [
    "lista.remove(5)"
   ]
  },
  {
   "cell_type": "markdown",
   "metadata": {},
   "source": [
    "#### _reverse()_ .\n",
    "Invierte el orden del objeto tipo _list_.\n",
    "\n",
    "**Ejemplos:**"
   ]
  },
  {
   "cell_type": "code",
   "execution_count": null,
   "metadata": {},
   "outputs": [],
   "source": [
    "lista = [1, 2, 3, 4, 5]"
   ]
  },
  {
   "cell_type": "code",
   "execution_count": null,
   "metadata": {},
   "outputs": [],
   "source": [
    "lista.reverse()"
   ]
  },
  {
   "cell_type": "code",
   "execution_count": null,
   "metadata": {},
   "outputs": [],
   "source": [
    "lista"
   ]
  },
  {
   "cell_type": "markdown",
   "metadata": {},
   "source": [
    "#### _sort()_.\n",
    "Ordena los elementos de la lista, en caso de que sea posible. Si no se especifica, se hace en orden ascendente; pero si se especifica el argumento _reverse=True_, puede hacerlo de forma descendente.\n",
    "\n",
    "**Ejemplos:**"
   ]
  },
  {
   "cell_type": "code",
   "execution_count": null,
   "metadata": {},
   "outputs": [],
   "source": [
    "lista = [15, True, 33, False, 12.35]"
   ]
  },
  {
   "cell_type": "code",
   "execution_count": null,
   "metadata": {},
   "outputs": [],
   "source": [
    "lista.sort()"
   ]
  },
  {
   "cell_type": "code",
   "execution_count": null,
   "metadata": {},
   "outputs": [],
   "source": [
    "lista"
   ]
  },
  {
   "cell_type": "code",
   "execution_count": null,
   "metadata": {},
   "outputs": [],
   "source": [
    "lista.sort(reverse=True)"
   ]
  },
  {
   "cell_type": "code",
   "execution_count": null,
   "metadata": {},
   "outputs": [],
   "source": [
    "lista"
   ]
  },
  {
   "cell_type": "markdown",
   "metadata": {},
   "source": [
    "####  _pop()_.\n",
    "Elimina el elemento contenido en el objeto tipo _list_ localizado en el índice que se ingresa como argumento y regresa su valor. Si no se indica la posición, se asume que el último elemento del objeto tipo _list_ es el indicado. En caso e que el objeto no contenga elementos, se generará un error de tipo _IndexError_.\n",
    "\n",
    "**Ejemplos:**"
   ]
  },
  {
   "cell_type": "code",
   "execution_count": null,
   "metadata": {},
   "outputs": [],
   "source": [
    "lista = [15, True, 33, False, 12]"
   ]
  },
  {
   "cell_type": "code",
   "execution_count": null,
   "metadata": {},
   "outputs": [],
   "source": [
    "lista.pop()"
   ]
  },
  {
   "cell_type": "code",
   "execution_count": null,
   "metadata": {},
   "outputs": [],
   "source": [
    "lista"
   ]
  },
  {
   "cell_type": "code",
   "execution_count": null,
   "metadata": {},
   "outputs": [],
   "source": [
    "lista.pop(1)"
   ]
  },
  {
   "cell_type": "code",
   "execution_count": null,
   "metadata": {},
   "outputs": [],
   "source": [
    "lista"
   ]
  },
  {
   "cell_type": "code",
   "execution_count": null,
   "metadata": {},
   "outputs": [],
   "source": [
    "lista.pop(2)"
   ]
  },
  {
   "cell_type": "code",
   "execution_count": null,
   "metadata": {},
   "outputs": [],
   "source": [
    "lista"
   ]
  },
  {
   "cell_type": "code",
   "execution_count": null,
   "metadata": {},
   "outputs": [],
   "source": [
    "lista.pop()"
   ]
  },
  {
   "cell_type": "code",
   "execution_count": null,
   "metadata": {},
   "outputs": [],
   "source": [
    "lista"
   ]
  },
  {
   "cell_type": "code",
   "execution_count": null,
   "metadata": {},
   "outputs": [],
   "source": [
    "lista.pop()"
   ]
  },
  {
   "cell_type": "code",
   "execution_count": null,
   "metadata": {},
   "outputs": [],
   "source": [
    "lista"
   ]
  },
  {
   "cell_type": "code",
   "execution_count": null,
   "metadata": {},
   "outputs": [],
   "source": [
    "lista.pop()"
   ]
  },
  {
   "cell_type": "markdown",
   "metadata": {},
   "source": [
    "####  _extend()_.\n",
    "Añade al final del objeto cada uno de los elementos de un objeto iterable que es ingresado como argumento.\n",
    "\n",
    "**Ejemplos:**"
   ]
  },
  {
   "cell_type": "code",
   "execution_count": null,
   "metadata": {},
   "outputs": [],
   "source": [
    "lista = [15, True, 33, False, 12]"
   ]
  },
  {
   "cell_type": "code",
   "execution_count": null,
   "metadata": {},
   "outputs": [],
   "source": [
    "lista.extend([12, 4, 21])"
   ]
  },
  {
   "cell_type": "code",
   "execution_count": null,
   "metadata": {},
   "outputs": [],
   "source": [
    "lista"
   ]
  },
  {
   "cell_type": "markdown",
   "metadata": {},
   "source": [
    "Cabe hacer notar la diferencia con el método _append()_."
   ]
  },
  {
   "cell_type": "code",
   "execution_count": null,
   "metadata": {},
   "outputs": [],
   "source": [
    "lista = [15, True, 33, False, 12]"
   ]
  },
  {
   "cell_type": "code",
   "execution_count": null,
   "metadata": {},
   "outputs": [],
   "source": [
    "lista.append([12, 4, 21])"
   ]
  },
  {
   "cell_type": "code",
   "execution_count": null,
   "metadata": {},
   "outputs": [],
   "source": [
    "lista"
   ]
  },
  {
   "cell_type": "markdown",
   "metadata": {},
   "source": [
    "#### _count()_.\n",
    "Cuenta el número de veces que aparece dentro del objeto tipo _list_ el objeto que se ingresa como argumento.\n",
    "\n",
    "**Ejemplos:**"
   ]
  },
  {
   "cell_type": "code",
   "execution_count": null,
   "metadata": {},
   "outputs": [],
   "source": [
    "lista = [1, 2, 3, 4, 5, 4, 3, 2, 1, 0]"
   ]
  },
  {
   "cell_type": "code",
   "execution_count": null,
   "metadata": {},
   "outputs": [],
   "source": [
    "lista.count(2)"
   ]
  },
  {
   "cell_type": "code",
   "execution_count": null,
   "metadata": {},
   "outputs": [],
   "source": [
    "lista.count(5)"
   ]
  },
  {
   "cell_type": "code",
   "execution_count": null,
   "metadata": {},
   "outputs": [],
   "source": [
    "lista.count(11)"
   ]
  },
  {
   "cell_type": "markdown",
   "metadata": {},
   "source": [
    "#### _index()_.\n",
    "Regresa la primera posición de izquierda a derecha del valor que corresponda al que se ingrese como primer argumento. Además del valor, es posible definir un rango de búsqueda agregando el índice menor como segundo argumento y el indice mayor como tercer argumento. En caso de no definirlo, el rango es el índice completo. En caso de no encontrar al elemento, se generará un error tipo _ValueError_. \n",
    "\n",
    "**Ejemplos:**"
   ]
  },
  {
   "cell_type": "code",
   "execution_count": null,
   "metadata": {},
   "outputs": [],
   "source": [
    "lista = [93, True, 27, True, True, 16, 45, 14, False, True]"
   ]
  },
  {
   "cell_type": "code",
   "execution_count": null,
   "metadata": {},
   "outputs": [],
   "source": [
    "lista.index(True)"
   ]
  },
  {
   "cell_type": "code",
   "execution_count": null,
   "metadata": {},
   "outputs": [],
   "source": [
    "lista.index(True, 8)"
   ]
  },
  {
   "cell_type": "code",
   "execution_count": null,
   "metadata": {},
   "outputs": [],
   "source": [
    "lista.index(True, 6, 9)"
   ]
  },
  {
   "cell_type": "code",
   "execution_count": null,
   "metadata": {},
   "outputs": [],
   "source": [
    "lista.index(True, 6, 10)"
   ]
  },
  {
   "cell_type": "markdown",
   "metadata": {},
   "source": [
    "#### _clear()_\n",
    "\n",
    "Elimina a todos los elementos de la lista.\n",
    "\n",
    "**Ejemplo:**"
   ]
  },
  {
   "cell_type": "code",
   "execution_count": null,
   "metadata": {},
   "outputs": [],
   "source": [
    "lista = [93, True, 27, True, True, 16, 45, 14, False, True]"
   ]
  },
  {
   "cell_type": "code",
   "execution_count": null,
   "metadata": {},
   "outputs": [],
   "source": [
    "lista.clear()"
   ]
  },
  {
   "cell_type": "code",
   "execution_count": null,
   "metadata": {},
   "outputs": [],
   "source": [
    "lista"
   ]
  },
  {
   "cell_type": "markdown",
   "metadata": {},
   "source": [
    "## Objetos tipo _tuple_.\n",
    "\n",
    "Los objetos tipo _tuple_ son una secuencia ordenada de objetos separados por comas y encerrados entre paréntesis \"*( )*\".\n",
    "\n",
    "```\n",
    "(<objeto_1>, <objeto_2>, ..., <objeto_n)\n",
    "```\n",
    "\n",
    "**Ejemplos:**\n",
    "\n",
    "``` python\n",
    "(1, 2, 3, 4, 5)\n",
    "('gato', 'perro', True)\n",
    "(['automóvil', 50, 'gasolina'], ['autobús', 300, 'diesel'])\n",
    "()\n",
    "```\n",
    "Los objetos tipo _tuple_ están indexados del mismo modo que los objetos de tipo _list_.\n",
    "\n",
    "### Los objetos tipo * tuple* son \"inmutables\".\n",
    "\n",
    "Los elementos contenidos en un objetos de tipo *tuple* no pueden ser modificados con el operador de asignación (*=*) ni eliminados con la declaración *del*.\n",
    "\n",
    "**Ejemplo:**"
   ]
  },
  {
   "cell_type": "code",
   "execution_count": null,
   "metadata": {},
   "outputs": [],
   "source": [
    "tupla = (1, 2, 3, 4, 5, 6, 7, 8)"
   ]
  },
  {
   "cell_type": "code",
   "execution_count": null,
   "metadata": {},
   "outputs": [],
   "source": [
    "type(tupla)"
   ]
  },
  {
   "cell_type": "code",
   "execution_count": null,
   "metadata": {},
   "outputs": [],
   "source": [
    "tupla[2]"
   ]
  },
  {
   "cell_type": "code",
   "execution_count": null,
   "metadata": {},
   "outputs": [],
   "source": [
    "tupla[4] = \"hola\""
   ]
  },
  {
   "cell_type": "code",
   "execution_count": null,
   "metadata": {},
   "outputs": [],
   "source": [
    "del tupla[3]"
   ]
  },
  {
   "cell_type": "markdown",
   "metadata": {},
   "source": [
    "### Los objetos de tipo _tuple_ pueden ser rebanados.\n",
    "\n",
    "El rebanado no implica una modificación interna de un objeto de tipo *tuple*, sino la creación de un objeto nuevo y por lo tanto, este tipo de operaciones son permitidas. \n",
    "\n",
    "**Ejemplo:**"
   ]
  },
  {
   "cell_type": "code",
   "execution_count": null,
   "metadata": {},
   "outputs": [],
   "source": [
    "tupla = (1, 2, 3, 4, 5, 6)"
   ]
  },
  {
   "cell_type": "code",
   "execution_count": null,
   "metadata": {},
   "outputs": [],
   "source": [
    "tupla[2:4]"
   ]
  },
  {
   "cell_type": "markdown",
   "metadata": {},
   "source": [
    "### Métodos de los objetos de tipo _tuple_.\n",
    "\n",
    "Los objetos tipo _tuple_ sólo cuentan con los métodos: \n",
    "* _count()_. \n",
    "* _index()_.\n",
    "\n",
    "**Ejemplos:**"
   ]
  },
  {
   "cell_type": "code",
   "execution_count": null,
   "metadata": {},
   "outputs": [],
   "source": [
    "tupla = (1, 5, 7, 8, 4, 7, 7, 9)"
   ]
  },
  {
   "cell_type": "code",
   "execution_count": null,
   "metadata": {},
   "outputs": [],
   "source": [
    "tupla.index(9)"
   ]
  },
  {
   "cell_type": "code",
   "execution_count": null,
   "metadata": {},
   "outputs": [],
   "source": [
    "tupla.count(7)"
   ]
  },
  {
   "cell_type": "code",
   "execution_count": null,
   "metadata": {},
   "outputs": [],
   "source": [
    "tupla.clear()"
   ]
  },
  {
   "cell_type": "markdown",
   "metadata": {},
   "source": [
    "### Operadores aplicables a los objetos tipo ```list``` y  ```tuple```."
   ]
  },
  {
   "cell_type": "markdown",
   "metadata": {},
   "source": [
    "#### El operador de concatenación ```+```.\n",
    "\n",
    "El operador de adición ```+ ``` es compatible entre objetos tipo ```list``` y permite crear una nueva lista a partir de la concatenación de las listas de origen."
   ]
  },
  {
   "cell_type": "markdown",
   "metadata": {},
   "source": [
    "**Ejemplos:**"
   ]
  },
  {
   "cell_type": "code",
   "execution_count": null,
   "metadata": {},
   "outputs": [],
   "source": [
    "[\"a\", \"b\", \"c\"] + [1, 2, 3]"
   ]
  },
  {
   "cell_type": "markdown",
   "metadata": {},
   "source": [
    "#### El operador de repetición ```*```.\n",
    "\n",
    "El operador ```*``` es compatible entre objetos tipo ```list``` y objetos tipo _int_, y permite crear una nueva lista que se repite y concatena el número de veces que indica el objeto tipo _int_.\n",
    "\n",
    "**Ejemplos:**"
   ]
  },
  {
   "cell_type": "code",
   "execution_count": null,
   "metadata": {},
   "outputs": [],
   "source": [
    "[\"a\", \"b\", \"c\"] * 3"
   ]
  },
  {
   "cell_type": "code",
   "execution_count": null,
   "metadata": {},
   "outputs": [],
   "source": [
    "3 * [\"a\", \"b\", \"c\"]"
   ]
  },
  {
   "cell_type": "markdown",
   "metadata": {},
   "source": [
    "## Transformaciones entre objetos tipo _list_ y tipo _tuple_.\n",
    "\n",
    "Los objetos tipo _list_ y tipo _tuple_ pueden ser convertidos en objetos del otro tipo mediante las funciones _list()_ y _tuple()_.\n",
    "\n",
    "**Ejemplos:**"
   ]
  },
  {
   "cell_type": "code",
   "execution_count": null,
   "metadata": {},
   "outputs": [],
   "source": [
    "tupla = (7, 8, 9)"
   ]
  },
  {
   "cell_type": "code",
   "execution_count": null,
   "metadata": {},
   "outputs": [],
   "source": [
    "lista = list(tupla)\n",
    "lista"
   ]
  },
  {
   "cell_type": "code",
   "execution_count": null,
   "metadata": {},
   "outputs": [],
   "source": [
    "tuple(lista)"
   ]
  },
  {
   "cell_type": "code",
   "execution_count": null,
   "metadata": {},
   "outputs": [],
   "source": [
    "tupla == tuple(lista)"
   ]
  },
  {
   "cell_type": "code",
   "execution_count": null,
   "metadata": {},
   "outputs": [],
   "source": [
    "tupla is tuple(lista)"
   ]
  },
  {
   "cell_type": "markdown",
   "metadata": {},
   "source": [
    "## Iteraciones con *for* ...  *in* para objetos tipo *list* y *tuple*.\n",
    "\n",
    "Los objetos tipo _list_ y _tuple_ son objetos iterables, por lo que _for_ puede ser utilizado dependiendo del contexto.\n",
    "\n",
    "#### Iteración con  _for_ para objetos tipo _list_ y un nombre."
   ]
  },
  {
   "cell_type": "code",
   "execution_count": null,
   "metadata": {
    "scrolled": true
   },
   "outputs": [],
   "source": [
    "for gato in [\"Cucho\", \"Espanto\", \"Panza\", \"Demóstenes\", \"Benito\"]:\n",
    "    print(gato)"
   ]
  },
  {
   "cell_type": "markdown",
   "metadata": {},
   "source": [
    "### Iteración con  _for_ para objetos _list_ y _tuple_ que contienen objetos iterables.\n",
    "\n",
    "Suponiendo que se tuviera un objeto tipo _list_ o _tuple_, cuyos elementos también sean objetos iterables y que todos ellos sean del mismo tamaño, es posible asignar un nombre por cada elemento contenido dentro los iterables que su vez están contenidos en el objeto _list_ o _tuple_:\n",
    "\n",
    "**Ejemplo:**"
   ]
  },
  {
   "cell_type": "code",
   "execution_count": null,
   "metadata": {},
   "outputs": [],
   "source": [
    "vehiculos = (('automóvil', 50, 'gasolina'),\n",
    "             ('autobús', 300, 'diesel'),\n",
    "             ('helicóptero', 2000, 'turbodiesel'),\n",
    "             ('velero', 0, 'N/A'))"
   ]
  },
  {
   "cell_type": "code",
   "execution_count": null,
   "metadata": {},
   "outputs": [],
   "source": [
    "for vehiculo in vehiculos:\n",
    "    print(len(vehiculo))"
   ]
  },
  {
   "cell_type": "code",
   "execution_count": null,
   "metadata": {},
   "outputs": [],
   "source": [
    "tipos, capacidades, combustibles = [], [], []"
   ]
  },
  {
   "cell_type": "markdown",
   "metadata": {},
   "source": [
    "La siguiente declaración con *for* asignará a cada nombre un elemento dentro de cada objeto _tuple_ que a su vez está contenido en el objeto _tuple_ llamado _vehiculos_."
   ]
  },
  {
   "cell_type": "code",
   "execution_count": null,
   "metadata": {},
   "outputs": [],
   "source": [
    "for tipo, capacidad, combustible in vehiculos:\n",
    "    tipos.append(tipo)\n",
    "    capacidades.append(capacidad)\n",
    "    combustibles.append(combustible)"
   ]
  },
  {
   "cell_type": "code",
   "execution_count": null,
   "metadata": {},
   "outputs": [],
   "source": [
    "capacidades"
   ]
  },
  {
   "cell_type": "code",
   "execution_count": null,
   "metadata": {},
   "outputs": [],
   "source": [
    "combustibles"
   ]
  },
  {
   "cell_type": "code",
   "execution_count": null,
   "metadata": {},
   "outputs": [],
   "source": [
    "tipos"
   ]
  },
  {
   "cell_type": "markdown",
   "metadata": {},
   "source": [
    "## \"Aliasing\". \n",
    "\n",
    "Al \"rebanar\" un objeto, se crea un nuevo objeto que hace referencia a los elementos existentes en el objeto original.\n",
    "\n",
    "Esto significa que aún cuando el objeto resultante del \"rebanado\" es nuevo, los elementos que comparten el objeto original y el objeto \"rebanado\", son exactamente los mismos.\n",
    "\n",
    "**Ejemplo: **"
   ]
  },
  {
   "cell_type": "code",
   "execution_count": null,
   "metadata": {},
   "outputs": [],
   "source": [
    "lista_1 = [12, True, \"lapicero\"]"
   ]
  },
  {
   "cell_type": "code",
   "execution_count": null,
   "metadata": {},
   "outputs": [],
   "source": [
    "id(lista_1)"
   ]
  },
  {
   "cell_type": "code",
   "execution_count": null,
   "metadata": {},
   "outputs": [],
   "source": [
    "lista_2 = lista_1[:]"
   ]
  },
  {
   "cell_type": "code",
   "execution_count": null,
   "metadata": {},
   "outputs": [],
   "source": [
    "id(lista_2)"
   ]
  },
  {
   "cell_type": "code",
   "execution_count": null,
   "metadata": {},
   "outputs": [],
   "source": [
    "for elemento in lista_1: \n",
    "    print(id(elemento))"
   ]
  },
  {
   "cell_type": "code",
   "execution_count": null,
   "metadata": {},
   "outputs": [],
   "source": [
    "for elemento in lista_2: \n",
    "    print(id(elemento))"
   ]
  },
  {
   "cell_type": "markdown",
   "metadata": {},
   "source": [
    "Cuando se modifican los elementos del objeto de tipo _list_ mediante el operador (_=_) o la declaración _del_, el nuevo objeto de tipo _list_ no es afectado.\n",
    "\n",
    "**Ejemplo:**"
   ]
  },
  {
   "cell_type": "code",
   "execution_count": null,
   "metadata": {},
   "outputs": [],
   "source": [
    "lista_1 = [1, 2, 3]"
   ]
  },
  {
   "cell_type": "code",
   "execution_count": null,
   "metadata": {},
   "outputs": [],
   "source": [
    "lista_2 = lista_1[:]"
   ]
  },
  {
   "cell_type": "code",
   "execution_count": null,
   "metadata": {},
   "outputs": [],
   "source": [
    "lista_1[1] = True"
   ]
  },
  {
   "cell_type": "code",
   "execution_count": null,
   "metadata": {},
   "outputs": [],
   "source": [
    "del lista_1[0]"
   ]
  },
  {
   "cell_type": "code",
   "execution_count": null,
   "metadata": {},
   "outputs": [],
   "source": [
    "lista_1"
   ]
  },
  {
   "cell_type": "code",
   "execution_count": null,
   "metadata": {},
   "outputs": [],
   "source": [
    "lista_2"
   ]
  },
  {
   "cell_type": "markdown",
   "metadata": {},
   "source": [
    "Sin embargo, cuando hay un elemento mutable dentro del objeto original y éste elemento modifica su contenido en cualquiera de los objetos (ya sea el original o los resultantes del proceso de \"rebanado\"), ésto repercutirá en todos y cada uno de los objetos, aún cuando el contenedor sea inmutable.\n",
    "\n",
    "**Ejemplo:**\n",
    "\n",
    "A partir de un objeto de tipo _list_ llamado _lista\\_1_se creará un objeto de tipo _list_ llamado _lista\\_2_ y otro de tipo _tuple_, con nombre _tupla, por medio de \"rebanado\".   "
   ]
  },
  {
   "cell_type": "code",
   "execution_count": null,
   "metadata": {},
   "outputs": [],
   "source": [
    "lista_1 = [1, 2, ['b', 'c']]"
   ]
  },
  {
   "cell_type": "code",
   "execution_count": null,
   "metadata": {},
   "outputs": [],
   "source": [
    "lista_2 = lista_1[:]\n",
    "lista_2"
   ]
  },
  {
   "cell_type": "code",
   "execution_count": null,
   "metadata": {},
   "outputs": [],
   "source": [
    "tupla = tuple(lista_1[:])\n",
    "tupla"
   ]
  },
  {
   "cell_type": "markdown",
   "metadata": {},
   "source": [
    "Como ya se mostró, modificar los elementos dentro de cada objeto no tiene consecuencias."
   ]
  },
  {
   "cell_type": "code",
   "execution_count": null,
   "metadata": {},
   "outputs": [],
   "source": [
    "lista_1[0] = \"Hola\""
   ]
  },
  {
   "cell_type": "code",
   "execution_count": null,
   "metadata": {},
   "outputs": [],
   "source": [
    "del lista_2[1]"
   ]
  },
  {
   "cell_type": "code",
   "execution_count": null,
   "metadata": {},
   "outputs": [],
   "source": [
    "lista_1"
   ]
  },
  {
   "cell_type": "code",
   "execution_count": null,
   "metadata": {},
   "outputs": [],
   "source": [
    "lista_2"
   ]
  },
  {
   "cell_type": "code",
   "execution_count": null,
   "metadata": {},
   "outputs": [],
   "source": [
    "tupla"
   ]
  },
  {
   "cell_type": "code",
   "execution_count": null,
   "metadata": {},
   "outputs": [],
   "source": [
    "del tupla[2]"
   ]
  },
  {
   "cell_type": "markdown",
   "metadata": {},
   "source": [
    "Sin embargo, al modificar el contenido de un elemento mutable que es compartido por todos los objetos; dicho cambio se aplicará de forma generalizada.\n",
    " \n",
    "En este caso, se eliminará el primer elemento del objeto de tipo _list_ contenido en todos los objetos. "
   ]
  },
  {
   "cell_type": "code",
   "execution_count": null,
   "metadata": {},
   "outputs": [],
   "source": [
    "del lista_2[1][0]"
   ]
  },
  {
   "cell_type": "code",
   "execution_count": null,
   "metadata": {},
   "outputs": [],
   "source": [
    "lista_1"
   ]
  },
  {
   "cell_type": "code",
   "execution_count": null,
   "metadata": {},
   "outputs": [],
   "source": [
    "lista_2"
   ]
  },
  {
   "cell_type": "code",
   "execution_count": null,
   "metadata": {},
   "outputs": [],
   "source": [
    "tupla"
   ]
  },
  {
   "cell_type": "markdown",
   "metadata": {},
   "source": [
    "A esto se le conoce como \"aliasing\" y puede tener resultados inesperados si no se toman en cuenta sus efectos.\n",
    "\n",
    "## Legibilidad al definir una colección de objetos.\n",
    "\n",
    "Los objetos de tipo _list_, _tuple_, _dict_, etc., no toman en cuenta espacios, tabuladores o saltos de linea después de las comas, por lo que con fines de legibilidad se recomienda definir dichos objetos de la siguiente manera.\n",
    "\n",
    "**Ejemplo:**"
   ]
  },
  {
   "cell_type": "code",
   "execution_count": null,
   "metadata": {},
   "outputs": [],
   "source": [
    "vehiculos = [['automóvil', 50, 'gasolina'],\n",
    "             ['autobús', 300, 'diesel'], \n",
    "             ['helicóptero', 2000, 'turbodiesel'],\n",
    "             ['velero', 0, 'N/A']]"
   ]
  },
  {
   "cell_type": "code",
   "execution_count": null,
   "metadata": {},
   "outputs": [],
   "source": [
    "vehiculos"
   ]
  },
  {
   "cell_type": "markdown",
   "metadata": {},
   "source": [
    "## Funciones útiles con los objetos tipo _list_ y tipo _tuple_. \n",
    "\n",
    "### La función _len()_.\n",
    "\n",
    "La función _len()_ devuelve el número de objetos contenidos en una colección de objetos mediante la siguiente sintaxis:\n",
    "\n",
    "```\n",
    "len(<objeto>)\n",
    "```\n",
    "\n",
    "**Ejemplos:**"
   ]
  },
  {
   "cell_type": "code",
   "execution_count": null,
   "metadata": {},
   "outputs": [],
   "source": [
    "len([1, 2, 3, 4, 5])"
   ]
  },
  {
   "cell_type": "code",
   "execution_count": null,
   "metadata": {},
   "outputs": [],
   "source": [
    "len(('gato', 'perro', True))"
   ]
  },
  {
   "cell_type": "code",
   "execution_count": null,
   "metadata": {},
   "outputs": [],
   "source": [
    "len([('automóvil', 50, 'gasolina'), ['autobús', 300, 'diesel']])"
   ]
  },
  {
   "cell_type": "code",
   "execution_count": null,
   "metadata": {},
   "outputs": [],
   "source": [
    "len([('automóvil', 50, 'gasolina'), ['autobús', 300, 'diesel']][1])"
   ]
  },
  {
   "cell_type": "code",
   "execution_count": null,
   "metadata": {},
   "outputs": [],
   "source": [
    "len([])"
   ]
  },
  {
   "cell_type": "code",
   "execution_count": null,
   "metadata": {},
   "outputs": [],
   "source": [
    "[('automóvil', 50, 'gasolina'), ['autobús', 300, 'diesel']][1]"
   ]
  },
  {
   "cell_type": "code",
   "execution_count": null,
   "metadata": {},
   "outputs": [],
   "source": [
    "[('automóvil', 50, 'gasolina'), ['autobús', 300, 'diesel']][1].__len__()"
   ]
  },
  {
   "cell_type": "markdown",
   "metadata": {},
   "source": [
    "### La función _max()_.\n",
    "\n",
    "La función _max()_ devuelve el elemento de mayor valor contenido en una colección, siempre y cuando dichos objetos sean compatibles, mediante la siguiente sintaxis:\n",
    "  \n",
    "```\n",
    "max(<objeto>)\n",
    "```\n",
    "\n",
    "**Ejemplos:**"
   ]
  },
  {
   "cell_type": "code",
   "execution_count": null,
   "metadata": {},
   "outputs": [],
   "source": [
    "max([1, 2, 3, 4, 5])"
   ]
  },
  {
   "cell_type": "code",
   "execution_count": null,
   "metadata": {},
   "outputs": [],
   "source": [
    "max(('gato', 'perro', True))"
   ]
  },
  {
   "cell_type": "code",
   "execution_count": null,
   "metadata": {},
   "outputs": [],
   "source": [
    "max(('gato', 'perro', 'canario', 'pluto'))"
   ]
  },
  {
   "cell_type": "markdown",
   "metadata": {},
   "source": [
    "### La función _min()_.\n",
    "\n",
    "La función _min()_ devuelve el elemento de menor valor contenido en una colección, siempre y cuando dichos objetos sean compatibles, mediante la siguiente sintaxis:\n",
    "  \n",
    "```\n",
    "min(<objeto>)\n",
    "```\n",
    "\n",
    "**Ejemplos:**"
   ]
  },
  {
   "cell_type": "code",
   "execution_count": null,
   "metadata": {},
   "outputs": [],
   "source": [
    "min([1, 2, 3, 4, 5])"
   ]
  },
  {
   "cell_type": "code",
   "execution_count": null,
   "metadata": {},
   "outputs": [],
   "source": [
    "min(('gato', 'perro', True))"
   ]
  },
  {
   "cell_type": "code",
   "execution_count": null,
   "metadata": {},
   "outputs": [],
   "source": [
    "min(('gato', 'perro', 'canario'))"
   ]
  },
  {
   "cell_type": "markdown",
   "metadata": {},
   "source": [
    "### La función _sum()_.\n",
    "\n",
    "La función _sum()_ devuelve la suma los elementos contenido en una colección, siempre y cuando dichos objetos sean compatibles, mediante la siguiente sintaxis:\n",
    "  \n",
    "```\n",
    "sum(<objeto>)\n",
    "```\n",
    "\n",
    "**Ejemplos:**"
   ]
  },
  {
   "cell_type": "code",
   "execution_count": null,
   "metadata": {},
   "outputs": [],
   "source": [
    "sum([1, 2, 3, 4, 5])"
   ]
  },
  {
   "cell_type": "code",
   "execution_count": null,
   "metadata": {},
   "outputs": [],
   "source": [
    "sum(('gato', 'perro', True))"
   ]
  },
  {
   "cell_type": "code",
   "execution_count": null,
   "metadata": {},
   "outputs": [],
   "source": [
    "sum(('gato', 'perro'))"
   ]
  },
  {
   "cell_type": "code",
   "execution_count": null,
   "metadata": {},
   "outputs": [],
   "source": [
    "sum((b'gato', b'perro'))"
   ]
  },
  {
   "cell_type": "markdown",
   "metadata": {},
   "source": [
    "<p style=\"text-align: center\"><a rel=\"license\" href=\"http://creativecommons.org/licenses/by/4.0/\"><img alt=\"Licencia Creative Commons\" style=\"border-width:0\" src=\"https://i.creativecommons.org/l/by/4.0/80x15.png\" /></a><br />Esta obra está bajo una <a rel=\"license\" href=\"http://creativecommons.org/licenses/by/4.0/\">Licencia Creative Commons Atribución 4.0 Internacional</a>.</p>\n",
    "<p style=\"text-align: center\">&copy; José Luis Chiquete Valdivieso. 2019.</p>"
   ]
  }
 ],
 "metadata": {
  "kernelspec": {
   "display_name": "Python 3",
   "language": "python",
   "name": "python3"
  },
  "language_info": {
   "codemirror_mode": {
    "name": "ipython",
    "version": 3
   },
   "file_extension": ".py",
   "mimetype": "text/x-python",
   "name": "python",
   "nbconvert_exporter": "python",
   "pygments_lexer": "ipython3",
   "version": "3.6.6"
  }
 },
 "nbformat": 4,
 "nbformat_minor": 1
}
