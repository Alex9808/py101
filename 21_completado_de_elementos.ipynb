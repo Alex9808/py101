{
 "cells": [
  {
   "cell_type": "markdown",
   "metadata": {},
   "source": [
    "[![imagenes](imagenes/pythonista.png)](https://pythonista.mx)"
   ]
  },
  {
   "cell_type": "markdown",
   "metadata": {},
   "source": [
    "# Completado de elementos en objetos que contengan iterables\n",
    "\n",
    "Python permite insertar código que genere una serie de objetos mediante iteradores y condicionales. Este \"autollenado\" de elementos se conoce por su nombre en inglés \"comprehension\" y se puede apicar entre otros a objetos de tipo.\n",
    "\n",
    "* _list_.\n",
    "* _tuple_.\n",
    "* _dict_.\n",
    "* _set_.\n",
    "* _forzenset_.\n",
    "\n",
    "## Completado de elementos en objetos de tipo _list_.\n",
    "\n",
    "La sintaxis es la siguente para un objeto de tipo _list_.\n",
    "```\n",
    "        [<expresión que puede incluir a <nombre>> for <nombre> in <objeto iterable> if <expresión lógica que puede implicar a <nombre>>]\n",
    "```\n",
    "El proceso de completado es el siguiente:\n",
    "* Realiza la iteración definida por la expresión _for_ .. *in*.\n",
    "* A cada elemento iterado le aplica la condición lógica.\n",
    "* Si la condición lógica se cumple, añade el resultado de la expresión aplicada al elemento.\n",
    "\n",
    "Es válido no incluir una expresión condicional.\n",
    "\n",
    "**Ejemplos:**"
   ]
  },
  {
   "cell_type": "code",
   "execution_count": 1,
   "metadata": {},
   "outputs": [
    {
     "data": {
      "text/plain": [
       "['H', 'o', 'l', 'a']"
      ]
     },
     "execution_count": 1,
     "metadata": {},
     "output_type": "execute_result"
    }
   ],
   "source": [
    "[x for x in 'Hola']"
   ]
  },
  {
   "cell_type": "code",
   "execution_count": 2,
   "metadata": {},
   "outputs": [
    {
     "data": {
      "text/plain": [
       "[10, 20, 30, 40, 50, 60, 70, 80, 90, 100]"
      ]
     },
     "execution_count": 2,
     "metadata": {},
     "output_type": "execute_result"
    }
   ],
   "source": [
    "[5 * x for x in range(1, 21) if x % 2 == 0]"
   ]
  },
  {
   "cell_type": "code",
   "execution_count": 3,
   "metadata": {},
   "outputs": [
    {
     "data": {
      "text/plain": [
       "['P', 'R', 'N', 'G', 'R', 'C', 'T', 'R', 'M', 'C', 'R']"
      ]
     },
     "execution_count": 3,
     "metadata": {},
     "output_type": "execute_result"
    }
   ],
   "source": [
    "[letra.upper() for letra in 'Parangaricutirimicuaro' if letra.lower() not in ['a', 'e', 'i', 'o', 'u']]"
   ]
  },
  {
   "cell_type": "markdown",
   "metadata": {},
   "source": [
    "Usando el último ejemplo, el código sin utilizar completado de elementos sería algo similar a lo siguiente:"
   ]
  },
  {
   "cell_type": "code",
   "execution_count": 4,
   "metadata": {},
   "outputs": [],
   "source": [
    "lista = []\n",
    "for letra in 'Parangaricutirimicuaro':\n",
    "    if letra.lower() not in ['a', 'e', 'i', 'o', 'u']:\n",
    "        lista.append(letra.upper())"
   ]
  },
  {
   "cell_type": "code",
   "execution_count": 5,
   "metadata": {},
   "outputs": [
    {
     "name": "stdout",
     "output_type": "stream",
     "text": [
      "['P', 'R', 'N', 'G', 'R', 'C', 'T', 'R', 'M', 'C', 'R']\n"
     ]
    }
   ],
   "source": [
    "print(lista)"
   ]
  },
  {
   "cell_type": "markdown",
   "metadata": {},
   "source": [
    "### Completado con *if* ... *else*.\n",
    "\n",
    "Es posible utilizar la estructura *if* ... *else * con la siguiente sintaxis:\n",
    "\n",
    "```\n",
    "[<expresión que puede incluir a <nombre>> if <condición lógica que puede implicar a <nombre>> else <expresión que puede incluir a <nombre>> for <nombre> in <objeto iterable>]\n",
    "```\n",
    "**Ejemplos:**"
   ]
  },
  {
   "cell_type": "code",
   "execution_count": 6,
   "metadata": {},
   "outputs": [
    {
     "data": {
      "text/plain": [
       "[5, 2, 15, 4, 25, 6, 35, 8, 45, 10, 55, 12, 65, 14, 75, 16, 85, 18, 95, 20]"
      ]
     },
     "execution_count": 6,
     "metadata": {},
     "output_type": "execute_result"
    }
   ],
   "source": [
    "[x if x % 2 == 0 else 5 * x for x in range(1, 21)]"
   ]
  },
  {
   "cell_type": "code",
   "execution_count": 7,
   "metadata": {},
   "outputs": [
    {
     "data": {
      "text/plain": [
       "['C', 'H', 'a', 'P', 'u', 'L', 'T', 'e', 'P', 'e', 'C']"
      ]
     },
     "execution_count": 7,
     "metadata": {},
     "output_type": "execute_result"
    }
   ],
   "source": [
    "[letra.upper() if letra.lower() not in ['a', 'e', 'i', 'o', 'u'] else letra.lower() for letra in 'chapultepec']"
   ]
  },
  {
   "cell_type": "markdown",
   "metadata": {},
   "source": [
    "## Completado de elementos en objetos de tipo _tuple_.\n",
    "\n",
    "Cuando se utiliza el completado en un objeto tipo *tuple*, el objeto resultante es un generador.\n",
    "\n",
    "**Ejemplo:**\n"
   ]
  },
  {
   "cell_type": "code",
   "execution_count": 8,
   "metadata": {},
   "outputs": [],
   "source": [
    "generador = (5 * x for x in range(1, 21) if x % 2 == 0)"
   ]
  },
  {
   "cell_type": "code",
   "execution_count": 9,
   "metadata": {},
   "outputs": [
    {
     "data": {
      "text/plain": [
       "generator"
      ]
     },
     "execution_count": 9,
     "metadata": {},
     "output_type": "execute_result"
    }
   ],
   "source": [
    "type(generador)"
   ]
  },
  {
   "cell_type": "code",
   "execution_count": 10,
   "metadata": {},
   "outputs": [
    {
     "name": "stdout",
     "output_type": "stream",
     "text": [
      "<generator object <genexpr> at 0x000001AD6A394B88>\n"
     ]
    }
   ],
   "source": [
    "print(generador)"
   ]
  },
  {
   "cell_type": "code",
   "execution_count": 11,
   "metadata": {},
   "outputs": [
    {
     "name": "stdout",
     "output_type": "stream",
     "text": [
      "10\n",
      "20\n",
      "30\n",
      "40\n",
      "50\n",
      "60\n",
      "70\n",
      "80\n",
      "90\n",
      "100\n"
     ]
    }
   ],
   "source": [
    "for item in generador:\n",
    "    print(item)"
   ]
  },
  {
   "cell_type": "markdown",
   "metadata": {},
   "source": [
    "## Completado de elementos en objetos de tipo _dict_.\n",
    "\n",
    "En este caso, lo más común es que el elemento iterable sea el identificador.\n",
    "\n",
    "Sintaxis:\n",
    "```\n",
    "{<expresión que podría incluir a  <nombre>>:<expresión que podría incluir a  <nombre>>  for <variable> in <objeto iterable> if <expresión lógica que podría implicar a <nombre>>}\n",
    "```"
   ]
  },
  {
   "cell_type": "markdown",
   "metadata": {},
   "source": [
    "**Ejemplo:** \n",
    "\n",
    "* Las siguientes celdas definirán una serie de identificadores en *campos*, los cuales serán utilizados como el objeto iterable en el completado de objetos tipo *dict*. \n",
    "* En cada iteración se ejecutará la función *input()* y el texto ingresado será asociado al identificador correspondiente."
   ]
  },
  {
   "cell_type": "code",
   "execution_count": 12,
   "metadata": {},
   "outputs": [],
   "source": [
    "campos = ('nombre', 'primer apellido', 'segundo apellido', 'correo')"
   ]
  },
  {
   "cell_type": "code",
   "execution_count": 13,
   "metadata": {},
   "outputs": [
    {
     "name": "stdout",
     "output_type": "stream",
     "text": [
      "Ingrese nombre: Jose\n",
      "Ingrese primer apellido: Perez\n",
      "Ingrese segundo apellido: Sanchez\n",
      "Ingrese correo: wetrwert@qwdqwae\n"
     ]
    },
    {
     "data": {
      "text/plain": [
       "{'nombre': 'Jose',\n",
       " 'primer apellido': 'Perez',\n",
       " 'segundo apellido': 'Sanchez',\n",
       " 'correo': 'wetrwert@qwdqwae'}"
      ]
     },
     "execution_count": 13,
     "metadata": {},
     "output_type": "execute_result"
    }
   ],
   "source": [
    "{campo: input('Ingrese {}: '.format(campo)) for campo in campos}"
   ]
  },
  {
   "cell_type": "markdown",
   "metadata": {},
   "source": [
    "<p style=\"text-align: center\"><a rel=\"license\" href=\"http://creativecommons.org/licenses/by/4.0/\"><img alt=\"Licencia Creative Commons\" style=\"border-width:0\" src=\"https://i.creativecommons.org/l/by/4.0/80x15.png\" /></a><br />Esta obra está bajo una <a rel=\"license\" href=\"http://creativecommons.org/licenses/by/4.0/\">Licencia Creative Commons Atribución 4.0 Internacional</a>.</p>\n",
    "<p style=\"text-align: center\">&copy; José Luis Chiquete Valdivieso. 2019.</p>"
   ]
  }
 ],
 "metadata": {
  "kernelspec": {
   "display_name": "Python 3",
   "language": "python",
   "name": "python3"
  },
  "language_info": {
   "codemirror_mode": {
    "name": "ipython",
    "version": 3
   },
   "file_extension": ".py",
   "mimetype": "text/x-python",
   "name": "python",
   "nbconvert_exporter": "python",
   "pygments_lexer": "ipython3",
   "version": "3.7.3"
  }
 },
 "nbformat": 4,
 "nbformat_minor": 1
}
