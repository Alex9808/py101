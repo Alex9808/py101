{
 "cells": [
  {
   "cell_type": "markdown",
   "metadata": {},
   "source": [
    "[![imagenes](imagenes/pythonista.png)](https://pythonista.mx)"
   ]
  },
  {
   "cell_type": "markdown",
   "metadata": {},
   "source": [
    "## Expresiones.\n",
    "\n",
    "Una expresión es una combinación de valores, operadores, funciones y métodos que da por resultado un valor en una sola línea.\n",
    "\n",
    "**Ejemplos:**"
   ]
  },
  {
   "cell_type": "markdown",
   "metadata": {},
   "source": [
    "* La siguiente es una expresión aritmética."
   ]
  },
  {
   "cell_type": "code",
   "execution_count": null,
   "metadata": {},
   "outputs": [],
   "source": [
    "1 + 1"
   ]
  },
  {
   "cell_type": "markdown",
   "metadata": {},
   "source": [
    "* La siguiente es una expresión de relación que evalúa si *45* es mayor o igual a *11*. El resultado es un valor de tipo booleano."
   ]
  },
  {
   "cell_type": "code",
   "execution_count": null,
   "metadata": {},
   "outputs": [],
   "source": [
    "45 >= 11"
   ]
  },
  {
   "cell_type": "markdown",
   "metadata": {},
   "source": [
    "* La siguiente expresión ejecuta un método propio de los objetos tipo *str*. En este caso, convierte todas las letras del texto  en  mayúsculas."
   ]
  },
  {
   "cell_type": "code",
   "execution_count": null,
   "metadata": {},
   "outputs": [],
   "source": [
    "\"carro\".upper()"
   ]
  },
  {
   "cell_type": "markdown",
   "metadata": {},
   "source": [
    "## Declaraciones (Statements).\n",
    "\n",
    "Las declaraciones son unidades de código que el interprete de Python puede ejecutar. En realidad una declaración es un tipo de expresión.\n",
    "\n",
    "**Ejemplo:**"
   ]
  },
  {
   "cell_type": "code",
   "execution_count": null,
   "metadata": {},
   "outputs": [],
   "source": [
    "y = 0\n",
    "for x in range(25):\n",
    "    y += x \n",
    "print(y)"
   ]
  },
  {
   "cell_type": "markdown",
   "metadata": {},
   "source": [
    "El intérprete de Python permite ejecutar múltiples expresiones en una sola línea, el final de una expresión se denota usando el signo de punto y coma \"*;*\". Al usar esta sintaxis, el intérprete sólo se desplegará el resultado de la última expresión ejecutada."
   ]
  },
  {
   "cell_type": "markdown",
   "metadata": {},
   "source": [
    "**Ejemplos:**"
   ]
  },
  {
   "cell_type": "markdown",
   "metadata": {},
   "source": [
    "A continuación se ejecutarán varias expresiones en una sola línea."
   ]
  },
  {
   "cell_type": "code",
   "execution_count": null,
   "metadata": {},
   "outputs": [],
   "source": [
    "a = 3; b = \"hola\".upper(); b; a + 5"
   ]
  },
  {
   "cell_type": "markdown",
   "metadata": {},
   "source": [
    "* Todas las expresiones se ejecutaron, pero sólo la última será desplegada."
   ]
  },
  {
   "cell_type": "code",
   "execution_count": null,
   "metadata": {},
   "outputs": [],
   "source": [
    "a"
   ]
  },
  {
   "cell_type": "code",
   "execution_count": null,
   "metadata": {},
   "outputs": [],
   "source": [
    "b"
   ]
  },
  {
   "cell_type": "markdown",
   "metadata": {},
   "source": [
    "* Si la última expresión también termina con un punto y coma, tampoco será desplegada."
   ]
  },
  {
   "cell_type": "code",
   "execution_count": null,
   "metadata": {},
   "outputs": [],
   "source": [
    "a += 11; b + \" amigos.\"; a == 1;"
   ]
  },
  {
   "cell_type": "code",
   "execution_count": null,
   "metadata": {},
   "outputs": [],
   "source": [
    "a"
   ]
  },
  {
   "cell_type": "markdown",
   "metadata": {},
   "source": [
    "**Advertencia:** No se recomienda usar este recurso ya que se corre el riesgo de ofuscar el código innecesariamente."
   ]
  },
  {
   "cell_type": "markdown",
   "metadata": {},
   "source": [
    "## Expresiones en el entorno interactivo.\n",
    "\n",
    "La interfaz interactiva evalúa las expresiones tan pronto como son ingresadas y en su caso, despliega el resultado.\n",
    "\n",
    "**Ejemplos:**"
   ]
  },
  {
   "cell_type": "code",
   "execution_count": null,
   "metadata": {
    "scrolled": true
   },
   "outputs": [],
   "source": [
    "4 * 3"
   ]
  },
  {
   "cell_type": "code",
   "execution_count": null,
   "metadata": {},
   "outputs": [],
   "source": [
    "15 == 25"
   ]
  },
  {
   "cell_type": "code",
   "execution_count": null,
   "metadata": {},
   "outputs": [],
   "source": [
    "'hola' + ' mundo'"
   ]
  },
  {
   "cell_type": "markdown",
   "metadata": {},
   "source": [
    "## Expresiones al ejecutar un script.\n",
    "\n",
    "A diferencia del entorno interactivo, el intérprete de Python no despliega el resultado de las expresiones cuando éste ejecuta un script."
   ]
  },
  {
   "cell_type": "markdown",
   "metadata": {},
   "source": [
    "**Ejemplo:**"
   ]
  },
  {
   "cell_type": "markdown",
   "metadata": {},
   "source": [
    "* El archivos [codigo/expresiones.py](codigo/expresiones.py) contiene el siguiente código:\n",
    "\n",
    "``` python\n",
    "#! /usr/bin/python3\n",
    "4 * 3\n",
    "15 == 25\n",
    "'hola' + ' mundo'\n",
    "```\n",
    "\n",
    "* Como se puede apreciar, el código ejecutará varias expresiones.\n",
    "\n",
    "Por defecto, la manera en las que un script puede desplegar el resultado de una expresión en una terminal es mediante las función *print()*."
   ]
  },
  {
   "cell_type": "markdown",
   "metadata": {},
   "source": [
    "* La siguiente celda ejecutará el script usando el comando mágico *%run*. El resultado de cada expresión no será visible."
   ]
  },
  {
   "cell_type": "code",
   "execution_count": null,
   "metadata": {},
   "outputs": [],
   "source": [
    "%run codigo/expresiones.py"
   ]
  },
  {
   "cell_type": "markdown",
   "metadata": {},
   "source": [
    "* El resultado es el mismo si se trata de ejecutar el script desde una terminal con el siguiente comando.\n",
    "\n",
    "``` bash\n",
    "$ python codigo/expresiones.py\n",
    "```"
   ]
  },
  {
   "cell_type": "markdown",
   "metadata": {},
   "source": [
    "Más adelante se discutirá el uso de la función *print()* para desplegar expresiones y mensajes."
   ]
  },
  {
   "cell_type": "markdown",
   "metadata": {},
   "source": [
    "## Los comandos mágicos de IPython.\n",
    "\n",
    "Las notebooks de Jupyter son una interfaz basada en web de *[IPython](https://ipython.org/)*, el cual es un intérprete avanzado el cual además de ejecutar expresiones y delcaraciones de Python, puede ejecutar instrucciones propias mendiante \"comandos mágicos\" o \"magics\". Para conocer más al respecto puede consultar la siguiente liga: http://ipython.readthedocs.io/en/stable/interactive/magics.html\n",
    "\n",
    "Los comandos mágicos de IPython vienen precedidos generalmente por uno o dos signos de porcentaje (*%*). "
   ]
  },
  {
   "cell_type": "markdown",
   "metadata": {},
   "source": [
    "### Ejecución de un script desde Jupyter.\n",
    "\n",
    "Para ejecutar un archivo de Python desde una notebook de Jupyter se utiliza la instrucción de IPython *%run*, la cual le indica a Jupyter ejecute el script."
   ]
  },
  {
   "cell_type": "markdown",
   "metadata": {},
   "source": [
    "**Ejemplos:**"
   ]
  },
  {
   "cell_type": "markdown",
   "metadata": {},
   "source": [
    "* Se ejecutará el script localizado en [codigo/holamundo.py](codigo/holamundo.py)"
   ]
  },
  {
   "cell_type": "code",
   "execution_count": null,
   "metadata": {},
   "outputs": [],
   "source": [
    "%run codigo/holamundo.py"
   ]
  },
  {
   "cell_type": "markdown",
   "metadata": {},
   "source": [
    "* Se ejecutará el script localizado en [codigo/holamundo2.py](codigo/holamundo2.py)\n",
    "* Este script desplegará un mensaje y abrirá una ventana que aceptará todos los caracteres que se escriban hasta que se presione la tecla <kbd>Intro</kbd>."
   ]
  },
  {
   "cell_type": "code",
   "execution_count": null,
   "metadata": {},
   "outputs": [],
   "source": [
    "%run codigo/holamundo2.py"
   ]
  },
  {
   "cell_type": "markdown",
   "metadata": {},
   "source": [
    "## Instrucciones a la línea de comandos desde Jupyter.\n",
    "\n",
    "Además de los comandos mágicos, IPython permite ejecutar comandos directamente al sistema operativo desde el que está corriendo el servidor de Jupyter mediante la siguiente sintaxis:\n",
    "\n",
    "```\n",
    "!<comando>\n",
    "```\n",
    "\n",
    "**Advertencia:** Sólo es posible ejecutar comandos que se ejecuten sin necesidad de mayor interacción con el sistema. Si existe algún tipo de interacción, la celda de ejecución se quedará bloqueada.\n",
    "\n",
    "**Ejemplo:**\n",
    "\n",
    "Se ejecutará el comando del sistema que enlista los contenidos de un directorio."
   ]
  },
  {
   "cell_type": "markdown",
   "metadata": {},
   "source": [
    "* Para Linux o MacOS X:"
   ]
  },
  {
   "cell_type": "code",
   "execution_count": null,
   "metadata": {},
   "outputs": [],
   "source": [
    "!ls"
   ]
  },
  {
   "cell_type": "markdown",
   "metadata": {},
   "source": [
    "* Para Windows/Linux:"
   ]
  },
  {
   "cell_type": "code",
   "execution_count": null,
   "metadata": {},
   "outputs": [],
   "source": [
    "!dir"
   ]
  },
  {
   "cell_type": "markdown",
   "metadata": {},
   "source": [
    "<p style=\"text-align: center\"><a rel=\"license\" href=\"http://creativecommons.org/licenses/by/4.0/\"><img alt=\"Licencia Creative Commons\" style=\"border-width:0\" src=\"https://i.creativecommons.org/l/by/4.0/80x15.png\" /></a><br />Esta obra está bajo una <a rel=\"license\" href=\"http://creativecommons.org/licenses/by/4.0/\">Licencia Creative Commons Atribución 4.0 Internacional</a>.</p>\n",
    "<p style=\"text-align: center\">&copy; José Luis Chiquete Valdivieso. 2019.</p>"
   ]
  }
 ],
 "metadata": {
  "kernelspec": {
   "display_name": "Python 3",
   "language": "python",
   "name": "python3"
  },
  "language_info": {
   "codemirror_mode": {
    "name": "ipython",
    "version": 3
   },
   "file_extension": ".py",
   "mimetype": "text/x-python",
   "name": "python",
   "nbconvert_exporter": "python",
   "pygments_lexer": "ipython3",
   "version": "3.6.6"
  }
 },
 "nbformat": 4,
 "nbformat_minor": 1
}
